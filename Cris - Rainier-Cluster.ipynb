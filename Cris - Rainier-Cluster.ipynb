{
 "cells": [
  {
   "cell_type": "code",
   "execution_count": 70,
   "metadata": {},
   "outputs": [],
   "source": [
    "import acquire\n",
    "import prep\n",
    "import split_scale\n",
    "\n",
    "import seaborn as sns"
   ]
  },
  {
   "cell_type": "code",
   "execution_count": 47,
   "metadata": {},
   "outputs": [],
   "source": [
    "import pandas as pd\n",
    "\n",
    "# read sql data from csv to minimize lag\n",
    "# df = pd.read_csv(r'/Users/mists/codeup-data-science/zillow-cluster/query_result.csv')\n",
    "df = pd.read_csv(r'/Users/cris/codeup-data-science/zillow-cluster/query_result.csv')"
   ]
  },
  {
   "cell_type": "code",
   "execution_count": 48,
   "metadata": {},
   "outputs": [],
   "source": [
    "# wrangle_zillow code here\n",
    "df = acquire.wrangle_zillow(df)"
   ]
  },
  {
   "cell_type": "code",
   "execution_count": 49,
   "metadata": {},
   "outputs": [],
   "source": [
    "df = prep.handle_missing_values(df,.90,.40)"
   ]
  },
  {
   "cell_type": "code",
   "execution_count": 50,
   "metadata": {},
   "outputs": [],
   "source": [
    "df = prep.clean_columns(df)"
   ]
  },
  {
   "cell_type": "code",
   "execution_count": 51,
   "metadata": {},
   "outputs": [],
   "source": [
    "df = prep.drop_minimal_nulls(df)"
   ]
  },
  {
   "cell_type": "code",
   "execution_count": 52,
   "metadata": {},
   "outputs": [],
   "source": [
    "df = prep.pretty_cols(df)"
   ]
  },
  {
   "cell_type": "code",
   "execution_count": 53,
   "metadata": {},
   "outputs": [],
   "source": [
    "df = prep.cal_taxrate(df)"
   ]
  },
  {
   "cell_type": "code",
   "execution_count": 54,
   "metadata": {},
   "outputs": [],
   "source": [
    "df.transactiondate = pd.to_datetime(df.transactiondate)\n",
    "df.countyid = df.countyid.astype(\"category\")"
   ]
  },
  {
   "cell_type": "code",
   "execution_count": 55,
   "metadata": {},
   "outputs": [],
   "source": [
    "train, test = split_scale.split_my_data(df, .80)"
   ]
  },
  {
   "cell_type": "code",
   "execution_count": 56,
   "metadata": {},
   "outputs": [],
   "source": [
    "train, test = prep.impute_lotsize_nulls(train, test)"
   ]
  },
  {
   "cell_type": "code",
   "execution_count": 57,
   "metadata": {},
   "outputs": [],
   "source": [
    "train = prep.feature_eng(train)\n",
    "test = prep.feature_eng(test)"
   ]
  },
  {
   "cell_type": "code",
   "execution_count": 58,
   "metadata": {},
   "outputs": [
    {
     "name": "stdout",
     "output_type": "stream",
     "text": [
      "<class 'pandas.core.frame.DataFrame'>\n",
      "Int64Index: 41680 entries, 28235 to 54472\n",
      "Data columns (total 15 columns):\n",
      "countyid           41680 non-null category\n",
      "latitude           41680 non-null int64\n",
      "longitude          41680 non-null int64\n",
      "yearbuilt          41680 non-null float64\n",
      "bathroomcnt        41680 non-null float64\n",
      "bedroomcnt         41680 non-null int64\n",
      "house_area         41680 non-null float64\n",
      "house_value        41680 non-null float64\n",
      "land_value         41680 non-null float64\n",
      "whole_area         41680 non-null float64\n",
      "whole_value        41680 non-null float64\n",
      "logerror           41680 non-null float64\n",
      "transactiondate    41680 non-null datetime64[ns]\n",
      "taxrate            41680 non-null float64\n",
      "land_area          41680 non-null float64\n",
      "dtypes: category(1), datetime64[ns](1), float64(10), int64(3)\n",
      "memory usage: 6.1 MB\n"
     ]
    }
   ],
   "source": [
    "train.info()"
   ]
  },
  {
   "cell_type": "markdown",
   "metadata": {},
   "source": [
    "---"
   ]
  },
  {
   "cell_type": "code",
   "execution_count": 65,
   "metadata": {},
   "outputs": [],
   "source": [
    "#transaction date is removed in train (for exploration purposes)\n",
    "trex = train.copy()\n",
    "trex = trex.drop(columns=\"transactiondate\")\n",
    "\n",
    "teex = test.copy()\n",
    "teex = teex.drop(columns=\"transactiondate\")"
   ]
  },
  {
   "cell_type": "code",
   "execution_count": 68,
   "metadata": {},
   "outputs": [],
   "source": [
    "trex, teex, uniform_scaler = split_scale.uniform_scaler(trex, teex)"
   ]
  },
  {
   "cell_type": "code",
   "execution_count": null,
   "metadata": {},
   "outputs": [],
   "source": [
    "trex"
   ]
  },
  {
   "cell_type": "code",
   "execution_count": null,
   "metadata": {},
   "outputs": [],
   "source": []
  }
 ],
 "metadata": {
  "kernelspec": {
   "display_name": "Python 3",
   "language": "python",
   "name": "python3"
  },
  "language_info": {
   "codemirror_mode": {
    "name": "ipython",
    "version": 3
   },
   "file_extension": ".py",
   "mimetype": "text/x-python",
   "name": "python",
   "nbconvert_exporter": "python",
   "pygments_lexer": "ipython3",
   "version": "3.7.3"
  }
 },
 "nbformat": 4,
 "nbformat_minor": 2
}
