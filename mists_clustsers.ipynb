{
 "cells": [
  {
   "cell_type": "code",
   "execution_count": 2,
   "metadata": {},
   "outputs": [],
   "source": [
    "import acquire"
   ]
  },
  {
   "cell_type": "code",
   "execution_count": 4,
   "metadata": {},
   "outputs": [],
   "source": [
    "df = acquire.get_sql_zillow()"
   ]
  },
  {
   "cell_type": "code",
   "execution_count": 5,
   "metadata": {},
   "outputs": [
    {
     "name": "stdout",
     "output_type": "stream",
     "text": [
      "<class 'pandas.core.frame.DataFrame'>\n",
      "RangeIndex: 77580 entries, 0 to 77579\n",
      "Data columns (total 69 columns):\n",
      "typeconstructiontypeid          223 non-null float64\n",
      "storytypeid                     50 non-null float64\n",
      "propertylandusetypeid           77580 non-null float64\n",
      "parcelid                        77580 non-null int64\n",
      "heatingorsystemtypeid           49572 non-null float64\n",
      "buildingclasstypeid             15 non-null float64\n",
      "architecturalstyletypeid        207 non-null float64\n",
      "airconditioningtypeid           25007 non-null float64\n",
      "id                              77580 non-null int64\n",
      "basementsqft                    50 non-null float64\n",
      "bathroomcnt                     77580 non-null float64\n",
      "bedroomcnt                      77580 non-null float64\n",
      "buildingqualitytypeid           49810 non-null float64\n",
      "calculatedbathnbr               76964 non-null float64\n",
      "decktypeid                      614 non-null float64\n",
      "finishedfloor1squarefeet        6037 non-null float64\n",
      "calculatedfinishedsquarefeet    77379 non-null float64\n",
      "finishedsquarefeet12            73924 non-null float64\n",
      "finishedsquarefeet13            42 non-null float64\n",
      "finishedsquarefeet15            3027 non-null float64\n",
      "finishedsquarefeet50            6037 non-null float64\n",
      "finishedsquarefeet6             386 non-null float64\n",
      "fips                            77580 non-null float64\n",
      "fireplacecnt                    8289 non-null float64\n",
      "fullbathcnt                     76964 non-null float64\n",
      "garagecarcnt                    25520 non-null float64\n",
      "garagetotalsqft                 25520 non-null float64\n",
      "hashottuborspa                  1539 non-null float64\n",
      "latitude                        77580 non-null float64\n",
      "longitude                       77580 non-null float64\n",
      "lotsizesquarefeet               69322 non-null float64\n",
      "poolcnt                         16174 non-null float64\n",
      "poolsizesum                     869 non-null float64\n",
      "pooltypeid10                    465 non-null float64\n",
      "pooltypeid2                     1074 non-null float64\n",
      "pooltypeid7                     15079 non-null float64\n",
      "propertycountylandusecode       77580 non-null object\n",
      "propertyzoningdesc              50477 non-null object\n",
      "rawcensustractandblock          77580 non-null float64\n",
      "regionidcity                    76108 non-null float64\n",
      "regionidcounty                  77580 non-null float64\n",
      "regionidneighborhood            30974 non-null float64\n",
      "regionidzip                     77530 non-null float64\n",
      "roomcnt                         77580 non-null float64\n",
      "threequarterbathnbr             10106 non-null float64\n",
      "unitcnt                         50704 non-null float64\n",
      "yardbuildingsqft17              2393 non-null float64\n",
      "yardbuildingsqft26              70 non-null float64\n",
      "yearbuilt                       77310 non-null float64\n",
      "numberofstories                 17599 non-null float64\n",
      "fireplaceflag                   172 non-null float64\n",
      "structuretaxvaluedollarcnt      77465 non-null float64\n",
      "taxvaluedollarcnt               77579 non-null float64\n",
      "assessmentyear                  77580 non-null float64\n",
      "landtaxvaluedollarcnt           77578 non-null float64\n",
      "taxamount                       77575 non-null float64\n",
      "taxdelinquencyflag              2900 non-null object\n",
      "taxdelinquencyyear              2900 non-null float64\n",
      "censustractandblock             77333 non-null float64\n",
      "airconditioningdesc             25007 non-null object\n",
      "architecturalstyledesc          207 non-null object\n",
      "buildingclassdesc               15 non-null object\n",
      "heatingorsystemdesc             49572 non-null object\n",
      "id                              77580 non-null int64\n",
      "logerror                        77580 non-null float64\n",
      "transactiondate                 77580 non-null object\n",
      "propertylandusedesc             77580 non-null object\n",
      "storydesc                       50 non-null object\n",
      "typeconstructiondesc            223 non-null object\n",
      "dtypes: float64(55), int64(3), object(11)\n",
      "memory usage: 40.8+ MB\n"
     ]
    }
   ],
   "source": [
    "df.info()"
   ]
  },
  {
   "cell_type": "code",
   "execution_count": null,
   "metadata": {},
   "outputs": [],
   "source": []
  }
 ],
 "metadata": {
  "kernelspec": {
   "display_name": "Python 3",
   "language": "python",
   "name": "python3"
  },
  "language_info": {
   "codemirror_mode": {
    "name": "ipython",
    "version": 3
   },
   "file_extension": ".py",
   "mimetype": "text/x-python",
   "name": "python",
   "nbconvert_exporter": "python",
   "pygments_lexer": "ipython3",
   "version": "3.7.3"
  }
 },
 "nbformat": 4,
 "nbformat_minor": 2
}
