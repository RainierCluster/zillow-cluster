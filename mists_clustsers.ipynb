{
 "cells": [
  {
   "cell_type": "code",
   "execution_count": 79,
   "metadata": {},
   "outputs": [],
   "source": [
    "import pandas as pd\n",
    "import numpy as np\n",
    "\n",
    "import seaborn as sns\n",
    "import matplotlib.pyplot as plt\n",
    "\n",
    "import acquire\n",
    "import prep\n",
    "import split_scale\n",
    "\n",
    "import warnings\n",
    "warnings.filterwarnings(\"ignore\")"
   ]
  },
  {
   "cell_type": "markdown",
   "metadata": {},
   "source": [
    "### Acquire"
   ]
  },
  {
   "cell_type": "markdown",
   "metadata": {},
   "source": [
    "Pull single unit properties with transactions in 2017 from sql"
   ]
  },
  {
   "cell_type": "code",
   "execution_count": 2,
   "metadata": {},
   "outputs": [],
   "source": [
    "df = pd.read_csv(r'/Users/mists/codeup-data-science/zillow-cluster/query_result.csv')"
   ]
  },
  {
   "cell_type": "code",
   "execution_count": 3,
   "metadata": {},
   "outputs": [],
   "source": [
    "df = acquire.wrangle_zillow(df)"
   ]
  },
  {
   "cell_type": "markdown",
   "metadata": {},
   "source": [
    "Check out data"
   ]
  },
  {
   "cell_type": "code",
   "execution_count": 4,
   "metadata": {},
   "outputs": [
    {
     "name": "stdout",
     "output_type": "stream",
     "text": [
      "<class 'pandas.core.frame.DataFrame'>\n",
      "Int64Index: 52292 entries, 77578 to 0\n",
      "Data columns (total 61 columns):\n",
      "parcelid                        52292 non-null int64\n",
      "basementsqft                    47 non-null float64\n",
      "bathroomcnt                     52292 non-null float64\n",
      "bedroomcnt                      52292 non-null int64\n",
      "buildingqualitytypeid           33632 non-null float64\n",
      "calculatedbathnbr               52158 non-null float64\n",
      "decktypeid                      388 non-null float64\n",
      "finishedfloor1squarefeet        4368 non-null float64\n",
      "calculatedfinishedsquarefeet    52211 non-null float64\n",
      "finishedsquarefeet12            52047 non-null float64\n",
      "finishedsquarefeet13            0 non-null float64\n",
      "finishedsquarefeet15            0 non-null float64\n",
      "finishedsquarefeet50            4368 non-null float64\n",
      "finishedsquarefeet6             164 non-null float64\n",
      "fips                            52292 non-null int64\n",
      "fireplacecnt                    7230 non-null float64\n",
      "fullbathcnt                     52158 non-null float64\n",
      "garagecarcnt                    17981 non-null float64\n",
      "garagetotalsqft                 17981 non-null float64\n",
      "hashottuborspa                  1514 non-null float64\n",
      "latitude                        52292 non-null int64\n",
      "longitude                       52292 non-null int64\n",
      "lotsizesquarefeet               51930 non-null float64\n",
      "poolcnt                         11072 non-null float64\n",
      "poolsizesum                     865 non-null float64\n",
      "pooltypeid10                    443 non-null float64\n",
      "pooltypeid2                     1071 non-null float64\n",
      "pooltypeid7                     9985 non-null float64\n",
      "propertycountylandusecode       52292 non-null object\n",
      "propertyzoningdesc              33738 non-null object\n",
      "rawcensustractandblock          52292 non-null float64\n",
      "regionidcity                    51256 non-null float64\n",
      "regionidcounty                  52292 non-null int64\n",
      "regionidneighborhood            18968 non-null float64\n",
      "regionidzip                     52266 non-null float64\n",
      "roomcnt                         52292 non-null int64\n",
      "threequarterbathnbr             6716 non-null float64\n",
      "unitcnt                         33734 non-null float64\n",
      "yardbuildingsqft17              1935 non-null float64\n",
      "yardbuildingsqft26              62 non-null float64\n",
      "yearbuilt                       52178 non-null float64\n",
      "numberofstories                 14528 non-null float64\n",
      "fireplaceflag                   81 non-null float64\n",
      "structuretaxvaluedollarcnt      52213 non-null float64\n",
      "taxvaluedollarcnt               52291 non-null float64\n",
      "assessmentyear                  52292 non-null int64\n",
      "landtaxvaluedollarcnt           52291 non-null float64\n",
      "taxamount                       52288 non-null float64\n",
      "taxdelinquencyflag              2066 non-null object\n",
      "taxdelinquencyyear              2066 non-null float64\n",
      "censustractandblock             52174 non-null float64\n",
      "airconditioningdesc             13610 non-null object\n",
      "architecturalstyledesc          70 non-null object\n",
      "buildingclassdesc               0 non-null object\n",
      "heatingorsystemdesc             33834 non-null object\n",
      "id.1                            52292 non-null int64\n",
      "logerror                        52292 non-null float64\n",
      "transactiondate                 52292 non-null object\n",
      "propertylandusedesc             52292 non-null object\n",
      "storydesc                       47 non-null object\n",
      "typeconstructiondesc            76 non-null object\n",
      "dtypes: float64(41), int64(9), object(11)\n",
      "memory usage: 24.7+ MB\n"
     ]
    }
   ],
   "source": [
    "df.info()"
   ]
  },
  {
   "cell_type": "code",
   "execution_count": 5,
   "metadata": {},
   "outputs": [
    {
     "data": {
      "text/html": [
       "<div>\n",
       "<style scoped>\n",
       "    .dataframe tbody tr th:only-of-type {\n",
       "        vertical-align: middle;\n",
       "    }\n",
       "\n",
       "    .dataframe tbody tr th {\n",
       "        vertical-align: top;\n",
       "    }\n",
       "\n",
       "    .dataframe thead th {\n",
       "        text-align: right;\n",
       "    }\n",
       "</style>\n",
       "<table border=\"1\" class=\"dataframe\">\n",
       "  <thead>\n",
       "    <tr style=\"text-align: right;\">\n",
       "      <th></th>\n",
       "      <th>parcelid</th>\n",
       "      <th>basementsqft</th>\n",
       "      <th>bathroomcnt</th>\n",
       "      <th>bedroomcnt</th>\n",
       "      <th>buildingqualitytypeid</th>\n",
       "      <th>calculatedbathnbr</th>\n",
       "      <th>decktypeid</th>\n",
       "      <th>finishedfloor1squarefeet</th>\n",
       "      <th>calculatedfinishedsquarefeet</th>\n",
       "      <th>finishedsquarefeet12</th>\n",
       "      <th>...</th>\n",
       "      <th>airconditioningdesc</th>\n",
       "      <th>architecturalstyledesc</th>\n",
       "      <th>buildingclassdesc</th>\n",
       "      <th>heatingorsystemdesc</th>\n",
       "      <th>id.1</th>\n",
       "      <th>logerror</th>\n",
       "      <th>transactiondate</th>\n",
       "      <th>propertylandusedesc</th>\n",
       "      <th>storydesc</th>\n",
       "      <th>typeconstructiondesc</th>\n",
       "    </tr>\n",
       "  </thead>\n",
       "  <tbody>\n",
       "    <tr>\n",
       "      <th>77578</th>\n",
       "      <td>12826780</td>\n",
       "      <td>NaN</td>\n",
       "      <td>2.0</td>\n",
       "      <td>3</td>\n",
       "      <td>6.0</td>\n",
       "      <td>2.0</td>\n",
       "      <td>NaN</td>\n",
       "      <td>NaN</td>\n",
       "      <td>1762.0</td>\n",
       "      <td>1762.0</td>\n",
       "      <td>...</td>\n",
       "      <td>NaN</td>\n",
       "      <td>NaN</td>\n",
       "      <td>NaN</td>\n",
       "      <td>Central</td>\n",
       "      <td>77612</td>\n",
       "      <td>0.007204</td>\n",
       "      <td>2017-09-25</td>\n",
       "      <td>Single Family Residential</td>\n",
       "      <td>NaN</td>\n",
       "      <td>NaN</td>\n",
       "    </tr>\n",
       "    <tr>\n",
       "      <th>77577</th>\n",
       "      <td>12773139</td>\n",
       "      <td>NaN</td>\n",
       "      <td>1.0</td>\n",
       "      <td>3</td>\n",
       "      <td>4.0</td>\n",
       "      <td>1.0</td>\n",
       "      <td>NaN</td>\n",
       "      <td>NaN</td>\n",
       "      <td>1032.0</td>\n",
       "      <td>1032.0</td>\n",
       "      <td>...</td>\n",
       "      <td>Central</td>\n",
       "      <td>NaN</td>\n",
       "      <td>NaN</td>\n",
       "      <td>Central</td>\n",
       "      <td>77611</td>\n",
       "      <td>0.037129</td>\n",
       "      <td>2017-09-21</td>\n",
       "      <td>Single Family Residential</td>\n",
       "      <td>NaN</td>\n",
       "      <td>NaN</td>\n",
       "    </tr>\n",
       "    <tr>\n",
       "      <th>77576</th>\n",
       "      <td>17239384</td>\n",
       "      <td>NaN</td>\n",
       "      <td>2.0</td>\n",
       "      <td>4</td>\n",
       "      <td>NaN</td>\n",
       "      <td>2.0</td>\n",
       "      <td>NaN</td>\n",
       "      <td>1612.0</td>\n",
       "      <td>1612.0</td>\n",
       "      <td>1612.0</td>\n",
       "      <td>...</td>\n",
       "      <td>NaN</td>\n",
       "      <td>NaN</td>\n",
       "      <td>NaN</td>\n",
       "      <td>NaN</td>\n",
       "      <td>77610</td>\n",
       "      <td>0.013209</td>\n",
       "      <td>2017-09-21</td>\n",
       "      <td>Single Family Residential</td>\n",
       "      <td>NaN</td>\n",
       "      <td>NaN</td>\n",
       "    </tr>\n",
       "    <tr>\n",
       "      <th>77575</th>\n",
       "      <td>11000655</td>\n",
       "      <td>NaN</td>\n",
       "      <td>2.0</td>\n",
       "      <td>2</td>\n",
       "      <td>6.0</td>\n",
       "      <td>2.0</td>\n",
       "      <td>NaN</td>\n",
       "      <td>NaN</td>\n",
       "      <td>1286.0</td>\n",
       "      <td>1286.0</td>\n",
       "      <td>...</td>\n",
       "      <td>NaN</td>\n",
       "      <td>NaN</td>\n",
       "      <td>NaN</td>\n",
       "      <td>Central</td>\n",
       "      <td>77609</td>\n",
       "      <td>0.020615</td>\n",
       "      <td>2017-09-20</td>\n",
       "      <td>Single Family Residential</td>\n",
       "      <td>NaN</td>\n",
       "      <td>NaN</td>\n",
       "    </tr>\n",
       "    <tr>\n",
       "      <th>77394</th>\n",
       "      <td>11388980</td>\n",
       "      <td>NaN</td>\n",
       "      <td>2.0</td>\n",
       "      <td>3</td>\n",
       "      <td>6.0</td>\n",
       "      <td>2.0</td>\n",
       "      <td>NaN</td>\n",
       "      <td>NaN</td>\n",
       "      <td>1518.0</td>\n",
       "      <td>1518.0</td>\n",
       "      <td>...</td>\n",
       "      <td>NaN</td>\n",
       "      <td>NaN</td>\n",
       "      <td>NaN</td>\n",
       "      <td>Floor/Wall</td>\n",
       "      <td>77428</td>\n",
       "      <td>0.023168</td>\n",
       "      <td>2017-09-19</td>\n",
       "      <td>Single Family Residential</td>\n",
       "      <td>NaN</td>\n",
       "      <td>NaN</td>\n",
       "    </tr>\n",
       "  </tbody>\n",
       "</table>\n",
       "<p>5 rows × 61 columns</p>\n",
       "</div>"
      ],
      "text/plain": [
       "       parcelid  basementsqft  bathroomcnt  bedroomcnt  buildingqualitytypeid  \\\n",
       "77578  12826780           NaN          2.0           3                    6.0   \n",
       "77577  12773139           NaN          1.0           3                    4.0   \n",
       "77576  17239384           NaN          2.0           4                    NaN   \n",
       "77575  11000655           NaN          2.0           2                    6.0   \n",
       "77394  11388980           NaN          2.0           3                    6.0   \n",
       "\n",
       "       calculatedbathnbr  decktypeid  finishedfloor1squarefeet  \\\n",
       "77578                2.0         NaN                       NaN   \n",
       "77577                1.0         NaN                       NaN   \n",
       "77576                2.0         NaN                    1612.0   \n",
       "77575                2.0         NaN                       NaN   \n",
       "77394                2.0         NaN                       NaN   \n",
       "\n",
       "       calculatedfinishedsquarefeet  finishedsquarefeet12  ...  \\\n",
       "77578                        1762.0                1762.0  ...   \n",
       "77577                        1032.0                1032.0  ...   \n",
       "77576                        1612.0                1612.0  ...   \n",
       "77575                        1286.0                1286.0  ...   \n",
       "77394                        1518.0                1518.0  ...   \n",
       "\n",
       "       airconditioningdesc  architecturalstyledesc  buildingclassdesc  \\\n",
       "77578                  NaN                     NaN                NaN   \n",
       "77577              Central                     NaN                NaN   \n",
       "77576                  NaN                     NaN                NaN   \n",
       "77575                  NaN                     NaN                NaN   \n",
       "77394                  NaN                     NaN                NaN   \n",
       "\n",
       "       heatingorsystemdesc   id.1  logerror  transactiondate  \\\n",
       "77578              Central  77612  0.007204       2017-09-25   \n",
       "77577              Central  77611  0.037129       2017-09-21   \n",
       "77576                  NaN  77610  0.013209       2017-09-21   \n",
       "77575              Central  77609  0.020615       2017-09-20   \n",
       "77394           Floor/Wall  77428  0.023168       2017-09-19   \n",
       "\n",
       "             propertylandusedesc  storydesc  typeconstructiondesc  \n",
       "77578  Single Family Residential        NaN                   NaN  \n",
       "77577  Single Family Residential        NaN                   NaN  \n",
       "77576  Single Family Residential        NaN                   NaN  \n",
       "77575  Single Family Residential        NaN                   NaN  \n",
       "77394  Single Family Residential        NaN                   NaN  \n",
       "\n",
       "[5 rows x 61 columns]"
      ]
     },
     "execution_count": 5,
     "metadata": {},
     "output_type": "execute_result"
    }
   ],
   "source": [
    "df.head()"
   ]
  },
  {
   "cell_type": "code",
   "execution_count": 6,
   "metadata": {},
   "outputs": [
    {
     "data": {
      "text/plain": [
       "(52292, 61)"
      ]
     },
     "execution_count": 6,
     "metadata": {},
     "output_type": "execute_result"
    }
   ],
   "source": [
    "df.shape"
   ]
  },
  {
   "cell_type": "markdown",
   "metadata": {},
   "source": [
    "### Prepare"
   ]
  },
  {
   "cell_type": "markdown",
   "metadata": {},
   "source": [
    "Remove columns, then rows with a missing values"
   ]
  },
  {
   "cell_type": "code",
   "execution_count": 7,
   "metadata": {},
   "outputs": [
    {
     "data": {
      "text/plain": [
       "(52292, 28)"
      ]
     },
     "execution_count": 7,
     "metadata": {},
     "output_type": "execute_result"
    }
   ],
   "source": [
    "prep.handle_missing_values(df, .90, .40).shape"
   ]
  },
  {
   "cell_type": "code",
   "execution_count": 8,
   "metadata": {},
   "outputs": [
    {
     "name": "stdout",
     "output_type": "stream",
     "text": [
      "<class 'pandas.core.frame.DataFrame'>\n",
      "Int64Index: 52292 entries, 77578 to 0\n",
      "Data columns (total 28 columns):\n",
      "parcelid                        52292 non-null int64\n",
      "bathroomcnt                     52292 non-null float64\n",
      "bedroomcnt                      52292 non-null int64\n",
      "calculatedbathnbr               52158 non-null float64\n",
      "calculatedfinishedsquarefeet    52211 non-null float64\n",
      "finishedsquarefeet12            52047 non-null float64\n",
      "fips                            52292 non-null int64\n",
      "fullbathcnt                     52158 non-null float64\n",
      "latitude                        52292 non-null int64\n",
      "longitude                       52292 non-null int64\n",
      "lotsizesquarefeet               51930 non-null float64\n",
      "propertycountylandusecode       52292 non-null object\n",
      "rawcensustractandblock          52292 non-null float64\n",
      "regionidcity                    51256 non-null float64\n",
      "regionidcounty                  52292 non-null int64\n",
      "regionidzip                     52266 non-null float64\n",
      "roomcnt                         52292 non-null int64\n",
      "yearbuilt                       52178 non-null float64\n",
      "structuretaxvaluedollarcnt      52213 non-null float64\n",
      "taxvaluedollarcnt               52291 non-null float64\n",
      "assessmentyear                  52292 non-null int64\n",
      "landtaxvaluedollarcnt           52291 non-null float64\n",
      "taxamount                       52288 non-null float64\n",
      "censustractandblock             52174 non-null float64\n",
      "id.1                            52292 non-null int64\n",
      "logerror                        52292 non-null float64\n",
      "transactiondate                 52292 non-null object\n",
      "propertylandusedesc             52292 non-null object\n",
      "dtypes: float64(16), int64(9), object(3)\n",
      "memory usage: 11.6+ MB\n"
     ]
    }
   ],
   "source": [
    "df.info()"
   ]
  },
  {
   "cell_type": "markdown",
   "metadata": {},
   "source": [
    "Check out nulls"
   ]
  },
  {
   "cell_type": "code",
   "execution_count": 9,
   "metadata": {},
   "outputs": [
    {
     "data": {
      "text/plain": [
       "parcelid                           0\n",
       "bathroomcnt                        0\n",
       "bedroomcnt                         0\n",
       "calculatedbathnbr                134\n",
       "calculatedfinishedsquarefeet      81\n",
       "finishedsquarefeet12             245\n",
       "fips                               0\n",
       "fullbathcnt                      134\n",
       "latitude                           0\n",
       "longitude                          0\n",
       "lotsizesquarefeet                362\n",
       "propertycountylandusecode          0\n",
       "rawcensustractandblock             0\n",
       "regionidcity                    1036\n",
       "regionidcounty                     0\n",
       "regionidzip                       26\n",
       "roomcnt                            0\n",
       "yearbuilt                        114\n",
       "structuretaxvaluedollarcnt        79\n",
       "taxvaluedollarcnt                  1\n",
       "assessmentyear                     0\n",
       "landtaxvaluedollarcnt              1\n",
       "taxamount                          4\n",
       "censustractandblock              118\n",
       "id.1                               0\n",
       "logerror                           0\n",
       "transactiondate                    0\n",
       "propertylandusedesc                0\n",
       "dtype: int64"
      ]
     },
     "execution_count": 9,
     "metadata": {},
     "output_type": "execute_result"
    }
   ],
   "source": [
    "df.isnull().sum()"
   ]
  },
  {
   "cell_type": "code",
   "execution_count": 10,
   "metadata": {},
   "outputs": [
    {
     "data": {
      "text/plain": [
       "Single Family Residential    52292\n",
       "Name: propertylandusedesc, dtype: int64"
      ]
     },
     "execution_count": 10,
     "metadata": {},
     "output_type": "execute_result"
    }
   ],
   "source": [
    "df.propertylandusedesc.value_counts()"
   ]
  },
  {
   "cell_type": "markdown",
   "metadata": {},
   "source": [
    "Drop columns with minimal nulls"
   ]
  },
  {
   "cell_type": "code",
   "execution_count": 11,
   "metadata": {},
   "outputs": [],
   "source": [
    "    df.drop(columns=[\"fullbathcnt\", \"finishedsquarefeet12\", \"regionidcounty\", \"propertycountylandusecode\", \n",
    "                     \"rawcensustractandblock\", \"censustractandblock\", \"regionidzip\", \n",
    "                     \"assessmentyear\", \"propertylandusedesc\"], inplace=True)"
   ]
  },
  {
   "cell_type": "code",
   "execution_count": 12,
   "metadata": {},
   "outputs": [
    {
     "name": "stdout",
     "output_type": "stream",
     "text": [
      "<class 'pandas.core.frame.DataFrame'>\n",
      "Int64Index: 52292 entries, 77578 to 0\n",
      "Data columns (total 19 columns):\n",
      "parcelid                        52292 non-null int64\n",
      "bathroomcnt                     52292 non-null float64\n",
      "bedroomcnt                      52292 non-null int64\n",
      "calculatedbathnbr               52158 non-null float64\n",
      "calculatedfinishedsquarefeet    52211 non-null float64\n",
      "fips                            52292 non-null int64\n",
      "latitude                        52292 non-null int64\n",
      "longitude                       52292 non-null int64\n",
      "lotsizesquarefeet               51930 non-null float64\n",
      "regionidcity                    51256 non-null float64\n",
      "roomcnt                         52292 non-null int64\n",
      "yearbuilt                       52178 non-null float64\n",
      "structuretaxvaluedollarcnt      52213 non-null float64\n",
      "taxvaluedollarcnt               52291 non-null float64\n",
      "landtaxvaluedollarcnt           52291 non-null float64\n",
      "taxamount                       52288 non-null float64\n",
      "id.1                            52292 non-null int64\n",
      "logerror                        52292 non-null float64\n",
      "transactiondate                 52292 non-null object\n",
      "dtypes: float64(11), int64(7), object(1)\n",
      "memory usage: 8.0+ MB\n"
     ]
    }
   ],
   "source": [
    "df.info()"
   ]
  },
  {
   "cell_type": "code",
   "execution_count": 13,
   "metadata": {},
   "outputs": [
    {
     "data": {
      "text/plain": [
       "parcelid                           0\n",
       "bathroomcnt                        0\n",
       "bedroomcnt                         0\n",
       "calculatedbathnbr                134\n",
       "calculatedfinishedsquarefeet      81\n",
       "fips                               0\n",
       "latitude                           0\n",
       "longitude                          0\n",
       "lotsizesquarefeet                362\n",
       "regionidcity                    1036\n",
       "roomcnt                            0\n",
       "yearbuilt                        114\n",
       "structuretaxvaluedollarcnt        79\n",
       "taxvaluedollarcnt                  1\n",
       "landtaxvaluedollarcnt              1\n",
       "taxamount                          4\n",
       "id.1                               0\n",
       "logerror                           0\n",
       "transactiondate                    0\n",
       "dtype: int64"
      ]
     },
     "execution_count": 13,
     "metadata": {},
     "output_type": "execute_result"
    }
   ],
   "source": [
    "df.isnull().sum()"
   ]
  },
  {
   "cell_type": "code",
   "execution_count": 14,
   "metadata": {},
   "outputs": [
    {
     "data": {
      "text/html": [
       "<div>\n",
       "<style scoped>\n",
       "    .dataframe tbody tr th:only-of-type {\n",
       "        vertical-align: middle;\n",
       "    }\n",
       "\n",
       "    .dataframe tbody tr th {\n",
       "        vertical-align: top;\n",
       "    }\n",
       "\n",
       "    .dataframe thead th {\n",
       "        text-align: right;\n",
       "    }\n",
       "</style>\n",
       "<table border=\"1\" class=\"dataframe\">\n",
       "  <thead>\n",
       "    <tr style=\"text-align: right;\">\n",
       "      <th></th>\n",
       "      <th>parcelid</th>\n",
       "      <th>bathroomcnt</th>\n",
       "      <th>bedroomcnt</th>\n",
       "      <th>calculatedbathnbr</th>\n",
       "      <th>calculatedfinishedsquarefeet</th>\n",
       "      <th>fips</th>\n",
       "      <th>latitude</th>\n",
       "      <th>longitude</th>\n",
       "      <th>lotsizesquarefeet</th>\n",
       "      <th>regionidcity</th>\n",
       "      <th>roomcnt</th>\n",
       "      <th>yearbuilt</th>\n",
       "      <th>structuretaxvaluedollarcnt</th>\n",
       "      <th>taxvaluedollarcnt</th>\n",
       "      <th>landtaxvaluedollarcnt</th>\n",
       "      <th>taxamount</th>\n",
       "      <th>id.1</th>\n",
       "      <th>logerror</th>\n",
       "    </tr>\n",
       "  </thead>\n",
       "  <tbody>\n",
       "    <tr>\n",
       "      <th>count</th>\n",
       "      <td>5.229200e+04</td>\n",
       "      <td>52292.000000</td>\n",
       "      <td>52292.000000</td>\n",
       "      <td>52158.000000</td>\n",
       "      <td>52211.000000</td>\n",
       "      <td>52292.000000</td>\n",
       "      <td>5.229200e+04</td>\n",
       "      <td>5.229200e+04</td>\n",
       "      <td>5.193000e+04</td>\n",
       "      <td>51256.000000</td>\n",
       "      <td>52292.000000</td>\n",
       "      <td>52178.000000</td>\n",
       "      <td>5.221300e+04</td>\n",
       "      <td>5.229100e+04</td>\n",
       "      <td>5.229100e+04</td>\n",
       "      <td>52288.000000</td>\n",
       "      <td>52292.000000</td>\n",
       "      <td>52292.000000</td>\n",
       "    </tr>\n",
       "    <tr>\n",
       "      <th>mean</th>\n",
       "      <td>1.299711e+07</td>\n",
       "      <td>2.299377</td>\n",
       "      <td>3.300199</td>\n",
       "      <td>2.304594</td>\n",
       "      <td>1922.401984</td>\n",
       "      <td>6049.137382</td>\n",
       "      <td>3.402249e+07</td>\n",
       "      <td>-1.181940e+08</td>\n",
       "      <td>1.131517e+04</td>\n",
       "      <td>33484.556111</td>\n",
       "      <td>1.895108</td>\n",
       "      <td>1963.435969</td>\n",
       "      <td>1.965926e+05</td>\n",
       "      <td>5.285978e+05</td>\n",
       "      <td>3.322985e+05</td>\n",
       "      <td>6440.303283</td>\n",
       "      <td>38904.022872</td>\n",
       "      <td>0.018103</td>\n",
       "    </tr>\n",
       "    <tr>\n",
       "      <th>std</th>\n",
       "      <td>3.351561e+06</td>\n",
       "      <td>1.020189</td>\n",
       "      <td>0.945104</td>\n",
       "      <td>1.015472</td>\n",
       "      <td>1000.864812</td>\n",
       "      <td>21.027889</td>\n",
       "      <td>2.740681e+05</td>\n",
       "      <td>3.567045e+05</td>\n",
       "      <td>8.675146e+04</td>\n",
       "      <td>49101.555929</td>\n",
       "      <td>3.147328</td>\n",
       "      <td>23.115157</td>\n",
       "      <td>2.542889e+05</td>\n",
       "      <td>7.206677e+05</td>\n",
       "      <td>5.285519e+05</td>\n",
       "      <td>8371.170666</td>\n",
       "      <td>22345.099178</td>\n",
       "      <td>0.176545</td>\n",
       "    </tr>\n",
       "    <tr>\n",
       "      <th>min</th>\n",
       "      <td>1.071186e+07</td>\n",
       "      <td>0.000000</td>\n",
       "      <td>0.000000</td>\n",
       "      <td>1.000000</td>\n",
       "      <td>128.000000</td>\n",
       "      <td>6037.000000</td>\n",
       "      <td>3.334062e+07</td>\n",
       "      <td>-1.194754e+08</td>\n",
       "      <td>2.360000e+02</td>\n",
       "      <td>3491.000000</td>\n",
       "      <td>0.000000</td>\n",
       "      <td>1878.000000</td>\n",
       "      <td>1.290000e+02</td>\n",
       "      <td>1.000000e+03</td>\n",
       "      <td>1.610000e+02</td>\n",
       "      <td>49.180000</td>\n",
       "      <td>0.000000</td>\n",
       "      <td>-4.655420</td>\n",
       "    </tr>\n",
       "    <tr>\n",
       "      <th>25%</th>\n",
       "      <td>1.151000e+07</td>\n",
       "      <td>2.000000</td>\n",
       "      <td>3.000000</td>\n",
       "      <td>2.000000</td>\n",
       "      <td>1268.000000</td>\n",
       "      <td>6037.000000</td>\n",
       "      <td>3.382684e+07</td>\n",
       "      <td>-1.184008e+08</td>\n",
       "      <td>5.583000e+03</td>\n",
       "      <td>12447.000000</td>\n",
       "      <td>0.000000</td>\n",
       "      <td>1950.000000</td>\n",
       "      <td>7.715100e+04</td>\n",
       "      <td>1.939865e+05</td>\n",
       "      <td>7.614400e+04</td>\n",
       "      <td>2660.135000</td>\n",
       "      <td>19611.500000</td>\n",
       "      <td>-0.024692</td>\n",
       "    </tr>\n",
       "    <tr>\n",
       "      <th>50%</th>\n",
       "      <td>1.257921e+07</td>\n",
       "      <td>2.000000</td>\n",
       "      <td>3.000000</td>\n",
       "      <td>2.000000</td>\n",
       "      <td>1659.000000</td>\n",
       "      <td>6037.000000</td>\n",
       "      <td>3.402365e+07</td>\n",
       "      <td>-1.181530e+08</td>\n",
       "      <td>6.841000e+03</td>\n",
       "      <td>24812.000000</td>\n",
       "      <td>0.000000</td>\n",
       "      <td>1961.000000</td>\n",
       "      <td>1.318830e+05</td>\n",
       "      <td>3.739690e+05</td>\n",
       "      <td>2.180790e+05</td>\n",
       "      <td>4650.130000</td>\n",
       "      <td>38983.500000</td>\n",
       "      <td>0.006940</td>\n",
       "    </tr>\n",
       "    <tr>\n",
       "      <th>75%</th>\n",
       "      <td>1.413042e+07</td>\n",
       "      <td>3.000000</td>\n",
       "      <td>4.000000</td>\n",
       "      <td>3.000000</td>\n",
       "      <td>2305.000000</td>\n",
       "      <td>6059.000000</td>\n",
       "      <td>3.418726e+07</td>\n",
       "      <td>-1.179289e+08</td>\n",
       "      <td>8.799750e+03</td>\n",
       "      <td>40227.000000</td>\n",
       "      <td>5.000000</td>\n",
       "      <td>1979.000000</td>\n",
       "      <td>2.264300e+05</td>\n",
       "      <td>6.192745e+05</td>\n",
       "      <td>4.086135e+05</td>\n",
       "      <td>7376.815000</td>\n",
       "      <td>58140.250000</td>\n",
       "      <td>0.040595</td>\n",
       "    </tr>\n",
       "    <tr>\n",
       "      <th>max</th>\n",
       "      <td>1.676878e+08</td>\n",
       "      <td>13.000000</td>\n",
       "      <td>11.000000</td>\n",
       "      <td>13.000000</td>\n",
       "      <td>21929.000000</td>\n",
       "      <td>6111.000000</td>\n",
       "      <td>3.481877e+07</td>\n",
       "      <td>-1.175546e+08</td>\n",
       "      <td>6.971010e+06</td>\n",
       "      <td>396556.000000</td>\n",
       "      <td>15.000000</td>\n",
       "      <td>2016.000000</td>\n",
       "      <td>9.164901e+06</td>\n",
       "      <td>2.538125e+07</td>\n",
       "      <td>2.233550e+07</td>\n",
       "      <td>290998.060000</td>\n",
       "      <td>77612.000000</td>\n",
       "      <td>5.262999</td>\n",
       "    </tr>\n",
       "  </tbody>\n",
       "</table>\n",
       "</div>"
      ],
      "text/plain": [
       "           parcelid   bathroomcnt    bedroomcnt  calculatedbathnbr  \\\n",
       "count  5.229200e+04  52292.000000  52292.000000       52158.000000   \n",
       "mean   1.299711e+07      2.299377      3.300199           2.304594   \n",
       "std    3.351561e+06      1.020189      0.945104           1.015472   \n",
       "min    1.071186e+07      0.000000      0.000000           1.000000   \n",
       "25%    1.151000e+07      2.000000      3.000000           2.000000   \n",
       "50%    1.257921e+07      2.000000      3.000000           2.000000   \n",
       "75%    1.413042e+07      3.000000      4.000000           3.000000   \n",
       "max    1.676878e+08     13.000000     11.000000          13.000000   \n",
       "\n",
       "       calculatedfinishedsquarefeet          fips      latitude     longitude  \\\n",
       "count                  52211.000000  52292.000000  5.229200e+04  5.229200e+04   \n",
       "mean                    1922.401984   6049.137382  3.402249e+07 -1.181940e+08   \n",
       "std                     1000.864812     21.027889  2.740681e+05  3.567045e+05   \n",
       "min                      128.000000   6037.000000  3.334062e+07 -1.194754e+08   \n",
       "25%                     1268.000000   6037.000000  3.382684e+07 -1.184008e+08   \n",
       "50%                     1659.000000   6037.000000  3.402365e+07 -1.181530e+08   \n",
       "75%                     2305.000000   6059.000000  3.418726e+07 -1.179289e+08   \n",
       "max                    21929.000000   6111.000000  3.481877e+07 -1.175546e+08   \n",
       "\n",
       "       lotsizesquarefeet   regionidcity       roomcnt     yearbuilt  \\\n",
       "count       5.193000e+04   51256.000000  52292.000000  52178.000000   \n",
       "mean        1.131517e+04   33484.556111      1.895108   1963.435969   \n",
       "std         8.675146e+04   49101.555929      3.147328     23.115157   \n",
       "min         2.360000e+02    3491.000000      0.000000   1878.000000   \n",
       "25%         5.583000e+03   12447.000000      0.000000   1950.000000   \n",
       "50%         6.841000e+03   24812.000000      0.000000   1961.000000   \n",
       "75%         8.799750e+03   40227.000000      5.000000   1979.000000   \n",
       "max         6.971010e+06  396556.000000     15.000000   2016.000000   \n",
       "\n",
       "       structuretaxvaluedollarcnt  taxvaluedollarcnt  landtaxvaluedollarcnt  \\\n",
       "count                5.221300e+04       5.229100e+04           5.229100e+04   \n",
       "mean                 1.965926e+05       5.285978e+05           3.322985e+05   \n",
       "std                  2.542889e+05       7.206677e+05           5.285519e+05   \n",
       "min                  1.290000e+02       1.000000e+03           1.610000e+02   \n",
       "25%                  7.715100e+04       1.939865e+05           7.614400e+04   \n",
       "50%                  1.318830e+05       3.739690e+05           2.180790e+05   \n",
       "75%                  2.264300e+05       6.192745e+05           4.086135e+05   \n",
       "max                  9.164901e+06       2.538125e+07           2.233550e+07   \n",
       "\n",
       "           taxamount          id.1      logerror  \n",
       "count   52288.000000  52292.000000  52292.000000  \n",
       "mean     6440.303283  38904.022872      0.018103  \n",
       "std      8371.170666  22345.099178      0.176545  \n",
       "min        49.180000      0.000000     -4.655420  \n",
       "25%      2660.135000  19611.500000     -0.024692  \n",
       "50%      4650.130000  38983.500000      0.006940  \n",
       "75%      7376.815000  58140.250000      0.040595  \n",
       "max    290998.060000  77612.000000      5.262999  "
      ]
     },
     "execution_count": 14,
     "metadata": {},
     "output_type": "execute_result"
    }
   ],
   "source": [
    "df.describe()"
   ]
  },
  {
   "cell_type": "markdown",
   "metadata": {},
   "source": [
    "Check out distribution of calculatedbathnbr"
   ]
  },
  {
   "cell_type": "code",
   "execution_count": 15,
   "metadata": {},
   "outputs": [
    {
     "data": {
      "text/plain": [
       "<Figure size 640x480 with 1 Axes>"
      ]
     },
     "metadata": {},
     "output_type": "display_data"
    }
   ],
   "source": [
    "import seaborn as sns\n",
    "import matplotlib.pyplot as plt\n",
    "\n",
    "sns.distplot(df.calculatedbathnbr.dropna())\n",
    "plt.show()"
   ]
  },
  {
   "cell_type": "code",
   "execution_count": 16,
   "metadata": {},
   "outputs": [
    {
     "data": {
      "text/plain": [
       "2.0     21832\n",
       "3.0     10643\n",
       "1.0      9534\n",
       "2.5      3924\n",
       "4.0      2219\n",
       "3.5       916\n",
       "1.5       832\n",
       "5.0       803\n",
       "4.5       685\n",
       "6.0       318\n",
       "5.5       223\n",
       "NaN       134\n",
       "7.0        88\n",
       "8.0        53\n",
       "6.5        47\n",
       "7.5        16\n",
       "9.0        13\n",
       "10.0        5\n",
       "8.5         3\n",
       "11.0        3\n",
       "13.0        1\n",
       "Name: calculatedbathnbr, dtype: int64"
      ]
     },
     "execution_count": 16,
     "metadata": {},
     "output_type": "execute_result"
    }
   ],
   "source": [
    "df.calculatedbathnbr.value_counts(dropna=False)"
   ]
  },
  {
   "cell_type": "code",
   "execution_count": 17,
   "metadata": {},
   "outputs": [
    {
     "data": {
      "text/plain": [
       "134"
      ]
     },
     "execution_count": 17,
     "metadata": {},
     "output_type": "execute_result"
    }
   ],
   "source": [
    " (df.bathroomcnt != df.calculatedbathnbr).sum()"
   ]
  },
  {
   "cell_type": "code",
   "execution_count": 18,
   "metadata": {},
   "outputs": [
    {
     "data": {
      "text/plain": [
       "134"
      ]
     },
     "execution_count": 18,
     "metadata": {},
     "output_type": "execute_result"
    }
   ],
   "source": [
    "df.calculatedbathnbr.isnull().sum()"
   ]
  },
  {
   "cell_type": "markdown",
   "metadata": {},
   "source": [
    "Calculatedbathnbr and bathroomcnt are the same information, but calculatedbathnbr has nulls. Removed. "
   ]
  },
  {
   "cell_type": "code",
   "execution_count": 19,
   "metadata": {},
   "outputs": [],
   "source": [
    "df.drop(columns=\"calculatedbathnbr\", inplace=True)"
   ]
  },
  {
   "cell_type": "code",
   "execution_count": 20,
   "metadata": {},
   "outputs": [
    {
     "data": {
      "text/plain": [
       "parcelid                           0\n",
       "bathroomcnt                        0\n",
       "bedroomcnt                         0\n",
       "calculatedfinishedsquarefeet      81\n",
       "fips                               0\n",
       "latitude                           0\n",
       "longitude                          0\n",
       "lotsizesquarefeet                362\n",
       "regionidcity                    1036\n",
       "roomcnt                            0\n",
       "yearbuilt                        114\n",
       "structuretaxvaluedollarcnt        79\n",
       "taxvaluedollarcnt                  1\n",
       "landtaxvaluedollarcnt              1\n",
       "taxamount                          4\n",
       "id.1                               0\n",
       "logerror                           0\n",
       "transactiondate                    0\n",
       "dtype: int64"
      ]
     },
     "execution_count": 20,
     "metadata": {},
     "output_type": "execute_result"
    }
   ],
   "source": [
    "df.isnull().sum()"
   ]
  },
  {
   "cell_type": "code",
   "execution_count": 21,
   "metadata": {},
   "outputs": [
    {
     "data": {
      "text/plain": [
       "(106.198, 2308.1]     39190\n",
       "(2308.1, 4488.2]      11802\n",
       "(4488.2, 6668.3]       1002\n",
       "(6668.3, 8848.4]        157\n",
       "(8848.4, 11028.5]        42\n",
       "(11028.5, 13208.6]       12\n",
       "(19748.9, 21929.0]        2\n",
       "(15388.7, 17568.8]        2\n",
       "(13208.6, 15388.7]        2\n",
       "(17568.8, 19748.9]        0\n",
       "Name: calculatedfinishedsquarefeet, dtype: int64"
      ]
     },
     "execution_count": 21,
     "metadata": {},
     "output_type": "execute_result"
    }
   ],
   "source": [
    "df.calculatedfinishedsquarefeet.value_counts(bins=10)"
   ]
  },
  {
   "cell_type": "code",
   "execution_count": 22,
   "metadata": {},
   "outputs": [
    {
     "data": {
      "image/png": "[encoded data removed]",
      "text/plain": [
       "<Figure size 432x288 with 1 Axes>"
      ]
     },
     "metadata": {
      "needs_background": "light"
     },
     "output_type": "display_data"
    }
   ],
   "source": [
    "sns.distplot(df.calculatedfinishedsquarefeet.dropna())\n",
    "plt.show()"
   ]
  },
  {
   "cell_type": "code",
   "execution_count": 23,
   "metadata": {},
   "outputs": [
    {
     "data": {
      "text/plain": [
       "count    52211.000000\n",
       "mean      1922.401984\n",
       "std       1000.864812\n",
       "min        128.000000\n",
       "25%       1268.000000\n",
       "50%       1659.000000\n",
       "75%       2305.000000\n",
       "max      21929.000000\n",
       "Name: calculatedfinishedsquarefeet, dtype: float64"
      ]
     },
     "execution_count": 23,
     "metadata": {},
     "output_type": "execute_result"
    }
   ],
   "source": [
    "df.calculatedfinishedsquarefeet.describe()"
   ]
  },
  {
   "cell_type": "code",
   "execution_count": 24,
   "metadata": {},
   "outputs": [
    {
     "name": "stdout",
     "output_type": "stream",
     "text": [
      "<class 'pandas.core.frame.DataFrame'>\n",
      "Int64Index: 52292 entries, 77578 to 0\n",
      "Data columns (total 18 columns):\n",
      "parcelid                        52292 non-null int64\n",
      "bathroomcnt                     52292 non-null float64\n",
      "bedroomcnt                      52292 non-null int64\n",
      "calculatedfinishedsquarefeet    52211 non-null float64\n",
      "fips                            52292 non-null int64\n",
      "latitude                        52292 non-null int64\n",
      "longitude                       52292 non-null int64\n",
      "lotsizesquarefeet               51930 non-null float64\n",
      "regionidcity                    51256 non-null float64\n",
      "roomcnt                         52292 non-null int64\n",
      "yearbuilt                       52178 non-null float64\n",
      "structuretaxvaluedollarcnt      52213 non-null float64\n",
      "taxvaluedollarcnt               52291 non-null float64\n",
      "landtaxvaluedollarcnt           52291 non-null float64\n",
      "taxamount                       52288 non-null float64\n",
      "id.1                            52292 non-null int64\n",
      "logerror                        52292 non-null float64\n",
      "transactiondate                 52292 non-null object\n",
      "dtypes: float64(10), int64(7), object(1)\n",
      "memory usage: 7.6+ MB\n"
     ]
    }
   ],
   "source": [
    "df.info()"
   ]
  },
  {
   "cell_type": "code",
   "execution_count": 25,
   "metadata": {},
   "outputs": [
    {
     "data": {
      "text/plain": [
       "1659.0"
      ]
     },
     "execution_count": 25,
     "metadata": {},
     "output_type": "execute_result"
    }
   ],
   "source": [
    "df.calculatedfinishedsquarefeet.median()"
   ]
  },
  {
   "cell_type": "code",
   "execution_count": 26,
   "metadata": {},
   "outputs": [
    {
     "data": {
      "text/plain": [
       "1922.4019842561913"
      ]
     },
     "execution_count": 26,
     "metadata": {},
     "output_type": "execute_result"
    }
   ],
   "source": [
    "df.calculatedfinishedsquarefeet.mean()"
   ]
  },
  {
   "cell_type": "code",
   "execution_count": 27,
   "metadata": {},
   "outputs": [
    {
     "data": {
      "text/plain": [
       "131883.0"
      ]
     },
     "execution_count": 27,
     "metadata": {},
     "output_type": "execute_result"
    }
   ],
   "source": [
    "df.structuretaxvaluedollarcnt.median()"
   ]
  },
  {
   "cell_type": "code",
   "execution_count": 28,
   "metadata": {},
   "outputs": [
    {
     "data": {
      "text/plain": [
       "196592.61356367188"
      ]
     },
     "execution_count": 28,
     "metadata": {},
     "output_type": "execute_result"
    }
   ],
   "source": [
    "df.structuretaxvaluedollarcnt.mean()"
   ]
  },
  {
   "cell_type": "code",
   "execution_count": 29,
   "metadata": {},
   "outputs": [
    {
     "data": {
      "image/png": "[encoded data removed]",
      "text/plain": [
       "<Figure size 432x288 with 1 Axes>"
      ]
     },
     "metadata": {
      "needs_background": "light"
     },
     "output_type": "display_data"
    }
   ],
   "source": [
    "sns.distplot(df.structuretaxvaluedollarcnt.dropna())\n",
    "plt.show()"
   ]
  },
  {
   "cell_type": "code",
   "execution_count": 30,
   "metadata": {},
   "outputs": [
    {
     "data": {
      "text/plain": [
       "parcelid                           0\n",
       "bathroomcnt                        0\n",
       "bedroomcnt                         0\n",
       "calculatedfinishedsquarefeet      81\n",
       "fips                               0\n",
       "latitude                           0\n",
       "longitude                          0\n",
       "lotsizesquarefeet                362\n",
       "regionidcity                    1036\n",
       "roomcnt                            0\n",
       "yearbuilt                        114\n",
       "structuretaxvaluedollarcnt        79\n",
       "taxvaluedollarcnt                  1\n",
       "landtaxvaluedollarcnt              1\n",
       "taxamount                          4\n",
       "id.1                               0\n",
       "logerror                           0\n",
       "transactiondate                    0\n",
       "dtype: int64"
      ]
     },
     "execution_count": 30,
     "metadata": {},
     "output_type": "execute_result"
    }
   ],
   "source": [
    "df.isnull().sum()"
   ]
  },
  {
   "cell_type": "markdown",
   "metadata": {},
   "source": [
    "After exploring distributions and summary stats for calculatedfininshedsquarefeet and structuretaxvaluedollarcnt, removed rows with nulls. Also, for other catergories, removed rows with minimal nulls."
   ]
  },
  {
   "cell_type": "code",
   "execution_count": 31,
   "metadata": {},
   "outputs": [],
   "source": [
    "df.dropna(axis=0,subset=[\"calculatedfinishedsquarefeet\",\"structuretaxvaluedollarcnt\",\n",
    "                         \"taxvaluedollarcnt\",\"landtaxvaluedollarcnt\",\"taxamount\"], inplace=True)"
   ]
  },
  {
   "cell_type": "code",
   "execution_count": 32,
   "metadata": {},
   "outputs": [
    {
     "data": {
      "text/plain": [
       "parcelid                           0\n",
       "bathroomcnt                        0\n",
       "bedroomcnt                         0\n",
       "calculatedfinishedsquarefeet       0\n",
       "fips                               0\n",
       "latitude                           0\n",
       "longitude                          0\n",
       "lotsizesquarefeet                340\n",
       "regionidcity                    1026\n",
       "roomcnt                            0\n",
       "yearbuilt                         38\n",
       "structuretaxvaluedollarcnt         0\n",
       "taxvaluedollarcnt                  0\n",
       "landtaxvaluedollarcnt              0\n",
       "taxamount                          0\n",
       "id.1                               0\n",
       "logerror                           0\n",
       "transactiondate                    0\n",
       "dtype: int64"
      ]
     },
     "execution_count": 32,
     "metadata": {},
     "output_type": "execute_result"
    }
   ],
   "source": [
    "df.isnull().sum()"
   ]
  },
  {
   "cell_type": "code",
   "execution_count": 33,
   "metadata": {},
   "outputs": [],
   "source": [
    "df.dropna(axis=0,subset=[\"yearbuilt\"], inplace=True)"
   ]
  },
  {
   "cell_type": "code",
   "execution_count": 34,
   "metadata": {},
   "outputs": [
    {
     "data": {
      "text/plain": [
       "parcelid                           0\n",
       "bathroomcnt                        0\n",
       "bedroomcnt                         0\n",
       "calculatedfinishedsquarefeet       0\n",
       "fips                               0\n",
       "latitude                           0\n",
       "longitude                          0\n",
       "lotsizesquarefeet                340\n",
       "regionidcity                    1020\n",
       "roomcnt                            0\n",
       "yearbuilt                          0\n",
       "structuretaxvaluedollarcnt         0\n",
       "taxvaluedollarcnt                  0\n",
       "landtaxvaluedollarcnt              0\n",
       "taxamount                          0\n",
       "id.1                               0\n",
       "logerror                           0\n",
       "transactiondate                    0\n",
       "dtype: int64"
      ]
     },
     "execution_count": 34,
     "metadata": {},
     "output_type": "execute_result"
    }
   ],
   "source": [
    "df.isnull().sum()"
   ]
  },
  {
   "cell_type": "markdown",
   "metadata": {},
   "source": [
    "Explore lot size and the nulls"
   ]
  },
  {
   "cell_type": "code",
   "execution_count": 35,
   "metadata": {},
   "outputs": [
    {
     "data": {
      "text/plain": [
       "<matplotlib.axes._subplots.AxesSubplot at 0x12533c080>"
      ]
     },
     "execution_count": 35,
     "metadata": {},
     "output_type": "execute_result"
    },
    {
     "data": {
      "image/png": "[encoded data removed]",
      "text/plain": [
       "<Figure size 432x288 with 1 Axes>"
      ]
     },
     "metadata": {
      "needs_background": "light"
     },
     "output_type": "display_data"
    }
   ],
   "source": [
    "sns.distplot(df.lotsizesquarefeet.dropna())"
   ]
  },
  {
   "cell_type": "code",
   "execution_count": 36,
   "metadata": {},
   "outputs": [
    {
     "data": {
      "text/plain": [
       "(-6734.775000000001, 464954.267]    51719\n",
       "(464954.267, 929672.533]               28\n",
       "(6506291.733, 6971010.0]                7\n",
       "(929672.533, 1394390.8]                 3\n",
       "(1394390.8, 1859109.067]                2\n",
       "(2788545.6, 3253263.867]                1\n",
       "(2323827.333, 2788545.6]                1\n",
       "(6041573.467, 6506291.733]              0\n",
       "(5576855.2, 6041573.467]                0\n",
       "(5112136.933, 5576855.2]                0\n",
       "(4647418.667, 5112136.933]              0\n",
       "(4182700.4, 4647418.667]                0\n",
       "(3717982.133, 4182700.4]                0\n",
       "(3253263.867, 3717982.133]              0\n",
       "(1859109.067, 2323827.333]              0\n",
       "Name: lotsizesquarefeet, dtype: int64"
      ]
     },
     "execution_count": 36,
     "metadata": {},
     "output_type": "execute_result"
    }
   ],
   "source": [
    "df.lotsizesquarefeet.value_counts(dropna=False, bins=15)"
   ]
  },
  {
   "cell_type": "code",
   "execution_count": 37,
   "metadata": {},
   "outputs": [
    {
     "data": {
      "text/plain": [
       "(52101, 18)"
      ]
     },
     "execution_count": 37,
     "metadata": {},
     "output_type": "execute_result"
    }
   ],
   "source": [
    "df.shape"
   ]
  },
  {
   "cell_type": "code",
   "execution_count": 38,
   "metadata": {},
   "outputs": [],
   "source": [
    "# df[\"totallotvalue\"] = df.landtaxvaluedollarcnt + df.structuretaxvaluedollarcnt"
   ]
  },
  {
   "cell_type": "code",
   "execution_count": 39,
   "metadata": {},
   "outputs": [],
   "source": [
    "# (df.totallotvalue != df.taxvaluedollarcnt).sum()"
   ]
  },
  {
   "cell_type": "markdown",
   "metadata": {},
   "source": [
    "total value column is unnecessary as it equals the the taxvaluedollarcnt"
   ]
  },
  {
   "cell_type": "code",
   "execution_count": 41,
   "metadata": {},
   "outputs": [],
   "source": [
    "# df[\"proportionlotandvalue\"] = df.lotsizesquarefeet.dropna() / df.taxvaluedollarcnt"
   ]
  },
  {
   "cell_type": "code",
   "execution_count": 42,
   "metadata": {},
   "outputs": [],
   "source": [
    "# df.proportionlotandvalue.describe()"
   ]
  },
  {
   "cell_type": "markdown",
   "metadata": {},
   "source": [
    "Take the mean of proportions less that 1"
   ]
  },
  {
   "cell_type": "code",
   "execution_count": 43,
   "metadata": {},
   "outputs": [],
   "source": [
    "# mean_proportion = df [df.proportionlotandvalue < 1].proportionlotandvalue.mean()\n",
    "# mean_proportion"
   ]
  },
  {
   "cell_type": "code",
   "execution_count": 44,
   "metadata": {},
   "outputs": [],
   "source": [
    "# df_subset = df[[\"lotsizesquarefeet\",\"totallotvalue\"]]"
   ]
  },
  {
   "cell_type": "code",
   "execution_count": 45,
   "metadata": {},
   "outputs": [],
   "source": [
    "# df_subset[\"mean\"] = mean_proportion"
   ]
  },
  {
   "cell_type": "code",
   "execution_count": 46,
   "metadata": {},
   "outputs": [],
   "source": [
    "# df_subset.head()"
   ]
  },
  {
   "cell_type": "markdown",
   "metadata": {},
   "source": [
    "Fill the lot size nulls with the previous calculated mean"
   ]
  },
  {
   "cell_type": "code",
   "execution_count": 47,
   "metadata": {},
   "outputs": [],
   "source": [
    "# df_subset.lotsizesquarefeet.fillna(df_subset.totallotvalue * df_subset[\"mean\"], inplace=True)"
   ]
  },
  {
   "cell_type": "code",
   "execution_count": 48,
   "metadata": {},
   "outputs": [],
   "source": [
    "# df_subset.isnull().sum()"
   ]
  },
  {
   "cell_type": "code",
   "execution_count": 49,
   "metadata": {},
   "outputs": [],
   "source": [
    "# df_subset.head()"
   ]
  },
  {
   "cell_type": "code",
   "execution_count": 50,
   "metadata": {},
   "outputs": [],
   "source": [
    "# df.head()"
   ]
  },
  {
   "cell_type": "markdown",
   "metadata": {},
   "source": [
    "Replace lot size column with newly created non-null column"
   ]
  },
  {
   "cell_type": "code",
   "execution_count": 51,
   "metadata": {},
   "outputs": [],
   "source": [
    "# df.lotsizesquarefeet = df_subset.lotsizesquarefeet"
   ]
  },
  {
   "cell_type": "code",
   "execution_count": 52,
   "metadata": {},
   "outputs": [],
   "source": [
    "# df.isnull().sum()"
   ]
  },
  {
   "cell_type": "markdown",
   "metadata": {},
   "source": [
    "create function with imputing lot size after split"
   ]
  },
  {
   "cell_type": "code",
   "execution_count": 53,
   "metadata": {},
   "outputs": [],
   "source": [
    "# df.drop(columns=[\"regionidcity\", \"totallotvalue\",\"proportionlotandvalue\"],inplace=True)"
   ]
  },
  {
   "cell_type": "code",
   "execution_count": 54,
   "metadata": {},
   "outputs": [],
   "source": [
    "# df.isnull().sum()"
   ]
  },
  {
   "cell_type": "markdown",
   "metadata": {},
   "source": [
    "Remove roomcount because too many zero values"
   ]
  },
  {
   "cell_type": "code",
   "execution_count": 55,
   "metadata": {},
   "outputs": [
    {
     "data": {
      "text/plain": [
       "0     37588\n",
       "6      3966\n",
       "7      3598\n",
       "8      2805\n",
       "5      1879\n",
       "9      1172\n",
       "4       515\n",
       "10      338\n",
       "11      105\n",
       "3        74\n",
       "12       34\n",
       "13       10\n",
       "2        10\n",
       "14        5\n",
       "15        1\n",
       "1         1\n",
       "Name: roomcnt, dtype: int64"
      ]
     },
     "execution_count": 55,
     "metadata": {},
     "output_type": "execute_result"
    }
   ],
   "source": [
    "df.roomcnt.value_counts()"
   ]
  },
  {
   "cell_type": "code",
   "execution_count": 56,
   "metadata": {},
   "outputs": [],
   "source": [
    "df.drop(columns=[\"parcelid\",\"roomcnt\"], inplace=True)"
   ]
  },
  {
   "cell_type": "code",
   "execution_count": 57,
   "metadata": {},
   "outputs": [
    {
     "name": "stdout",
     "output_type": "stream",
     "text": [
      "<class 'pandas.core.frame.DataFrame'>\n",
      "Int64Index: 52101 entries, 77578 to 0\n",
      "Data columns (total 16 columns):\n",
      "bathroomcnt                     52101 non-null float64\n",
      "bedroomcnt                      52101 non-null int64\n",
      "calculatedfinishedsquarefeet    52101 non-null float64\n",
      "fips                            52101 non-null int64\n",
      "latitude                        52101 non-null int64\n",
      "longitude                       52101 non-null int64\n",
      "lotsizesquarefeet               51761 non-null float64\n",
      "regionidcity                    51081 non-null float64\n",
      "yearbuilt                       52101 non-null float64\n",
      "structuretaxvaluedollarcnt      52101 non-null float64\n",
      "taxvaluedollarcnt               52101 non-null float64\n",
      "landtaxvaluedollarcnt           52101 non-null float64\n",
      "taxamount                       52101 non-null float64\n",
      "id.1                            52101 non-null int64\n",
      "logerror                        52101 non-null float64\n",
      "transactiondate                 52101 non-null object\n",
      "dtypes: float64(10), int64(5), object(1)\n",
      "memory usage: 6.8+ MB\n"
     ]
    }
   ],
   "source": [
    "df.info()"
   ]
  },
  {
   "cell_type": "markdown",
   "metadata": {},
   "source": [
    "Rename columns to things more relevant"
   ]
  },
  {
   "cell_type": "code",
   "execution_count": 58,
   "metadata": {},
   "outputs": [],
   "source": [
    "df.rename(columns={\"calculatedfinishedsquarefeet\":\"house_area\",\"fips\":\"countyid\",\"structuretaxvaluedollarcnt\":\"house_value\", \n",
    "                   \"taxvaluedollarcnt\":\"whole_value\",\"landtaxvaluedollarcnt\":\"land_value\",\"lotsizesquarefeet\":\"whole_area\"}, \n",
    "          inplace=True)"
   ]
  },
  {
   "cell_type": "code",
   "execution_count": 59,
   "metadata": {},
   "outputs": [
    {
     "data": {
      "text/plain": [
       "(52101, 16)"
      ]
     },
     "execution_count": 59,
     "metadata": {},
     "output_type": "execute_result"
    }
   ],
   "source": [
    "df.shape"
   ]
  },
  {
   "cell_type": "code",
   "execution_count": 60,
   "metadata": {},
   "outputs": [
    {
     "data": {
      "text/html": [
       "<div>\n",
       "<style scoped>\n",
       "    .dataframe tbody tr th:only-of-type {\n",
       "        vertical-align: middle;\n",
       "    }\n",
       "\n",
       "    .dataframe tbody tr th {\n",
       "        vertical-align: top;\n",
       "    }\n",
       "\n",
       "    .dataframe thead th {\n",
       "        text-align: right;\n",
       "    }\n",
       "</style>\n",
       "<table border=\"1\" class=\"dataframe\">\n",
       "  <thead>\n",
       "    <tr style=\"text-align: right;\">\n",
       "      <th></th>\n",
       "      <th>bathroomcnt</th>\n",
       "      <th>bedroomcnt</th>\n",
       "      <th>house_area</th>\n",
       "      <th>countyid</th>\n",
       "      <th>latitude</th>\n",
       "      <th>longitude</th>\n",
       "      <th>whole_area</th>\n",
       "      <th>regionidcity</th>\n",
       "      <th>yearbuilt</th>\n",
       "      <th>house_value</th>\n",
       "      <th>whole_value</th>\n",
       "      <th>land_value</th>\n",
       "      <th>taxamount</th>\n",
       "      <th>id.1</th>\n",
       "      <th>logerror</th>\n",
       "      <th>transactiondate</th>\n",
       "    </tr>\n",
       "  </thead>\n",
       "  <tbody>\n",
       "    <tr>\n",
       "      <th>77578</th>\n",
       "      <td>2.0</td>\n",
       "      <td>3</td>\n",
       "      <td>1762.0</td>\n",
       "      <td>6037</td>\n",
       "      <td>33937685</td>\n",
       "      <td>-117996709</td>\n",
       "      <td>6347.0</td>\n",
       "      <td>14634.0</td>\n",
       "      <td>1955.0</td>\n",
       "      <td>140000.0</td>\n",
       "      <td>522000.0</td>\n",
       "      <td>382000.0</td>\n",
       "      <td>6317.15</td>\n",
       "      <td>77612</td>\n",
       "      <td>0.007204</td>\n",
       "      <td>2017-09-25</td>\n",
       "    </tr>\n",
       "    <tr>\n",
       "      <th>77577</th>\n",
       "      <td>1.0</td>\n",
       "      <td>3</td>\n",
       "      <td>1032.0</td>\n",
       "      <td>6037</td>\n",
       "      <td>34040895</td>\n",
       "      <td>-118038169</td>\n",
       "      <td>5074.0</td>\n",
       "      <td>36502.0</td>\n",
       "      <td>1954.0</td>\n",
       "      <td>32797.0</td>\n",
       "      <td>49546.0</td>\n",
       "      <td>16749.0</td>\n",
       "      <td>876.43</td>\n",
       "      <td>77611</td>\n",
       "      <td>0.037129</td>\n",
       "      <td>2017-09-21</td>\n",
       "    </tr>\n",
       "    <tr>\n",
       "      <th>77576</th>\n",
       "      <td>2.0</td>\n",
       "      <td>4</td>\n",
       "      <td>1612.0</td>\n",
       "      <td>6111</td>\n",
       "      <td>34300140</td>\n",
       "      <td>-118706327</td>\n",
       "      <td>12105.0</td>\n",
       "      <td>27110.0</td>\n",
       "      <td>1964.0</td>\n",
       "      <td>50683.0</td>\n",
       "      <td>67205.0</td>\n",
       "      <td>16522.0</td>\n",
       "      <td>1107.48</td>\n",
       "      <td>77610</td>\n",
       "      <td>0.013209</td>\n",
       "      <td>2017-09-21</td>\n",
       "    </tr>\n",
       "    <tr>\n",
       "      <th>77575</th>\n",
       "      <td>2.0</td>\n",
       "      <td>2</td>\n",
       "      <td>1286.0</td>\n",
       "      <td>6037</td>\n",
       "      <td>34245368</td>\n",
       "      <td>-118282383</td>\n",
       "      <td>47405.0</td>\n",
       "      <td>12447.0</td>\n",
       "      <td>1940.0</td>\n",
       "      <td>70917.0</td>\n",
       "      <td>354621.0</td>\n",
       "      <td>283704.0</td>\n",
       "      <td>4478.43</td>\n",
       "      <td>77609</td>\n",
       "      <td>0.020615</td>\n",
       "      <td>2017-09-20</td>\n",
       "    </tr>\n",
       "    <tr>\n",
       "      <th>77394</th>\n",
       "      <td>2.0</td>\n",
       "      <td>3</td>\n",
       "      <td>1518.0</td>\n",
       "      <td>6037</td>\n",
       "      <td>33983643</td>\n",
       "      <td>-118362294</td>\n",
       "      <td>5799.0</td>\n",
       "      <td>116042.0</td>\n",
       "      <td>1948.0</td>\n",
       "      <td>116897.0</td>\n",
       "      <td>229242.0</td>\n",
       "      <td>112345.0</td>\n",
       "      <td>3277.29</td>\n",
       "      <td>77428</td>\n",
       "      <td>0.023168</td>\n",
       "      <td>2017-09-19</td>\n",
       "    </tr>\n",
       "  </tbody>\n",
       "</table>\n",
       "</div>"
      ],
      "text/plain": [
       "       bathroomcnt  bedroomcnt  house_area  countyid  latitude  longitude  \\\n",
       "77578          2.0           3      1762.0      6037  33937685 -117996709   \n",
       "77577          1.0           3      1032.0      6037  34040895 -118038169   \n",
       "77576          2.0           4      1612.0      6111  34300140 -118706327   \n",
       "77575          2.0           2      1286.0      6037  34245368 -118282383   \n",
       "77394          2.0           3      1518.0      6037  33983643 -118362294   \n",
       "\n",
       "       whole_area  regionidcity  yearbuilt  house_value  whole_value  \\\n",
       "77578      6347.0       14634.0     1955.0     140000.0     522000.0   \n",
       "77577      5074.0       36502.0     1954.0      32797.0      49546.0   \n",
       "77576     12105.0       27110.0     1964.0      50683.0      67205.0   \n",
       "77575     47405.0       12447.0     1940.0      70917.0     354621.0   \n",
       "77394      5799.0      116042.0     1948.0     116897.0     229242.0   \n",
       "\n",
       "       land_value  taxamount   id.1  logerror transactiondate  \n",
       "77578    382000.0    6317.15  77612  0.007204      2017-09-25  \n",
       "77577     16749.0     876.43  77611  0.037129      2017-09-21  \n",
       "77576     16522.0    1107.48  77610  0.013209      2017-09-21  \n",
       "77575    283704.0    4478.43  77609  0.020615      2017-09-20  \n",
       "77394    112345.0    3277.29  77428  0.023168      2017-09-19  "
      ]
     },
     "execution_count": 60,
     "metadata": {},
     "output_type": "execute_result"
    }
   ],
   "source": [
    "df.head()"
   ]
  },
  {
   "cell_type": "code",
   "execution_count": 69,
   "metadata": {},
   "outputs": [],
   "source": [
    "df.drop(columns=\"regionidcity\", inplace=True)"
   ]
  },
  {
   "cell_type": "code",
   "execution_count": 74,
   "metadata": {},
   "outputs": [],
   "source": [
    "df.drop(columns=\"id.1\", inplace=True)"
   ]
  },
  {
   "cell_type": "code",
   "execution_count": 75,
   "metadata": {},
   "outputs": [],
   "source": [
    "train, test = split_scale.split_my_data(df, .80)"
   ]
  },
  {
   "cell_type": "code",
   "execution_count": 76,
   "metadata": {},
   "outputs": [],
   "source": [
    "train, test = prep.impute_lotsize_nulls(train, test)"
   ]
  },
  {
   "cell_type": "code",
   "execution_count": 77,
   "metadata": {},
   "outputs": [],
   "source": [
    "train = prep.feature_eng(train)\n",
    "test = prep.feature_eng(test)"
   ]
  },
  {
   "cell_type": "code",
   "execution_count": 78,
   "metadata": {},
   "outputs": [
    {
     "name": "stdout",
     "output_type": "stream",
     "text": [
      "<class 'pandas.core.frame.DataFrame'>\n",
      "Int64Index: 41680 entries, 28235 to 54472\n",
      "Data columns (total 15 columns):\n",
      "bathroomcnt        41680 non-null float64\n",
      "bedroomcnt         41680 non-null int64\n",
      "house_area         41680 non-null float64\n",
      "countyid           41680 non-null int64\n",
      "latitude           41680 non-null int64\n",
      "longitude          41680 non-null int64\n",
      "whole_area         41680 non-null float64\n",
      "yearbuilt          41680 non-null float64\n",
      "house_value        41680 non-null float64\n",
      "whole_value        41680 non-null float64\n",
      "land_value         41680 non-null float64\n",
      "taxamount          41680 non-null float64\n",
      "logerror           41680 non-null float64\n",
      "transactiondate    41680 non-null object\n",
      "land_area          41680 non-null float64\n",
      "dtypes: float64(10), int64(4), object(1)\n",
      "memory usage: 6.3+ MB\n"
     ]
    }
   ],
   "source": [
    "train.info()"
   ]
  },
  {
   "cell_type": "markdown",
   "metadata": {},
   "source": [
    "### Explore"
   ]
  },
  {
   "cell_type": "code",
   "execution_count": 84,
   "metadata": {},
   "outputs": [],
   "source": [
    "features = list(train.columns)\n",
    "features_num = list(df.select_dtypes(np.number).columns)\n",
    "features_obj = list(df.select_dtypes(exclude=np.number).columns)"
   ]
  },
  {
   "cell_type": "code",
   "execution_count": 85,
   "metadata": {},
   "outputs": [
    {
     "data": {
      "image/png": "[encoded data removed]",
      "text/plain": [
       "<Figure size 432x288 with 1 Axes>"
      ]
     },
     "metadata": {
      "needs_background": "light"
     },
     "output_type": "display_data"
    },
    {
     "data": {
      "image/png": "[encoded data removed]",
      "text/plain": [
       "<Figure size 432x288 with 1 Axes>"
      ]
     },
     "metadata": {
      "needs_background": "light"
     },
     "output_type": "display_data"
    },
    {
     "data": {
      "image/png": "[encoded data removed]",
      "text/plain": [
       "<Figure size 432x288 with 1 Axes>"
      ]
     },
     "metadata": {
      "needs_background": "light"
     },
     "output_type": "display_data"
    },
    {
     "data": {
      "image/png": "[encoded data removed]",
      "text/plain": [
       "<Figure size 432x288 with 1 Axes>"
      ]
     },
     "metadata": {
      "needs_background": "light"
     },
     "output_type": "display_data"
    },
    {
     "data": {
      "image/png": "[encoded data removed]",
      "text/plain": [
       "<Figure size 432x288 with 1 Axes>"
      ]
     },
     "metadata": {
      "needs_background": "light"
     },
     "output_type": "display_data"
    },
    {
     "data": {
      "image/png": "[encoded data removed]",
      "text/plain": [
       "<Figure size 432x288 with 1 Axes>"
      ]
     },
     "metadata": {
      "needs_background": "light"
     },
     "output_type": "display_data"
    },
    {
     "data": {
      "image/png": "[encoded data removed]",
      "text/plain": [
       "<Figure size 432x288 with 1 Axes>"
      ]
     },
     "metadata": {
      "needs_background": "light"
     },
     "output_type": "display_data"
    },
    {
     "data": {
      "image/png": "[encoded data removed]",
      "text/plain": [
       "<Figure size 432x288 with 1 Axes>"
      ]
     },
     "metadata": {
      "needs_background": "light"
     },
     "output_type": "display_data"
    },
    {
     "data": {
      "image/png": "[encoded data removed]",
      "text/plain": [
       "<Figure size 432x288 with 1 Axes>"
      ]
     },
     "metadata": {
      "needs_background": "light"
     },
     "output_type": "display_data"
    },
    {
     "data": {
      "image/png": "[encoded data removed]",
      "text/plain": [
       "<Figure size 432x288 with 1 Axes>"
      ]
     },
     "metadata": {
      "needs_background": "light"
     },
     "output_type": "display_data"
    },
    {
     "data": {
      "image/png": "[encoded data removed]",
      "text/plain": [
       "<Figure size 432x288 with 1 Axes>"
      ]
     },
     "metadata": {
      "needs_background": "light"
     },
     "output_type": "display_data"
    },
    {
     "data": {
      "image/png": "[encoded data removed]",
      "text/plain": [
       "<Figure size 432x288 with 1 Axes>"
      ]
     },
     "metadata": {
      "needs_background": "light"
     },
     "output_type": "display_data"
    },
    {
     "data": {
      "image/png": "[encoded data removed]",
      "text/plain": [
       "<Figure size 432x288 with 1 Axes>"
      ]
     },
     "metadata": {
      "needs_background": "light"
     },
     "output_type": "display_data"
    }
   ],
   "source": [
    "for feature in features_num:\n",
    "    sns.distplot(df[feature].dropna())\n",
    "    plt.show()"
   ]
  },
  {
   "cell_type": "code",
   "execution_count": 91,
   "metadata": {},
   "outputs": [
    {
     "name": "stdout",
     "output_type": "stream",
     "text": [
      "bathroomcnt:\n",
      "2.0     17401\n",
      "3.0      8472\n",
      "1.0      7639\n",
      "2.5      3138\n",
      "4.0      1808\n",
      "3.5       733\n",
      "1.5       675\n",
      "5.0       635\n",
      "4.5       534\n",
      "6.0       252\n",
      "5.5       188\n",
      "7.0        70\n",
      "8.0        39\n",
      "6.5        37\n",
      "0.0        28\n",
      "7.5        13\n",
      "9.0        10\n",
      "10.0        3\n",
      "11.0        2\n",
      "8.5         2\n",
      "13.0        1\n",
      "Name: bathroomcnt, dtype: int64\n",
      "bedroomcnt:\n",
      "3     18606\n",
      "4     12129\n",
      "2      6655\n",
      "5      3181\n",
      "6       497\n",
      "1       464\n",
      "7        81\n",
      "0        42\n",
      "8        18\n",
      "9         5\n",
      "10        2\n",
      "Name: bedroomcnt, dtype: int64\n",
      "house_area:\n",
      "(106.198, 2308.1]     31269\n",
      "(2308.1, 4488.2]       9457\n",
      "(4488.2, 6668.3]        790\n",
      "(6668.3, 8848.4]        119\n",
      "(8848.4, 11028.5]        31\n",
      "(11028.5, 13208.6]        9\n",
      "(19748.9, 21929.0]        2\n",
      "(15388.7, 17568.8]        2\n",
      "(13208.6, 15388.7]        1\n",
      "(17568.8, 19748.9]        0\n",
      "Name: house_area, dtype: int64\n",
      "countyid:\n",
      "6037    26935\n",
      "6059    11286\n",
      "6111     3459\n",
      "Name: countyid, dtype: int64\n",
      "latitude:\n",
      "(34079693.5, 34227508.2]      9859\n",
      "(33784064.1, 33931878.8]      8734\n",
      "(33931878.8, 34079693.5]      7230\n",
      "(33636249.4, 33784064.1]      4821\n",
      "(34227508.2, 34375322.9]      3678\n",
      "(33488434.7, 33636249.4]      2592\n",
      "(34523137.6, 34670952.3]      1694\n",
      "(34375322.9, 34523137.6]      1455\n",
      "(34670952.3, 34818767.0]      1013\n",
      "(33339141.852, 33488434.7]     604\n",
      "Name: latitude, dtype: int64\n",
      "longitude:\n",
      "(-118131385.9, -117939381.6]      8948\n",
      "(-118323390.2, -118131385.9]      8012\n",
      "(-118515394.5, -118323390.2]      7402\n",
      "(-117939381.6, -117747377.3]      7280\n",
      "(-117747377.3, -117555373.0]      3607\n",
      "(-118707398.8, -118515394.5]      3037\n",
      "(-118899403.1, -118707398.8]      1425\n",
      "(-119283411.7, -119091407.4]      1025\n",
      "(-119091407.4, -118899403.1]       825\n",
      "(-119477336.044, -119283411.7]     119\n",
      "Name: longitude, dtype: int64\n",
      "whole_area:\n",
      "(-6734.775000000001, 697313.4]    41665\n",
      "(6273932.6, 6971010.0]                7\n",
      "(697313.4, 1394390.8]                 7\n",
      "(2091468.2, 2788545.6]                1\n",
      "(5576855.2, 6273932.6]                0\n",
      "(4879777.8, 5576855.2]                0\n",
      "(4182700.4, 4879777.8]                0\n",
      "(3485623.0, 4182700.4]                0\n",
      "(2788545.6, 3485623.0]                0\n",
      "(1394390.8, 2091468.2]                0\n",
      "Name: whole_area, dtype: int64\n",
      "yearbuilt:\n",
      "(1947.0, 1960.8]      12687\n",
      "(1960.8, 1974.6]       8201\n",
      "(1974.6, 1988.4]       5508\n",
      "(1988.4, 2002.2]       4719\n",
      "(1933.2, 1947.0]       3905\n",
      "(1919.4, 1933.2]       3242\n",
      "(2002.2, 2016.0]       2431\n",
      "(1905.6, 1919.4]        826\n",
      "(1891.8, 1905.6]        141\n",
      "(1877.861, 1891.8]       20\n",
      "Name: yearbuilt, dtype: int64\n",
      "house_value:\n",
      "(-9035.773000000001, 916606.2]    40965\n",
      "(916606.2, 1833083.4]               591\n",
      "(1833083.4, 2749560.6]               79\n",
      "(2749560.6, 3666037.8]               29\n",
      "(3666037.8, 4582515.0]                6\n",
      "(7331946.6, 8248423.8]                4\n",
      "(4582515.0, 5498992.2]                3\n",
      "(8248423.8, 9164901.0]                1\n",
      "(6415469.4, 7331946.6]                1\n",
      "(5498992.2, 6415469.4]                1\n",
      "Name: house_value, dtype: int64\n",
      "whole_value:\n",
      "(-20601.121, 2388766.0]     40929\n",
      "(2388766.0, 4774278.0]        595\n",
      "(4774278.0, 7159790.0]        104\n",
      "(7159790.0, 9545302.0]         27\n",
      "(9545302.0, 11930814.0]        10\n",
      "(11930814.0, 14316326.0]        7\n",
      "(21472862.0, 23858374.0]        2\n",
      "(19087350.0, 21472862.0]        2\n",
      "(16701838.0, 19087350.0]        2\n",
      "(14316326.0, 16701838.0]        2\n",
      "Name: whole_value, dtype: int64\n",
      "land_value:\n",
      "(-18113.34, 1827594.9]      41093\n",
      "(1827594.9, 3655028.8]        459\n",
      "(3655028.8, 5482462.7]         76\n",
      "(5482462.7, 7309896.6]         31\n",
      "(7309896.6, 9137330.5]          9\n",
      "(9137330.5, 10964764.4]         5\n",
      "(10964764.4, 12792198.3]        3\n",
      "(14619632.2, 16447066.1]        2\n",
      "(16447066.1, 18274500.0]        1\n",
      "(12792198.3, 14619632.2]        1\n",
      "Name: land_value, dtype: int64\n",
      "taxamount:\n",
      "(-227.57, 27724.045]       40926\n",
      "(27724.045, 55398.91]        596\n",
      "(55398.91, 83073.775]        103\n",
      "(83073.775, 110748.64]        28\n",
      "(110748.64, 138423.505]       11\n",
      "(138423.505, 166098.37]        8\n",
      "(221448.1, 249122.965]         3\n",
      "(249122.965, 276797.83]        2\n",
      "(193773.235, 221448.1]         2\n",
      "(166098.37, 193773.235]        1\n",
      "Name: taxamount, dtype: int64\n",
      "logerror:\n",
      "(-0.63, 0.175]                 39273\n",
      "(0.175, 0.98]                   2120\n",
      "(-1.435, -0.63]                   99\n",
      "(0.98, 1.785]                     85\n",
      "(1.785, 2.59]                     65\n",
      "(-2.24, -1.435]                   15\n",
      "(-3.045, -2.24]                   13\n",
      "(2.59, 3.395]                      8\n",
      "(-4.664000000000001, -3.85]        2\n",
      "(-3.85, -3.045]                    0\n",
      "Name: logerror, dtype: int64\n",
      "transactiondate:\n",
      "2017-06-30    622\n",
      "2017-04-28    461\n",
      "2017-05-31    449\n",
      "2017-08-31    430\n",
      "2017-07-28    428\n",
      "2017-05-26    417\n",
      "2017-06-16    409\n",
      "2017-03-31    402\n",
      "2017-06-23    392\n",
      "2017-07-07    391\n",
      "2017-08-25    367\n",
      "2017-09-01    363\n",
      "2017-07-31    348\n",
      "2017-09-08    340\n",
      "2017-05-19    333\n",
      "2017-08-11    329\n",
      "2017-05-05    327\n",
      "2017-06-01    324\n",
      "2017-05-12    323\n",
      "2017-03-24    322\n",
      "2017-07-14    322\n",
      "2017-06-29    322\n",
      "2017-06-02    307\n",
      "2017-08-30    306\n",
      "2017-03-28    298\n",
      "2017-04-14    297\n",
      "2017-02-28    296\n",
      "2017-06-09    294\n",
      "2017-08-18    293\n",
      "2017-06-28    291\n",
      "             ... \n",
      "2017-03-26      2\n",
      "2017-07-23      2\n",
      "2017-09-16      2\n",
      "2017-04-23      2\n",
      "2017-01-14      2\n",
      "2017-02-19      2\n",
      "2017-06-24      2\n",
      "2017-04-09      2\n",
      "2017-07-16      2\n",
      "2017-04-22      2\n",
      "2017-05-06      2\n",
      "2017-06-10      2\n",
      "2017-06-11      1\n",
      "2017-01-28      1\n",
      "2017-09-20      1\n",
      "2017-05-13      1\n",
      "2017-09-17      1\n",
      "2017-09-04      1\n",
      "2017-09-25      1\n",
      "2017-04-08      1\n",
      "2017-06-03      1\n",
      "2017-03-11      1\n",
      "2017-08-26      1\n",
      "2017-09-09      1\n",
      "2017-05-20      1\n",
      "2017-08-13      1\n",
      "2017-05-21      1\n",
      "2017-09-10      1\n",
      "2017-09-21      1\n",
      "2017-05-07      1\n",
      "Name: transactiondate, Length: 252, dtype: int64\n",
      "land_area:\n",
      "(-9303.114, 694880.3]     41665\n",
      "(6272570.7, 6969782.0]        7\n",
      "(694880.3, 1392091.6]         7\n",
      "(2089302.9, 2786514.2]        1\n",
      "(5575359.4, 6272570.7]        0\n",
      "(4878148.1, 5575359.4]        0\n",
      "(4180936.8, 4878148.1]        0\n",
      "(3483725.5, 4180936.8]        0\n",
      "(2786514.2, 3483725.5]        0\n",
      "(1392091.6, 2089302.9]        0\n",
      "Name: land_area, dtype: int64\n"
     ]
    }
   ],
   "source": [
    "for col in train.columns:\n",
    "    print(f'{col}:')\n",
    "    if train[col].dtype == 'object':\n",
    "        col_count = train[col].value_counts()\n",
    "    else:\n",
    "        if train[col].nunique() >= 25:\n",
    "            col_count = train[col].value_counts(bins=10, sort=False)\n",
    "        else:\n",
    "            col_count = train[col].value_counts()\n",
    "    print(col_count.sort_values(ascending=False))"
   ]
  },
  {
   "cell_type": "code",
   "execution_count": null,
   "metadata": {},
   "outputs": [],
   "source": []
  }
 ],
 "metadata": {
  "kernelspec": {
   "display_name": "Python 3",
   "language": "python",
   "name": "python3"
  },
  "language_info": {
   "codemirror_mode": {
    "name": "ipython",
    "version": 3
   },
   "file_extension": ".py",
   "mimetype": "text/x-python",
   "name": "python",
   "nbconvert_exporter": "python",
   "pygments_lexer": "ipython3",
   "version": "3.7.3"
  }
 },
 "nbformat": 4,
 "nbformat_minor": 2
}
