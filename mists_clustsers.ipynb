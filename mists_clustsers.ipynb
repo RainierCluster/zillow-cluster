{
 "cells": [
  {
   "cell_type": "code",
   "execution_count": 1,
   "metadata": {},
   "outputs": [],
   "source": [
    "import pandas as pd\n",
    "import numpy as np\n",
    "\n",
    "import acquire\n",
    "import prep\n",
    "\n",
    "import warnings\n",
    "warnings.filterwarnings(\"ignore\")"
   ]
  },
  {
   "cell_type": "markdown",
   "metadata": {},
   "source": [
    "### Acquire"
   ]
  },
  {
   "cell_type": "markdown",
   "metadata": {},
   "source": [
    "Pull single unit properties with transactions in 2017 from sql"
   ]
  },
  {
   "cell_type": "code",
   "execution_count": 156,
   "metadata": {},
   "outputs": [],
   "source": [
    "df = acquire.wrangle_zillow(acquire.get_sql_zillow())"
   ]
  },
  {
   "cell_type": "markdown",
   "metadata": {},
   "source": [
    "Check out data"
   ]
  },
  {
   "cell_type": "code",
   "execution_count": 157,
   "metadata": {},
   "outputs": [
    {
     "name": "stdout",
     "output_type": "stream",
     "text": [
      "<class 'pandas.core.frame.DataFrame'>\n",
      "Int64Index: 52292 entries, 77578 to 0\n",
      "Data columns (total 60 columns):\n",
      "parcelid                        52292 non-null int64\n",
      "basementsqft                    47 non-null float64\n",
      "bathroomcnt                     52292 non-null float64\n",
      "bedroomcnt                      52292 non-null float64\n",
      "buildingqualitytypeid           33632 non-null float64\n",
      "calculatedbathnbr               52158 non-null float64\n",
      "decktypeid                      388 non-null float64\n",
      "finishedfloor1squarefeet        4368 non-null float64\n",
      "calculatedfinishedsquarefeet    52211 non-null float64\n",
      "finishedsquarefeet12            52047 non-null float64\n",
      "finishedsquarefeet13            0 non-null float64\n",
      "finishedsquarefeet15            0 non-null float64\n",
      "finishedsquarefeet50            4368 non-null float64\n",
      "finishedsquarefeet6             164 non-null float64\n",
      "fips                            52292 non-null float64\n",
      "fireplacecnt                    7230 non-null float64\n",
      "fullbathcnt                     52158 non-null float64\n",
      "garagecarcnt                    17981 non-null float64\n",
      "garagetotalsqft                 17981 non-null float64\n",
      "hashottuborspa                  1514 non-null float64\n",
      "latitude                        52292 non-null float64\n",
      "longitude                       52292 non-null float64\n",
      "lotsizesquarefeet               51930 non-null float64\n",
      "poolcnt                         11072 non-null float64\n",
      "poolsizesum                     865 non-null float64\n",
      "pooltypeid10                    443 non-null float64\n",
      "pooltypeid2                     1071 non-null float64\n",
      "pooltypeid7                     9985 non-null float64\n",
      "propertycountylandusecode       52292 non-null object\n",
      "propertyzoningdesc              33738 non-null object\n",
      "rawcensustractandblock          52292 non-null float64\n",
      "regionidcity                    51256 non-null float64\n",
      "regionidcounty                  52292 non-null float64\n",
      "regionidneighborhood            18968 non-null float64\n",
      "regionidzip                     52266 non-null float64\n",
      "roomcnt                         52292 non-null float64\n",
      "threequarterbathnbr             6716 non-null float64\n",
      "unitcnt                         33734 non-null float64\n",
      "yardbuildingsqft17              1935 non-null float64\n",
      "yardbuildingsqft26              62 non-null float64\n",
      "yearbuilt                       52178 non-null float64\n",
      "numberofstories                 14528 non-null float64\n",
      "fireplaceflag                   81 non-null float64\n",
      "structuretaxvaluedollarcnt      52213 non-null float64\n",
      "taxvaluedollarcnt               52291 non-null float64\n",
      "assessmentyear                  52292 non-null float64\n",
      "landtaxvaluedollarcnt           52291 non-null float64\n",
      "taxamount                       52288 non-null float64\n",
      "taxdelinquencyflag              2066 non-null object\n",
      "taxdelinquencyyear              2066 non-null float64\n",
      "censustractandblock             52174 non-null float64\n",
      "airconditioningdesc             13610 non-null object\n",
      "architecturalstyledesc          70 non-null object\n",
      "buildingclassdesc               0 non-null object\n",
      "heatingorsystemdesc             33834 non-null object\n",
      "logerror                        52292 non-null float64\n",
      "transactiondate                 52292 non-null object\n",
      "propertylandusedesc             52292 non-null object\n",
      "storydesc                       47 non-null object\n",
      "typeconstructiondesc            76 non-null object\n",
      "dtypes: float64(48), int64(1), object(11)\n",
      "memory usage: 24.3+ MB\n"
     ]
    }
   ],
   "source": [
    "df.info()"
   ]
  },
  {
   "cell_type": "code",
   "execution_count": 158,
   "metadata": {},
   "outputs": [
    {
     "data": {
      "text/html": [
       "<div>\n",
       "<style scoped>\n",
       "    .dataframe tbody tr th:only-of-type {\n",
       "        vertical-align: middle;\n",
       "    }\n",
       "\n",
       "    .dataframe tbody tr th {\n",
       "        vertical-align: top;\n",
       "    }\n",
       "\n",
       "    .dataframe thead th {\n",
       "        text-align: right;\n",
       "    }\n",
       "</style>\n",
       "<table border=\"1\" class=\"dataframe\">\n",
       "  <thead>\n",
       "    <tr style=\"text-align: right;\">\n",
       "      <th></th>\n",
       "      <th>parcelid</th>\n",
       "      <th>basementsqft</th>\n",
       "      <th>bathroomcnt</th>\n",
       "      <th>bedroomcnt</th>\n",
       "      <th>buildingqualitytypeid</th>\n",
       "      <th>calculatedbathnbr</th>\n",
       "      <th>decktypeid</th>\n",
       "      <th>finishedfloor1squarefeet</th>\n",
       "      <th>calculatedfinishedsquarefeet</th>\n",
       "      <th>finishedsquarefeet12</th>\n",
       "      <th>...</th>\n",
       "      <th>censustractandblock</th>\n",
       "      <th>airconditioningdesc</th>\n",
       "      <th>architecturalstyledesc</th>\n",
       "      <th>buildingclassdesc</th>\n",
       "      <th>heatingorsystemdesc</th>\n",
       "      <th>logerror</th>\n",
       "      <th>transactiondate</th>\n",
       "      <th>propertylandusedesc</th>\n",
       "      <th>storydesc</th>\n",
       "      <th>typeconstructiondesc</th>\n",
       "    </tr>\n",
       "  </thead>\n",
       "  <tbody>\n",
       "    <tr>\n",
       "      <th>77578</th>\n",
       "      <td>12826780</td>\n",
       "      <td>NaN</td>\n",
       "      <td>2.0</td>\n",
       "      <td>3.0</td>\n",
       "      <td>6.0</td>\n",
       "      <td>2.0</td>\n",
       "      <td>NaN</td>\n",
       "      <td>NaN</td>\n",
       "      <td>1762.0</td>\n",
       "      <td>1762.0</td>\n",
       "      <td>...</td>\n",
       "      <td>6.037503e+13</td>\n",
       "      <td>None</td>\n",
       "      <td>None</td>\n",
       "      <td>None</td>\n",
       "      <td>Central</td>\n",
       "      <td>0.007204</td>\n",
       "      <td>2017-09-25</td>\n",
       "      <td>Single Family Residential</td>\n",
       "      <td>None</td>\n",
       "      <td>None</td>\n",
       "    </tr>\n",
       "    <tr>\n",
       "      <th>77577</th>\n",
       "      <td>12773139</td>\n",
       "      <td>NaN</td>\n",
       "      <td>1.0</td>\n",
       "      <td>3.0</td>\n",
       "      <td>4.0</td>\n",
       "      <td>1.0</td>\n",
       "      <td>NaN</td>\n",
       "      <td>NaN</td>\n",
       "      <td>1032.0</td>\n",
       "      <td>1032.0</td>\n",
       "      <td>...</td>\n",
       "      <td>6.037434e+13</td>\n",
       "      <td>Central</td>\n",
       "      <td>None</td>\n",
       "      <td>None</td>\n",
       "      <td>Central</td>\n",
       "      <td>0.037129</td>\n",
       "      <td>2017-09-21</td>\n",
       "      <td>Single Family Residential</td>\n",
       "      <td>None</td>\n",
       "      <td>None</td>\n",
       "    </tr>\n",
       "    <tr>\n",
       "      <th>77576</th>\n",
       "      <td>17239384</td>\n",
       "      <td>NaN</td>\n",
       "      <td>2.0</td>\n",
       "      <td>4.0</td>\n",
       "      <td>NaN</td>\n",
       "      <td>2.0</td>\n",
       "      <td>NaN</td>\n",
       "      <td>1612.0</td>\n",
       "      <td>1612.0</td>\n",
       "      <td>1612.0</td>\n",
       "      <td>...</td>\n",
       "      <td>6.111008e+13</td>\n",
       "      <td>None</td>\n",
       "      <td>None</td>\n",
       "      <td>None</td>\n",
       "      <td>None</td>\n",
       "      <td>0.013209</td>\n",
       "      <td>2017-09-21</td>\n",
       "      <td>Single Family Residential</td>\n",
       "      <td>None</td>\n",
       "      <td>None</td>\n",
       "    </tr>\n",
       "    <tr>\n",
       "      <th>77575</th>\n",
       "      <td>11000655</td>\n",
       "      <td>NaN</td>\n",
       "      <td>2.0</td>\n",
       "      <td>2.0</td>\n",
       "      <td>6.0</td>\n",
       "      <td>2.0</td>\n",
       "      <td>NaN</td>\n",
       "      <td>NaN</td>\n",
       "      <td>1286.0</td>\n",
       "      <td>1286.0</td>\n",
       "      <td>...</td>\n",
       "      <td>6.037101e+13</td>\n",
       "      <td>None</td>\n",
       "      <td>None</td>\n",
       "      <td>None</td>\n",
       "      <td>Central</td>\n",
       "      <td>0.020615</td>\n",
       "      <td>2017-09-20</td>\n",
       "      <td>Single Family Residential</td>\n",
       "      <td>None</td>\n",
       "      <td>None</td>\n",
       "    </tr>\n",
       "    <tr>\n",
       "      <th>77394</th>\n",
       "      <td>11388980</td>\n",
       "      <td>NaN</td>\n",
       "      <td>2.0</td>\n",
       "      <td>3.0</td>\n",
       "      <td>6.0</td>\n",
       "      <td>2.0</td>\n",
       "      <td>NaN</td>\n",
       "      <td>NaN</td>\n",
       "      <td>1518.0</td>\n",
       "      <td>1518.0</td>\n",
       "      <td>...</td>\n",
       "      <td>6.037703e+13</td>\n",
       "      <td>None</td>\n",
       "      <td>None</td>\n",
       "      <td>None</td>\n",
       "      <td>Floor/Wall</td>\n",
       "      <td>0.023168</td>\n",
       "      <td>2017-09-19</td>\n",
       "      <td>Single Family Residential</td>\n",
       "      <td>None</td>\n",
       "      <td>None</td>\n",
       "    </tr>\n",
       "  </tbody>\n",
       "</table>\n",
       "<p>5 rows × 60 columns</p>\n",
       "</div>"
      ],
      "text/plain": [
       "       parcelid  basementsqft  bathroomcnt  bedroomcnt  buildingqualitytypeid  \\\n",
       "77578  12826780           NaN          2.0         3.0                    6.0   \n",
       "77577  12773139           NaN          1.0         3.0                    4.0   \n",
       "77576  17239384           NaN          2.0         4.0                    NaN   \n",
       "77575  11000655           NaN          2.0         2.0                    6.0   \n",
       "77394  11388980           NaN          2.0         3.0                    6.0   \n",
       "\n",
       "       calculatedbathnbr  decktypeid  finishedfloor1squarefeet  \\\n",
       "77578                2.0         NaN                       NaN   \n",
       "77577                1.0         NaN                       NaN   \n",
       "77576                2.0         NaN                    1612.0   \n",
       "77575                2.0         NaN                       NaN   \n",
       "77394                2.0         NaN                       NaN   \n",
       "\n",
       "       calculatedfinishedsquarefeet  finishedsquarefeet12  ...  \\\n",
       "77578                        1762.0                1762.0  ...   \n",
       "77577                        1032.0                1032.0  ...   \n",
       "77576                        1612.0                1612.0  ...   \n",
       "77575                        1286.0                1286.0  ...   \n",
       "77394                        1518.0                1518.0  ...   \n",
       "\n",
       "       censustractandblock  airconditioningdesc  architecturalstyledesc  \\\n",
       "77578         6.037503e+13                 None                    None   \n",
       "77577         6.037434e+13              Central                    None   \n",
       "77576         6.111008e+13                 None                    None   \n",
       "77575         6.037101e+13                 None                    None   \n",
       "77394         6.037703e+13                 None                    None   \n",
       "\n",
       "       buildingclassdesc  heatingorsystemdesc  logerror  transactiondate  \\\n",
       "77578               None              Central  0.007204       2017-09-25   \n",
       "77577               None              Central  0.037129       2017-09-21   \n",
       "77576               None                 None  0.013209       2017-09-21   \n",
       "77575               None              Central  0.020615       2017-09-20   \n",
       "77394               None           Floor/Wall  0.023168       2017-09-19   \n",
       "\n",
       "             propertylandusedesc  storydesc  typeconstructiondesc  \n",
       "77578  Single Family Residential       None                  None  \n",
       "77577  Single Family Residential       None                  None  \n",
       "77576  Single Family Residential       None                  None  \n",
       "77575  Single Family Residential       None                  None  \n",
       "77394  Single Family Residential       None                  None  \n",
       "\n",
       "[5 rows x 60 columns]"
      ]
     },
     "execution_count": 158,
     "metadata": {},
     "output_type": "execute_result"
    }
   ],
   "source": [
    "df.head()"
   ]
  },
  {
   "cell_type": "code",
   "execution_count": 159,
   "metadata": {},
   "outputs": [
    {
     "data": {
      "text/plain": [
       "(52292, 60)"
      ]
     },
     "execution_count": 159,
     "metadata": {},
     "output_type": "execute_result"
    }
   ],
   "source": [
    "df.shape"
   ]
  },
  {
   "cell_type": "markdown",
   "metadata": {},
   "source": [
    "### Prepare"
   ]
  },
  {
   "cell_type": "markdown",
   "metadata": {},
   "source": [
    "Remove columns, then rows with a missing values"
   ]
  },
  {
   "cell_type": "code",
   "execution_count": 160,
   "metadata": {},
   "outputs": [
    {
     "data": {
      "text/plain": [
       "(52292, 27)"
      ]
     },
     "execution_count": 160,
     "metadata": {},
     "output_type": "execute_result"
    }
   ],
   "source": [
    "prep.handle_missing_values(df, .90, .40).shape"
   ]
  },
  {
   "cell_type": "code",
   "execution_count": 161,
   "metadata": {},
   "outputs": [
    {
     "name": "stdout",
     "output_type": "stream",
     "text": [
      "<class 'pandas.core.frame.DataFrame'>\n",
      "Int64Index: 52292 entries, 77578 to 0\n",
      "Data columns (total 27 columns):\n",
      "parcelid                        52292 non-null int64\n",
      "bathroomcnt                     52292 non-null float64\n",
      "bedroomcnt                      52292 non-null float64\n",
      "calculatedbathnbr               52158 non-null float64\n",
      "calculatedfinishedsquarefeet    52211 non-null float64\n",
      "finishedsquarefeet12            52047 non-null float64\n",
      "fips                            52292 non-null float64\n",
      "fullbathcnt                     52158 non-null float64\n",
      "latitude                        52292 non-null float64\n",
      "longitude                       52292 non-null float64\n",
      "lotsizesquarefeet               51930 non-null float64\n",
      "propertycountylandusecode       52292 non-null object\n",
      "rawcensustractandblock          52292 non-null float64\n",
      "regionidcity                    51256 non-null float64\n",
      "regionidcounty                  52292 non-null float64\n",
      "regionidzip                     52266 non-null float64\n",
      "roomcnt                         52292 non-null float64\n",
      "yearbuilt                       52178 non-null float64\n",
      "structuretaxvaluedollarcnt      52213 non-null float64\n",
      "taxvaluedollarcnt               52291 non-null float64\n",
      "assessmentyear                  52292 non-null float64\n",
      "landtaxvaluedollarcnt           52291 non-null float64\n",
      "taxamount                       52288 non-null float64\n",
      "censustractandblock             52174 non-null float64\n",
      "logerror                        52292 non-null float64\n",
      "transactiondate                 52292 non-null object\n",
      "propertylandusedesc             52292 non-null object\n",
      "dtypes: float64(23), int64(1), object(3)\n",
      "memory usage: 11.2+ MB\n"
     ]
    }
   ],
   "source": [
    "df.info()"
   ]
  },
  {
   "cell_type": "markdown",
   "metadata": {},
   "source": [
    "Check out nulls"
   ]
  },
  {
   "cell_type": "code",
   "execution_count": 162,
   "metadata": {},
   "outputs": [
    {
     "data": {
      "text/plain": [
       "parcelid                           0\n",
       "bathroomcnt                        0\n",
       "bedroomcnt                         0\n",
       "calculatedbathnbr                134\n",
       "calculatedfinishedsquarefeet      81\n",
       "finishedsquarefeet12             245\n",
       "fips                               0\n",
       "fullbathcnt                      134\n",
       "latitude                           0\n",
       "longitude                          0\n",
       "lotsizesquarefeet                362\n",
       "propertycountylandusecode          0\n",
       "rawcensustractandblock             0\n",
       "regionidcity                    1036\n",
       "regionidcounty                     0\n",
       "regionidzip                       26\n",
       "roomcnt                            0\n",
       "yearbuilt                        114\n",
       "structuretaxvaluedollarcnt        79\n",
       "taxvaluedollarcnt                  1\n",
       "assessmentyear                     0\n",
       "landtaxvaluedollarcnt              1\n",
       "taxamount                          4\n",
       "censustractandblock              118\n",
       "logerror                           0\n",
       "transactiondate                    0\n",
       "propertylandusedesc                0\n",
       "dtype: int64"
      ]
     },
     "execution_count": 162,
     "metadata": {},
     "output_type": "execute_result"
    }
   ],
   "source": [
    "df.isnull().sum()"
   ]
  },
  {
   "cell_type": "code",
   "execution_count": 163,
   "metadata": {},
   "outputs": [
    {
     "data": {
      "text/plain": [
       "Single Family Residential    52292\n",
       "Name: propertylandusedesc, dtype: int64"
      ]
     },
     "execution_count": 163,
     "metadata": {},
     "output_type": "execute_result"
    }
   ],
   "source": [
    "df.propertylandusedesc.value_counts()"
   ]
  },
  {
   "cell_type": "markdown",
   "metadata": {},
   "source": [
    "Drop columns with minimal nulls"
   ]
  },
  {
   "cell_type": "code",
   "execution_count": 164,
   "metadata": {},
   "outputs": [],
   "source": [
    "    df.drop(columns=[\"fullbathcnt\", \"finishedsquarefeet12\", \"regionidcounty\", \"propertycountylandusecode\", \n",
    "                     \"rawcensustractandblock\", \"censustractandblock\", \"regionidzip\", \n",
    "                     \"assessmentyear\", \"propertylandusedesc\"], inplace=True)"
   ]
  },
  {
   "cell_type": "code",
   "execution_count": 165,
   "metadata": {},
   "outputs": [
    {
     "name": "stdout",
     "output_type": "stream",
     "text": [
      "<class 'pandas.core.frame.DataFrame'>\n",
      "Int64Index: 52292 entries, 77578 to 0\n",
      "Data columns (total 18 columns):\n",
      "parcelid                        52292 non-null int64\n",
      "bathroomcnt                     52292 non-null float64\n",
      "bedroomcnt                      52292 non-null float64\n",
      "calculatedbathnbr               52158 non-null float64\n",
      "calculatedfinishedsquarefeet    52211 non-null float64\n",
      "fips                            52292 non-null float64\n",
      "latitude                        52292 non-null float64\n",
      "longitude                       52292 non-null float64\n",
      "lotsizesquarefeet               51930 non-null float64\n",
      "regionidcity                    51256 non-null float64\n",
      "roomcnt                         52292 non-null float64\n",
      "yearbuilt                       52178 non-null float64\n",
      "structuretaxvaluedollarcnt      52213 non-null float64\n",
      "taxvaluedollarcnt               52291 non-null float64\n",
      "landtaxvaluedollarcnt           52291 non-null float64\n",
      "taxamount                       52288 non-null float64\n",
      "logerror                        52292 non-null float64\n",
      "transactiondate                 52292 non-null object\n",
      "dtypes: float64(16), int64(1), object(1)\n",
      "memory usage: 7.6+ MB\n"
     ]
    }
   ],
   "source": [
    "df.info()"
   ]
  },
  {
   "cell_type": "code",
   "execution_count": 166,
   "metadata": {},
   "outputs": [
    {
     "data": {
      "text/plain": [
       "parcelid                           0\n",
       "bathroomcnt                        0\n",
       "bedroomcnt                         0\n",
       "calculatedbathnbr                134\n",
       "calculatedfinishedsquarefeet      81\n",
       "fips                               0\n",
       "latitude                           0\n",
       "longitude                          0\n",
       "lotsizesquarefeet                362\n",
       "regionidcity                    1036\n",
       "roomcnt                            0\n",
       "yearbuilt                        114\n",
       "structuretaxvaluedollarcnt        79\n",
       "taxvaluedollarcnt                  1\n",
       "landtaxvaluedollarcnt              1\n",
       "taxamount                          4\n",
       "logerror                           0\n",
       "transactiondate                    0\n",
       "dtype: int64"
      ]
     },
     "execution_count": 166,
     "metadata": {},
     "output_type": "execute_result"
    }
   ],
   "source": [
    "df.isnull().sum()"
   ]
  },
  {
   "cell_type": "code",
   "execution_count": 167,
   "metadata": {},
   "outputs": [
    {
     "data": {
      "text/html": [
       "<div>\n",
       "<style scoped>\n",
       "    .dataframe tbody tr th:only-of-type {\n",
       "        vertical-align: middle;\n",
       "    }\n",
       "\n",
       "    .dataframe tbody tr th {\n",
       "        vertical-align: top;\n",
       "    }\n",
       "\n",
       "    .dataframe thead th {\n",
       "        text-align: right;\n",
       "    }\n",
       "</style>\n",
       "<table border=\"1\" class=\"dataframe\">\n",
       "  <thead>\n",
       "    <tr style=\"text-align: right;\">\n",
       "      <th></th>\n",
       "      <th>parcelid</th>\n",
       "      <th>bathroomcnt</th>\n",
       "      <th>bedroomcnt</th>\n",
       "      <th>calculatedbathnbr</th>\n",
       "      <th>calculatedfinishedsquarefeet</th>\n",
       "      <th>fips</th>\n",
       "      <th>latitude</th>\n",
       "      <th>longitude</th>\n",
       "      <th>lotsizesquarefeet</th>\n",
       "      <th>regionidcity</th>\n",
       "      <th>roomcnt</th>\n",
       "      <th>yearbuilt</th>\n",
       "      <th>structuretaxvaluedollarcnt</th>\n",
       "      <th>taxvaluedollarcnt</th>\n",
       "      <th>landtaxvaluedollarcnt</th>\n",
       "      <th>taxamount</th>\n",
       "      <th>logerror</th>\n",
       "    </tr>\n",
       "  </thead>\n",
       "  <tbody>\n",
       "    <tr>\n",
       "      <th>count</th>\n",
       "      <td>5.229200e+04</td>\n",
       "      <td>52292.000000</td>\n",
       "      <td>52292.000000</td>\n",
       "      <td>52158.000000</td>\n",
       "      <td>52211.000000</td>\n",
       "      <td>52292.000000</td>\n",
       "      <td>5.229200e+04</td>\n",
       "      <td>5.229200e+04</td>\n",
       "      <td>5.193000e+04</td>\n",
       "      <td>51256.000000</td>\n",
       "      <td>52292.000000</td>\n",
       "      <td>52178.000000</td>\n",
       "      <td>5.221300e+04</td>\n",
       "      <td>5.229100e+04</td>\n",
       "      <td>5.229100e+04</td>\n",
       "      <td>52288.000000</td>\n",
       "      <td>52292.000000</td>\n",
       "    </tr>\n",
       "    <tr>\n",
       "      <th>mean</th>\n",
       "      <td>1.299711e+07</td>\n",
       "      <td>2.299377</td>\n",
       "      <td>3.300199</td>\n",
       "      <td>2.304594</td>\n",
       "      <td>1922.401984</td>\n",
       "      <td>6049.137382</td>\n",
       "      <td>3.402249e+07</td>\n",
       "      <td>-1.181940e+08</td>\n",
       "      <td>1.131517e+04</td>\n",
       "      <td>33484.556111</td>\n",
       "      <td>1.895108</td>\n",
       "      <td>1963.435969</td>\n",
       "      <td>1.965926e+05</td>\n",
       "      <td>5.285978e+05</td>\n",
       "      <td>3.322985e+05</td>\n",
       "      <td>6440.303283</td>\n",
       "      <td>0.018103</td>\n",
       "    </tr>\n",
       "    <tr>\n",
       "      <th>std</th>\n",
       "      <td>3.351561e+06</td>\n",
       "      <td>1.020189</td>\n",
       "      <td>0.945104</td>\n",
       "      <td>1.015472</td>\n",
       "      <td>1000.864812</td>\n",
       "      <td>21.027889</td>\n",
       "      <td>2.740681e+05</td>\n",
       "      <td>3.567045e+05</td>\n",
       "      <td>8.675146e+04</td>\n",
       "      <td>49101.555929</td>\n",
       "      <td>3.147328</td>\n",
       "      <td>23.115157</td>\n",
       "      <td>2.542889e+05</td>\n",
       "      <td>7.206677e+05</td>\n",
       "      <td>5.285519e+05</td>\n",
       "      <td>8371.170666</td>\n",
       "      <td>0.176545</td>\n",
       "    </tr>\n",
       "    <tr>\n",
       "      <th>min</th>\n",
       "      <td>1.071186e+07</td>\n",
       "      <td>0.000000</td>\n",
       "      <td>0.000000</td>\n",
       "      <td>1.000000</td>\n",
       "      <td>128.000000</td>\n",
       "      <td>6037.000000</td>\n",
       "      <td>3.334062e+07</td>\n",
       "      <td>-1.194754e+08</td>\n",
       "      <td>2.360000e+02</td>\n",
       "      <td>3491.000000</td>\n",
       "      <td>0.000000</td>\n",
       "      <td>1878.000000</td>\n",
       "      <td>1.290000e+02</td>\n",
       "      <td>1.000000e+03</td>\n",
       "      <td>1.610000e+02</td>\n",
       "      <td>49.180000</td>\n",
       "      <td>-4.655420</td>\n",
       "    </tr>\n",
       "    <tr>\n",
       "      <th>25%</th>\n",
       "      <td>1.151000e+07</td>\n",
       "      <td>2.000000</td>\n",
       "      <td>3.000000</td>\n",
       "      <td>2.000000</td>\n",
       "      <td>1268.000000</td>\n",
       "      <td>6037.000000</td>\n",
       "      <td>3.382684e+07</td>\n",
       "      <td>-1.184008e+08</td>\n",
       "      <td>5.583000e+03</td>\n",
       "      <td>12447.000000</td>\n",
       "      <td>0.000000</td>\n",
       "      <td>1950.000000</td>\n",
       "      <td>7.715100e+04</td>\n",
       "      <td>1.939865e+05</td>\n",
       "      <td>7.614400e+04</td>\n",
       "      <td>2660.135000</td>\n",
       "      <td>-0.024692</td>\n",
       "    </tr>\n",
       "    <tr>\n",
       "      <th>50%</th>\n",
       "      <td>1.257921e+07</td>\n",
       "      <td>2.000000</td>\n",
       "      <td>3.000000</td>\n",
       "      <td>2.000000</td>\n",
       "      <td>1659.000000</td>\n",
       "      <td>6037.000000</td>\n",
       "      <td>3.402365e+07</td>\n",
       "      <td>-1.181530e+08</td>\n",
       "      <td>6.841000e+03</td>\n",
       "      <td>24812.000000</td>\n",
       "      <td>0.000000</td>\n",
       "      <td>1961.000000</td>\n",
       "      <td>1.318830e+05</td>\n",
       "      <td>3.739690e+05</td>\n",
       "      <td>2.180790e+05</td>\n",
       "      <td>4650.130000</td>\n",
       "      <td>0.006940</td>\n",
       "    </tr>\n",
       "    <tr>\n",
       "      <th>75%</th>\n",
       "      <td>1.413042e+07</td>\n",
       "      <td>3.000000</td>\n",
       "      <td>4.000000</td>\n",
       "      <td>3.000000</td>\n",
       "      <td>2305.000000</td>\n",
       "      <td>6059.000000</td>\n",
       "      <td>3.418726e+07</td>\n",
       "      <td>-1.179289e+08</td>\n",
       "      <td>8.799750e+03</td>\n",
       "      <td>40227.000000</td>\n",
       "      <td>5.000000</td>\n",
       "      <td>1979.000000</td>\n",
       "      <td>2.264300e+05</td>\n",
       "      <td>6.192745e+05</td>\n",
       "      <td>4.086135e+05</td>\n",
       "      <td>7376.815000</td>\n",
       "      <td>0.040595</td>\n",
       "    </tr>\n",
       "    <tr>\n",
       "      <th>max</th>\n",
       "      <td>1.676878e+08</td>\n",
       "      <td>13.000000</td>\n",
       "      <td>11.000000</td>\n",
       "      <td>13.000000</td>\n",
       "      <td>21929.000000</td>\n",
       "      <td>6111.000000</td>\n",
       "      <td>3.481877e+07</td>\n",
       "      <td>-1.175546e+08</td>\n",
       "      <td>6.971010e+06</td>\n",
       "      <td>396556.000000</td>\n",
       "      <td>15.000000</td>\n",
       "      <td>2016.000000</td>\n",
       "      <td>9.164901e+06</td>\n",
       "      <td>2.538125e+07</td>\n",
       "      <td>2.233550e+07</td>\n",
       "      <td>290998.060000</td>\n",
       "      <td>5.262999</td>\n",
       "    </tr>\n",
       "  </tbody>\n",
       "</table>\n",
       "</div>"
      ],
      "text/plain": [
       "           parcelid   bathroomcnt    bedroomcnt  calculatedbathnbr  \\\n",
       "count  5.229200e+04  52292.000000  52292.000000       52158.000000   \n",
       "mean   1.299711e+07      2.299377      3.300199           2.304594   \n",
       "std    3.351561e+06      1.020189      0.945104           1.015472   \n",
       "min    1.071186e+07      0.000000      0.000000           1.000000   \n",
       "25%    1.151000e+07      2.000000      3.000000           2.000000   \n",
       "50%    1.257921e+07      2.000000      3.000000           2.000000   \n",
       "75%    1.413042e+07      3.000000      4.000000           3.000000   \n",
       "max    1.676878e+08     13.000000     11.000000          13.000000   \n",
       "\n",
       "       calculatedfinishedsquarefeet          fips      latitude     longitude  \\\n",
       "count                  52211.000000  52292.000000  5.229200e+04  5.229200e+04   \n",
       "mean                    1922.401984   6049.137382  3.402249e+07 -1.181940e+08   \n",
       "std                     1000.864812     21.027889  2.740681e+05  3.567045e+05   \n",
       "min                      128.000000   6037.000000  3.334062e+07 -1.194754e+08   \n",
       "25%                     1268.000000   6037.000000  3.382684e+07 -1.184008e+08   \n",
       "50%                     1659.000000   6037.000000  3.402365e+07 -1.181530e+08   \n",
       "75%                     2305.000000   6059.000000  3.418726e+07 -1.179289e+08   \n",
       "max                    21929.000000   6111.000000  3.481877e+07 -1.175546e+08   \n",
       "\n",
       "       lotsizesquarefeet   regionidcity       roomcnt     yearbuilt  \\\n",
       "count       5.193000e+04   51256.000000  52292.000000  52178.000000   \n",
       "mean        1.131517e+04   33484.556111      1.895108   1963.435969   \n",
       "std         8.675146e+04   49101.555929      3.147328     23.115157   \n",
       "min         2.360000e+02    3491.000000      0.000000   1878.000000   \n",
       "25%         5.583000e+03   12447.000000      0.000000   1950.000000   \n",
       "50%         6.841000e+03   24812.000000      0.000000   1961.000000   \n",
       "75%         8.799750e+03   40227.000000      5.000000   1979.000000   \n",
       "max         6.971010e+06  396556.000000     15.000000   2016.000000   \n",
       "\n",
       "       structuretaxvaluedollarcnt  taxvaluedollarcnt  landtaxvaluedollarcnt  \\\n",
       "count                5.221300e+04       5.229100e+04           5.229100e+04   \n",
       "mean                 1.965926e+05       5.285978e+05           3.322985e+05   \n",
       "std                  2.542889e+05       7.206677e+05           5.285519e+05   \n",
       "min                  1.290000e+02       1.000000e+03           1.610000e+02   \n",
       "25%                  7.715100e+04       1.939865e+05           7.614400e+04   \n",
       "50%                  1.318830e+05       3.739690e+05           2.180790e+05   \n",
       "75%                  2.264300e+05       6.192745e+05           4.086135e+05   \n",
       "max                  9.164901e+06       2.538125e+07           2.233550e+07   \n",
       "\n",
       "           taxamount      logerror  \n",
       "count   52288.000000  52292.000000  \n",
       "mean     6440.303283      0.018103  \n",
       "std      8371.170666      0.176545  \n",
       "min        49.180000     -4.655420  \n",
       "25%      2660.135000     -0.024692  \n",
       "50%      4650.130000      0.006940  \n",
       "75%      7376.815000      0.040595  \n",
       "max    290998.060000      5.262999  "
      ]
     },
     "execution_count": 167,
     "metadata": {},
     "output_type": "execute_result"
    }
   ],
   "source": [
    "df.describe()"
   ]
  },
  {
   "cell_type": "markdown",
   "metadata": {},
   "source": [
    "Check out distribution of calculatedbathnbr"
   ]
  },
  {
   "cell_type": "code",
   "execution_count": 168,
   "metadata": {},
   "outputs": [
    {
     "data": {
      "image/png": "[encoded data removed]",
      "text/plain": [
       "<Figure size 432x288 with 1 Axes>"
      ]
     },
     "metadata": {
      "needs_background": "light"
     },
     "output_type": "display_data"
    }
   ],
   "source": [
    "import seaborn as sns\n",
    "import matplotlib.pyplot as plt\n",
    "\n",
    "sns.distplot(df.calculatedbathnbr.dropna())\n",
    "plt.show()"
   ]
  },
  {
   "cell_type": "code",
   "execution_count": 169,
   "metadata": {},
   "outputs": [
    {
     "data": {
      "text/plain": [
       "2.0     21832\n",
       "3.0     10643\n",
       "1.0      9534\n",
       "2.5      3924\n",
       "4.0      2219\n",
       "3.5       916\n",
       "1.5       832\n",
       "5.0       803\n",
       "4.5       685\n",
       "6.0       318\n",
       "5.5       223\n",
       "NaN       134\n",
       "7.0        88\n",
       "8.0        53\n",
       "6.5        47\n",
       "7.5        16\n",
       "9.0        13\n",
       "10.0        5\n",
       "8.5         3\n",
       "11.0        3\n",
       "13.0        1\n",
       "Name: calculatedbathnbr, dtype: int64"
      ]
     },
     "execution_count": 169,
     "metadata": {},
     "output_type": "execute_result"
    }
   ],
   "source": [
    "df.calculatedbathnbr.value_counts(dropna=False)"
   ]
  },
  {
   "cell_type": "code",
   "execution_count": 170,
   "metadata": {},
   "outputs": [
    {
     "data": {
      "text/plain": [
       "134"
      ]
     },
     "execution_count": 170,
     "metadata": {},
     "output_type": "execute_result"
    }
   ],
   "source": [
    " (df.bathroomcnt != df.calculatedbathnbr).sum()"
   ]
  },
  {
   "cell_type": "code",
   "execution_count": 171,
   "metadata": {},
   "outputs": [
    {
     "data": {
      "text/plain": [
       "134"
      ]
     },
     "execution_count": 171,
     "metadata": {},
     "output_type": "execute_result"
    }
   ],
   "source": [
    "df.calculatedbathnbr.isnull().sum()"
   ]
  },
  {
   "cell_type": "markdown",
   "metadata": {},
   "source": [
    "Calculatedbathnbr and bathroomcnt are the same information, but calculatedbathnbr has nulls. Removed. "
   ]
  },
  {
   "cell_type": "code",
   "execution_count": 172,
   "metadata": {},
   "outputs": [],
   "source": [
    "df.drop(columns=\"calculatedbathnbr\", inplace=True)"
   ]
  },
  {
   "cell_type": "code",
   "execution_count": 173,
   "metadata": {},
   "outputs": [
    {
     "data": {
      "text/plain": [
       "parcelid                           0\n",
       "bathroomcnt                        0\n",
       "bedroomcnt                         0\n",
       "calculatedfinishedsquarefeet      81\n",
       "fips                               0\n",
       "latitude                           0\n",
       "longitude                          0\n",
       "lotsizesquarefeet                362\n",
       "regionidcity                    1036\n",
       "roomcnt                            0\n",
       "yearbuilt                        114\n",
       "structuretaxvaluedollarcnt        79\n",
       "taxvaluedollarcnt                  1\n",
       "landtaxvaluedollarcnt              1\n",
       "taxamount                          4\n",
       "logerror                           0\n",
       "transactiondate                    0\n",
       "dtype: int64"
      ]
     },
     "execution_count": 173,
     "metadata": {},
     "output_type": "execute_result"
    }
   ],
   "source": [
    "df.isnull().sum()"
   ]
  },
  {
   "cell_type": "code",
   "execution_count": 174,
   "metadata": {},
   "outputs": [
    {
     "data": {
      "text/plain": [
       "(106.198, 2308.1]     39190\n",
       "(2308.1, 4488.2]      11802\n",
       "(4488.2, 6668.3]       1002\n",
       "(6668.3, 8848.4]        157\n",
       "(8848.4, 11028.5]        42\n",
       "(11028.5, 13208.6]       12\n",
       "(19748.9, 21929.0]        2\n",
       "(15388.7, 17568.8]        2\n",
       "(13208.6, 15388.7]        2\n",
       "(17568.8, 19748.9]        0\n",
       "Name: calculatedfinishedsquarefeet, dtype: int64"
      ]
     },
     "execution_count": 174,
     "metadata": {},
     "output_type": "execute_result"
    }
   ],
   "source": [
    "df.calculatedfinishedsquarefeet.value_counts(bins=10)"
   ]
  },
  {
   "cell_type": "code",
   "execution_count": 175,
   "metadata": {},
   "outputs": [
    {
     "data": {
      "image/png": "[encoded data removed]",
      "text/plain": [
       "<Figure size 432x288 with 1 Axes>"
      ]
     },
     "metadata": {
      "needs_background": "light"
     },
     "output_type": "display_data"
    }
   ],
   "source": [
    "sns.distplot(df.calculatedfinishedsquarefeet.dropna())\n",
    "plt.show()"
   ]
  },
  {
   "cell_type": "code",
   "execution_count": 176,
   "metadata": {},
   "outputs": [
    {
     "data": {
      "text/plain": [
       "count    52211.000000\n",
       "mean      1922.401984\n",
       "std       1000.864812\n",
       "min        128.000000\n",
       "25%       1268.000000\n",
       "50%       1659.000000\n",
       "75%       2305.000000\n",
       "max      21929.000000\n",
       "Name: calculatedfinishedsquarefeet, dtype: float64"
      ]
     },
     "execution_count": 176,
     "metadata": {},
     "output_type": "execute_result"
    }
   ],
   "source": [
    "df.calculatedfinishedsquarefeet.describe()"
   ]
  },
  {
   "cell_type": "code",
   "execution_count": 177,
   "metadata": {},
   "outputs": [
    {
     "name": "stdout",
     "output_type": "stream",
     "text": [
      "<class 'pandas.core.frame.DataFrame'>\n",
      "Int64Index: 52292 entries, 77578 to 0\n",
      "Data columns (total 17 columns):\n",
      "parcelid                        52292 non-null int64\n",
      "bathroomcnt                     52292 non-null float64\n",
      "bedroomcnt                      52292 non-null float64\n",
      "calculatedfinishedsquarefeet    52211 non-null float64\n",
      "fips                            52292 non-null float64\n",
      "latitude                        52292 non-null float64\n",
      "longitude                       52292 non-null float64\n",
      "lotsizesquarefeet               51930 non-null float64\n",
      "regionidcity                    51256 non-null float64\n",
      "roomcnt                         52292 non-null float64\n",
      "yearbuilt                       52178 non-null float64\n",
      "structuretaxvaluedollarcnt      52213 non-null float64\n",
      "taxvaluedollarcnt               52291 non-null float64\n",
      "landtaxvaluedollarcnt           52291 non-null float64\n",
      "taxamount                       52288 non-null float64\n",
      "logerror                        52292 non-null float64\n",
      "transactiondate                 52292 non-null object\n",
      "dtypes: float64(15), int64(1), object(1)\n",
      "memory usage: 7.2+ MB\n"
     ]
    }
   ],
   "source": [
    "df.info()"
   ]
  },
  {
   "cell_type": "code",
   "execution_count": 178,
   "metadata": {},
   "outputs": [
    {
     "data": {
      "text/plain": [
       "1659.0"
      ]
     },
     "execution_count": 178,
     "metadata": {},
     "output_type": "execute_result"
    }
   ],
   "source": [
    "df.calculatedfinishedsquarefeet.median()"
   ]
  },
  {
   "cell_type": "code",
   "execution_count": 179,
   "metadata": {},
   "outputs": [
    {
     "data": {
      "text/plain": [
       "1922.4019842561913"
      ]
     },
     "execution_count": 179,
     "metadata": {},
     "output_type": "execute_result"
    }
   ],
   "source": [
    "df.calculatedfinishedsquarefeet.mean()"
   ]
  },
  {
   "cell_type": "code",
   "execution_count": 180,
   "metadata": {},
   "outputs": [
    {
     "data": {
      "text/plain": [
       "131883.0"
      ]
     },
     "execution_count": 180,
     "metadata": {},
     "output_type": "execute_result"
    }
   ],
   "source": [
    "df.structuretaxvaluedollarcnt.median()"
   ]
  },
  {
   "cell_type": "code",
   "execution_count": 181,
   "metadata": {},
   "outputs": [
    {
     "data": {
      "text/plain": [
       "196592.61356367188"
      ]
     },
     "execution_count": 181,
     "metadata": {},
     "output_type": "execute_result"
    }
   ],
   "source": [
    "df.structuretaxvaluedollarcnt.mean()"
   ]
  },
  {
   "cell_type": "code",
   "execution_count": 182,
   "metadata": {},
   "outputs": [
    {
     "data": {
      "image/png": "[encoded data removed]",
      "text/plain": [
       "<Figure size 432x288 with 1 Axes>"
      ]
     },
     "metadata": {
      "needs_background": "light"
     },
     "output_type": "display_data"
    }
   ],
   "source": [
    "sns.distplot(df.structuretaxvaluedollarcnt.dropna())\n",
    "plt.show()"
   ]
  },
  {
   "cell_type": "code",
   "execution_count": 183,
   "metadata": {},
   "outputs": [
    {
     "data": {
      "text/plain": [
       "parcelid                           0\n",
       "bathroomcnt                        0\n",
       "bedroomcnt                         0\n",
       "calculatedfinishedsquarefeet      81\n",
       "fips                               0\n",
       "latitude                           0\n",
       "longitude                          0\n",
       "lotsizesquarefeet                362\n",
       "regionidcity                    1036\n",
       "roomcnt                            0\n",
       "yearbuilt                        114\n",
       "structuretaxvaluedollarcnt        79\n",
       "taxvaluedollarcnt                  1\n",
       "landtaxvaluedollarcnt              1\n",
       "taxamount                          4\n",
       "logerror                           0\n",
       "transactiondate                    0\n",
       "dtype: int64"
      ]
     },
     "execution_count": 183,
     "metadata": {},
     "output_type": "execute_result"
    }
   ],
   "source": [
    "df.isnull().sum()"
   ]
  },
  {
   "cell_type": "markdown",
   "metadata": {},
   "source": [
    "After exploring distributions and summary stats for calculatedfininshedsquarefeet and structuretaxvaluedollarcnt, removed rows with nulls. Also, for other catergories, removed rows with minimal nulls."
   ]
  },
  {
   "cell_type": "code",
   "execution_count": 184,
   "metadata": {},
   "outputs": [],
   "source": [
    "df.dropna(axis=0,subset=[\"calculatedfinishedsquarefeet\",\"structuretaxvaluedollarcnt\",\n",
    "                         \"taxvaluedollarcnt\",\"landtaxvaluedollarcnt\",\"taxamount\"], inplace=True)"
   ]
  },
  {
   "cell_type": "code",
   "execution_count": 185,
   "metadata": {},
   "outputs": [
    {
     "data": {
      "text/plain": [
       "parcelid                           0\n",
       "bathroomcnt                        0\n",
       "bedroomcnt                         0\n",
       "calculatedfinishedsquarefeet       0\n",
       "fips                               0\n",
       "latitude                           0\n",
       "longitude                          0\n",
       "lotsizesquarefeet                340\n",
       "regionidcity                    1026\n",
       "roomcnt                            0\n",
       "yearbuilt                         38\n",
       "structuretaxvaluedollarcnt         0\n",
       "taxvaluedollarcnt                  0\n",
       "landtaxvaluedollarcnt              0\n",
       "taxamount                          0\n",
       "logerror                           0\n",
       "transactiondate                    0\n",
       "dtype: int64"
      ]
     },
     "execution_count": 185,
     "metadata": {},
     "output_type": "execute_result"
    }
   ],
   "source": [
    "df.isnull().sum()"
   ]
  },
  {
   "cell_type": "code",
   "execution_count": 186,
   "metadata": {},
   "outputs": [],
   "source": [
    "df.dropna(axis=0,subset=[\"yearbuilt\"], inplace=True)"
   ]
  },
  {
   "cell_type": "code",
   "execution_count": 187,
   "metadata": {},
   "outputs": [
    {
     "data": {
      "text/plain": [
       "parcelid                           0\n",
       "bathroomcnt                        0\n",
       "bedroomcnt                         0\n",
       "calculatedfinishedsquarefeet       0\n",
       "fips                               0\n",
       "latitude                           0\n",
       "longitude                          0\n",
       "lotsizesquarefeet                340\n",
       "regionidcity                    1020\n",
       "roomcnt                            0\n",
       "yearbuilt                          0\n",
       "structuretaxvaluedollarcnt         0\n",
       "taxvaluedollarcnt                  0\n",
       "landtaxvaluedollarcnt              0\n",
       "taxamount                          0\n",
       "logerror                           0\n",
       "transactiondate                    0\n",
       "dtype: int64"
      ]
     },
     "execution_count": 187,
     "metadata": {},
     "output_type": "execute_result"
    }
   ],
   "source": [
    "df.isnull().sum()"
   ]
  },
  {
   "cell_type": "markdown",
   "metadata": {},
   "source": [
    "Explore lot size and the nulls"
   ]
  },
  {
   "cell_type": "code",
   "execution_count": 188,
   "metadata": {},
   "outputs": [
    {
     "data": {
      "text/plain": [
       "<matplotlib.axes._subplots.AxesSubplot at 0x1a2c9ebfd0>"
      ]
     },
     "execution_count": 188,
     "metadata": {},
     "output_type": "execute_result"
    },
    {
     "data": {
      "image/png": "[encoded data removed]",
      "text/plain": [
       "<Figure size 432x288 with 1 Axes>"
      ]
     },
     "metadata": {
      "needs_background": "light"
     },
     "output_type": "display_data"
    }
   ],
   "source": [
    "sns.distplot(df.lotsizesquarefeet.dropna())"
   ]
  },
  {
   "cell_type": "code",
   "execution_count": 189,
   "metadata": {},
   "outputs": [
    {
     "data": {
      "text/plain": [
       "(-6734.775000000001, 464954.267]    51719\n",
       "(464954.267, 929672.533]               28\n",
       "(6506291.733, 6971010.0]                7\n",
       "(929672.533, 1394390.8]                 3\n",
       "(1394390.8, 1859109.067]                2\n",
       "(2788545.6, 3253263.867]                1\n",
       "(2323827.333, 2788545.6]                1\n",
       "(6041573.467, 6506291.733]              0\n",
       "(5576855.2, 6041573.467]                0\n",
       "(5112136.933, 5576855.2]                0\n",
       "(4647418.667, 5112136.933]              0\n",
       "(4182700.4, 4647418.667]                0\n",
       "(3717982.133, 4182700.4]                0\n",
       "(3253263.867, 3717982.133]              0\n",
       "(1859109.067, 2323827.333]              0\n",
       "Name: lotsizesquarefeet, dtype: int64"
      ]
     },
     "execution_count": 189,
     "metadata": {},
     "output_type": "execute_result"
    }
   ],
   "source": [
    "df.lotsizesquarefeet.value_counts(dropna=False, bins=15)"
   ]
  },
  {
   "cell_type": "code",
   "execution_count": 190,
   "metadata": {},
   "outputs": [
    {
     "data": {
      "text/plain": [
       "(52101, 17)"
      ]
     },
     "execution_count": 190,
     "metadata": {},
     "output_type": "execute_result"
    }
   ],
   "source": [
    "df.shape"
   ]
  },
  {
   "cell_type": "code",
   "execution_count": 191,
   "metadata": {},
   "outputs": [],
   "source": [
    "df[\"totallotvalue\"] = df.landtaxvaluedollarcnt + df.structuretaxvaluedollarcnt"
   ]
  },
  {
   "cell_type": "code",
   "execution_count": 192,
   "metadata": {},
   "outputs": [
    {
     "data": {
      "text/plain": [
       "0"
      ]
     },
     "execution_count": 192,
     "metadata": {},
     "output_type": "execute_result"
    }
   ],
   "source": [
    "(df.totallotvalue != df.taxvaluedollarcnt).sum()"
   ]
  },
  {
   "cell_type": "markdown",
   "metadata": {},
   "source": [
    "total value column is unnecessary as it equals the the taxvaluedollarcnt"
   ]
  },
  {
   "cell_type": "code",
   "execution_count": 193,
   "metadata": {},
   "outputs": [],
   "source": [
    "df[\"proportionlotandvalue\"] = df.lotsizesquarefeet.dropna() / df.taxvaluedollarcnt"
   ]
  },
  {
   "cell_type": "code",
   "execution_count": 194,
   "metadata": {},
   "outputs": [
    {
     "data": {
      "text/plain": [
       "count    51761.000000\n",
       "mean         0.048446\n",
       "std          0.493600\n",
       "min          0.000304\n",
       "25%          0.011136\n",
       "50%          0.019224\n",
       "75%          0.040611\n",
       "max         65.701643\n",
       "Name: proportionlotandvalue, dtype: float64"
      ]
     },
     "execution_count": 194,
     "metadata": {},
     "output_type": "execute_result"
    }
   ],
   "source": [
    "df.proportionlotandvalue.describe()"
   ]
  },
  {
   "cell_type": "markdown",
   "metadata": {},
   "source": [
    "Take the mean of proportions less that 1"
   ]
  },
  {
   "cell_type": "code",
   "execution_count": 195,
   "metadata": {},
   "outputs": [
    {
     "data": {
      "text/plain": [
       "0.03794092938148931"
      ]
     },
     "execution_count": 195,
     "metadata": {},
     "output_type": "execute_result"
    }
   ],
   "source": [
    "mean_proportion = df [df.proportionlotandvalue < 1].proportionlotandvalue.mean()\n",
    "mean_proportion"
   ]
  },
  {
   "cell_type": "code",
   "execution_count": 196,
   "metadata": {},
   "outputs": [],
   "source": [
    "df_subset = df[[\"lotsizesquarefeet\",\"totallotvalue\"]]"
   ]
  },
  {
   "cell_type": "code",
   "execution_count": 197,
   "metadata": {},
   "outputs": [],
   "source": [
    "df_subset[\"mean\"] = mean_proportion"
   ]
  },
  {
   "cell_type": "code",
   "execution_count": 198,
   "metadata": {},
   "outputs": [
    {
     "data": {
      "text/html": [
       "<div>\n",
       "<style scoped>\n",
       "    .dataframe tbody tr th:only-of-type {\n",
       "        vertical-align: middle;\n",
       "    }\n",
       "\n",
       "    .dataframe tbody tr th {\n",
       "        vertical-align: top;\n",
       "    }\n",
       "\n",
       "    .dataframe thead th {\n",
       "        text-align: right;\n",
       "    }\n",
       "</style>\n",
       "<table border=\"1\" class=\"dataframe\">\n",
       "  <thead>\n",
       "    <tr style=\"text-align: right;\">\n",
       "      <th></th>\n",
       "      <th>lotsizesquarefeet</th>\n",
       "      <th>totallotvalue</th>\n",
       "      <th>mean</th>\n",
       "    </tr>\n",
       "  </thead>\n",
       "  <tbody>\n",
       "    <tr>\n",
       "      <th>77578</th>\n",
       "      <td>6347.0</td>\n",
       "      <td>522000.0</td>\n",
       "      <td>0.037941</td>\n",
       "    </tr>\n",
       "    <tr>\n",
       "      <th>77577</th>\n",
       "      <td>5074.0</td>\n",
       "      <td>49546.0</td>\n",
       "      <td>0.037941</td>\n",
       "    </tr>\n",
       "    <tr>\n",
       "      <th>77576</th>\n",
       "      <td>12105.0</td>\n",
       "      <td>67205.0</td>\n",
       "      <td>0.037941</td>\n",
       "    </tr>\n",
       "    <tr>\n",
       "      <th>77575</th>\n",
       "      <td>47405.0</td>\n",
       "      <td>354621.0</td>\n",
       "      <td>0.037941</td>\n",
       "    </tr>\n",
       "    <tr>\n",
       "      <th>77394</th>\n",
       "      <td>5799.0</td>\n",
       "      <td>229242.0</td>\n",
       "      <td>0.037941</td>\n",
       "    </tr>\n",
       "  </tbody>\n",
       "</table>\n",
       "</div>"
      ],
      "text/plain": [
       "       lotsizesquarefeet  totallotvalue      mean\n",
       "77578             6347.0       522000.0  0.037941\n",
       "77577             5074.0        49546.0  0.037941\n",
       "77576            12105.0        67205.0  0.037941\n",
       "77575            47405.0       354621.0  0.037941\n",
       "77394             5799.0       229242.0  0.037941"
      ]
     },
     "execution_count": 198,
     "metadata": {},
     "output_type": "execute_result"
    }
   ],
   "source": [
    "df_subset.head()"
   ]
  },
  {
   "cell_type": "markdown",
   "metadata": {},
   "source": [
    "Fill the lot size nulls with the previous calculated mean"
   ]
  },
  {
   "cell_type": "code",
   "execution_count": 199,
   "metadata": {},
   "outputs": [],
   "source": [
    "df_subset.lotsizesquarefeet.fillna(df_subset.totallotvalue * df_subset[\"mean\"], inplace=True)"
   ]
  },
  {
   "cell_type": "code",
   "execution_count": 200,
   "metadata": {},
   "outputs": [
    {
     "data": {
      "text/plain": [
       "lotsizesquarefeet    0\n",
       "totallotvalue        0\n",
       "mean                 0\n",
       "dtype: int64"
      ]
     },
     "execution_count": 200,
     "metadata": {},
     "output_type": "execute_result"
    }
   ],
   "source": [
    "df_subset.isnull().sum()"
   ]
  },
  {
   "cell_type": "code",
   "execution_count": 201,
   "metadata": {},
   "outputs": [
    {
     "data": {
      "text/html": [
       "<div>\n",
       "<style scoped>\n",
       "    .dataframe tbody tr th:only-of-type {\n",
       "        vertical-align: middle;\n",
       "    }\n",
       "\n",
       "    .dataframe tbody tr th {\n",
       "        vertical-align: top;\n",
       "    }\n",
       "\n",
       "    .dataframe thead th {\n",
       "        text-align: right;\n",
       "    }\n",
       "</style>\n",
       "<table border=\"1\" class=\"dataframe\">\n",
       "  <thead>\n",
       "    <tr style=\"text-align: right;\">\n",
       "      <th></th>\n",
       "      <th>lotsizesquarefeet</th>\n",
       "      <th>totallotvalue</th>\n",
       "      <th>mean</th>\n",
       "    </tr>\n",
       "  </thead>\n",
       "  <tbody>\n",
       "    <tr>\n",
       "      <th>77578</th>\n",
       "      <td>6347.0</td>\n",
       "      <td>522000.0</td>\n",
       "      <td>0.037941</td>\n",
       "    </tr>\n",
       "    <tr>\n",
       "      <th>77577</th>\n",
       "      <td>5074.0</td>\n",
       "      <td>49546.0</td>\n",
       "      <td>0.037941</td>\n",
       "    </tr>\n",
       "    <tr>\n",
       "      <th>77576</th>\n",
       "      <td>12105.0</td>\n",
       "      <td>67205.0</td>\n",
       "      <td>0.037941</td>\n",
       "    </tr>\n",
       "    <tr>\n",
       "      <th>77575</th>\n",
       "      <td>47405.0</td>\n",
       "      <td>354621.0</td>\n",
       "      <td>0.037941</td>\n",
       "    </tr>\n",
       "    <tr>\n",
       "      <th>77394</th>\n",
       "      <td>5799.0</td>\n",
       "      <td>229242.0</td>\n",
       "      <td>0.037941</td>\n",
       "    </tr>\n",
       "  </tbody>\n",
       "</table>\n",
       "</div>"
      ],
      "text/plain": [
       "       lotsizesquarefeet  totallotvalue      mean\n",
       "77578             6347.0       522000.0  0.037941\n",
       "77577             5074.0        49546.0  0.037941\n",
       "77576            12105.0        67205.0  0.037941\n",
       "77575            47405.0       354621.0  0.037941\n",
       "77394             5799.0       229242.0  0.037941"
      ]
     },
     "execution_count": 201,
     "metadata": {},
     "output_type": "execute_result"
    }
   ],
   "source": [
    "df_subset.head()"
   ]
  },
  {
   "cell_type": "code",
   "execution_count": 202,
   "metadata": {},
   "outputs": [
    {
     "data": {
      "text/html": [
       "<div>\n",
       "<style scoped>\n",
       "    .dataframe tbody tr th:only-of-type {\n",
       "        vertical-align: middle;\n",
       "    }\n",
       "\n",
       "    .dataframe tbody tr th {\n",
       "        vertical-align: top;\n",
       "    }\n",
       "\n",
       "    .dataframe thead th {\n",
       "        text-align: right;\n",
       "    }\n",
       "</style>\n",
       "<table border=\"1\" class=\"dataframe\">\n",
       "  <thead>\n",
       "    <tr style=\"text-align: right;\">\n",
       "      <th></th>\n",
       "      <th>parcelid</th>\n",
       "      <th>bathroomcnt</th>\n",
       "      <th>bedroomcnt</th>\n",
       "      <th>calculatedfinishedsquarefeet</th>\n",
       "      <th>fips</th>\n",
       "      <th>latitude</th>\n",
       "      <th>longitude</th>\n",
       "      <th>lotsizesquarefeet</th>\n",
       "      <th>regionidcity</th>\n",
       "      <th>roomcnt</th>\n",
       "      <th>yearbuilt</th>\n",
       "      <th>structuretaxvaluedollarcnt</th>\n",
       "      <th>taxvaluedollarcnt</th>\n",
       "      <th>landtaxvaluedollarcnt</th>\n",
       "      <th>taxamount</th>\n",
       "      <th>logerror</th>\n",
       "      <th>transactiondate</th>\n",
       "      <th>totallotvalue</th>\n",
       "      <th>proportionlotandvalue</th>\n",
       "    </tr>\n",
       "  </thead>\n",
       "  <tbody>\n",
       "    <tr>\n",
       "      <th>77578</th>\n",
       "      <td>12826780</td>\n",
       "      <td>2.0</td>\n",
       "      <td>3.0</td>\n",
       "      <td>1762.0</td>\n",
       "      <td>6037.0</td>\n",
       "      <td>33937685.0</td>\n",
       "      <td>-117996709.0</td>\n",
       "      <td>6347.0</td>\n",
       "      <td>14634.0</td>\n",
       "      <td>0.0</td>\n",
       "      <td>1955.0</td>\n",
       "      <td>140000.0</td>\n",
       "      <td>522000.0</td>\n",
       "      <td>382000.0</td>\n",
       "      <td>6317.15</td>\n",
       "      <td>0.007204</td>\n",
       "      <td>2017-09-25</td>\n",
       "      <td>522000.0</td>\n",
       "      <td>0.012159</td>\n",
       "    </tr>\n",
       "    <tr>\n",
       "      <th>77577</th>\n",
       "      <td>12773139</td>\n",
       "      <td>1.0</td>\n",
       "      <td>3.0</td>\n",
       "      <td>1032.0</td>\n",
       "      <td>6037.0</td>\n",
       "      <td>34040895.0</td>\n",
       "      <td>-118038169.0</td>\n",
       "      <td>5074.0</td>\n",
       "      <td>36502.0</td>\n",
       "      <td>0.0</td>\n",
       "      <td>1954.0</td>\n",
       "      <td>32797.0</td>\n",
       "      <td>49546.0</td>\n",
       "      <td>16749.0</td>\n",
       "      <td>876.43</td>\n",
       "      <td>0.037129</td>\n",
       "      <td>2017-09-21</td>\n",
       "      <td>49546.0</td>\n",
       "      <td>0.102410</td>\n",
       "    </tr>\n",
       "    <tr>\n",
       "      <th>77576</th>\n",
       "      <td>17239384</td>\n",
       "      <td>2.0</td>\n",
       "      <td>4.0</td>\n",
       "      <td>1612.0</td>\n",
       "      <td>6111.0</td>\n",
       "      <td>34300140.0</td>\n",
       "      <td>-118706327.0</td>\n",
       "      <td>12105.0</td>\n",
       "      <td>27110.0</td>\n",
       "      <td>7.0</td>\n",
       "      <td>1964.0</td>\n",
       "      <td>50683.0</td>\n",
       "      <td>67205.0</td>\n",
       "      <td>16522.0</td>\n",
       "      <td>1107.48</td>\n",
       "      <td>0.013209</td>\n",
       "      <td>2017-09-21</td>\n",
       "      <td>67205.0</td>\n",
       "      <td>0.180121</td>\n",
       "    </tr>\n",
       "    <tr>\n",
       "      <th>77575</th>\n",
       "      <td>11000655</td>\n",
       "      <td>2.0</td>\n",
       "      <td>2.0</td>\n",
       "      <td>1286.0</td>\n",
       "      <td>6037.0</td>\n",
       "      <td>34245368.0</td>\n",
       "      <td>-118282383.0</td>\n",
       "      <td>47405.0</td>\n",
       "      <td>12447.0</td>\n",
       "      <td>0.0</td>\n",
       "      <td>1940.0</td>\n",
       "      <td>70917.0</td>\n",
       "      <td>354621.0</td>\n",
       "      <td>283704.0</td>\n",
       "      <td>4478.43</td>\n",
       "      <td>0.020615</td>\n",
       "      <td>2017-09-20</td>\n",
       "      <td>354621.0</td>\n",
       "      <td>0.133678</td>\n",
       "    </tr>\n",
       "    <tr>\n",
       "      <th>77394</th>\n",
       "      <td>11388980</td>\n",
       "      <td>2.0</td>\n",
       "      <td>3.0</td>\n",
       "      <td>1518.0</td>\n",
       "      <td>6037.0</td>\n",
       "      <td>33983643.0</td>\n",
       "      <td>-118362294.0</td>\n",
       "      <td>5799.0</td>\n",
       "      <td>116042.0</td>\n",
       "      <td>0.0</td>\n",
       "      <td>1948.0</td>\n",
       "      <td>116897.0</td>\n",
       "      <td>229242.0</td>\n",
       "      <td>112345.0</td>\n",
       "      <td>3277.29</td>\n",
       "      <td>0.023168</td>\n",
       "      <td>2017-09-19</td>\n",
       "      <td>229242.0</td>\n",
       "      <td>0.025296</td>\n",
       "    </tr>\n",
       "  </tbody>\n",
       "</table>\n",
       "</div>"
      ],
      "text/plain": [
       "       parcelid  bathroomcnt  bedroomcnt  calculatedfinishedsquarefeet  \\\n",
       "77578  12826780          2.0         3.0                        1762.0   \n",
       "77577  12773139          1.0         3.0                        1032.0   \n",
       "77576  17239384          2.0         4.0                        1612.0   \n",
       "77575  11000655          2.0         2.0                        1286.0   \n",
       "77394  11388980          2.0         3.0                        1518.0   \n",
       "\n",
       "         fips    latitude    longitude  lotsizesquarefeet  regionidcity  \\\n",
       "77578  6037.0  33937685.0 -117996709.0             6347.0       14634.0   \n",
       "77577  6037.0  34040895.0 -118038169.0             5074.0       36502.0   \n",
       "77576  6111.0  34300140.0 -118706327.0            12105.0       27110.0   \n",
       "77575  6037.0  34245368.0 -118282383.0            47405.0       12447.0   \n",
       "77394  6037.0  33983643.0 -118362294.0             5799.0      116042.0   \n",
       "\n",
       "       roomcnt  yearbuilt  structuretaxvaluedollarcnt  taxvaluedollarcnt  \\\n",
       "77578      0.0     1955.0                    140000.0           522000.0   \n",
       "77577      0.0     1954.0                     32797.0            49546.0   \n",
       "77576      7.0     1964.0                     50683.0            67205.0   \n",
       "77575      0.0     1940.0                     70917.0           354621.0   \n",
       "77394      0.0     1948.0                    116897.0           229242.0   \n",
       "\n",
       "       landtaxvaluedollarcnt  taxamount  logerror transactiondate  \\\n",
       "77578               382000.0    6317.15  0.007204      2017-09-25   \n",
       "77577                16749.0     876.43  0.037129      2017-09-21   \n",
       "77576                16522.0    1107.48  0.013209      2017-09-21   \n",
       "77575               283704.0    4478.43  0.020615      2017-09-20   \n",
       "77394               112345.0    3277.29  0.023168      2017-09-19   \n",
       "\n",
       "       totallotvalue  proportionlotandvalue  \n",
       "77578       522000.0               0.012159  \n",
       "77577        49546.0               0.102410  \n",
       "77576        67205.0               0.180121  \n",
       "77575       354621.0               0.133678  \n",
       "77394       229242.0               0.025296  "
      ]
     },
     "execution_count": 202,
     "metadata": {},
     "output_type": "execute_result"
    }
   ],
   "source": [
    "df.head()"
   ]
  },
  {
   "cell_type": "markdown",
   "metadata": {},
   "source": [
    "Replace lot size column with newly created non-null column"
   ]
  },
  {
   "cell_type": "code",
   "execution_count": 203,
   "metadata": {},
   "outputs": [],
   "source": [
    "df.lotsizesquarefeet = df_subset.lotsizesquarefeet"
   ]
  },
  {
   "cell_type": "code",
   "execution_count": 205,
   "metadata": {},
   "outputs": [
    {
     "data": {
      "text/plain": [
       "parcelid                           0\n",
       "bathroomcnt                        0\n",
       "bedroomcnt                         0\n",
       "calculatedfinishedsquarefeet       0\n",
       "fips                               0\n",
       "latitude                           0\n",
       "longitude                          0\n",
       "lotsizesquarefeet                  0\n",
       "regionidcity                    1020\n",
       "roomcnt                            0\n",
       "yearbuilt                          0\n",
       "structuretaxvaluedollarcnt         0\n",
       "taxvaluedollarcnt                  0\n",
       "landtaxvaluedollarcnt              0\n",
       "taxamount                          0\n",
       "logerror                           0\n",
       "transactiondate                    0\n",
       "totallotvalue                      0\n",
       "proportionlotandvalue            340\n",
       "dtype: int64"
      ]
     },
     "execution_count": 205,
     "metadata": {},
     "output_type": "execute_result"
    }
   ],
   "source": [
    "df.isnull().sum()"
   ]
  },
  {
   "cell_type": "code",
   "execution_count": 207,
   "metadata": {},
   "outputs": [],
   "source": [
    "df.drop(columns=[\"regionidcity\", \"totallotvalue\",\"proportionlotandvalue\"],inplace=True)"
   ]
  },
  {
   "cell_type": "code",
   "execution_count": 208,
   "metadata": {},
   "outputs": [
    {
     "data": {
      "text/plain": [
       "parcelid                        0\n",
       "bathroomcnt                     0\n",
       "bedroomcnt                      0\n",
       "calculatedfinishedsquarefeet    0\n",
       "fips                            0\n",
       "latitude                        0\n",
       "longitude                       0\n",
       "lotsizesquarefeet               0\n",
       "roomcnt                         0\n",
       "yearbuilt                       0\n",
       "structuretaxvaluedollarcnt      0\n",
       "taxvaluedollarcnt               0\n",
       "landtaxvaluedollarcnt           0\n",
       "taxamount                       0\n",
       "logerror                        0\n",
       "transactiondate                 0\n",
       "dtype: int64"
      ]
     },
     "execution_count": 208,
     "metadata": {},
     "output_type": "execute_result"
    }
   ],
   "source": [
    "df.isnull().sum()"
   ]
  },
  {
   "cell_type": "markdown",
   "metadata": {},
   "source": [
    "Remove roomcount because too many zero values"
   ]
  },
  {
   "cell_type": "code",
   "execution_count": 210,
   "metadata": {},
   "outputs": [
    {
     "data": {
      "text/plain": [
       "0.0     37588\n",
       "6.0      3966\n",
       "7.0      3598\n",
       "8.0      2805\n",
       "5.0      1879\n",
       "9.0      1172\n",
       "4.0       515\n",
       "10.0      338\n",
       "11.0      105\n",
       "3.0        74\n",
       "12.0       34\n",
       "13.0       10\n",
       "2.0        10\n",
       "14.0        5\n",
       "15.0        1\n",
       "1.0         1\n",
       "Name: roomcnt, dtype: int64"
      ]
     },
     "execution_count": 210,
     "metadata": {},
     "output_type": "execute_result"
    }
   ],
   "source": [
    "df.roomcnt.value_counts()"
   ]
  },
  {
   "cell_type": "code",
   "execution_count": 211,
   "metadata": {},
   "outputs": [],
   "source": [
    "df.drop(columns=[\"parcelid\",\"roomcnt\"], inplace=True)"
   ]
  },
  {
   "cell_type": "code",
   "execution_count": 212,
   "metadata": {},
   "outputs": [
    {
     "name": "stdout",
     "output_type": "stream",
     "text": [
      "<class 'pandas.core.frame.DataFrame'>\n",
      "Int64Index: 52101 entries, 77578 to 0\n",
      "Data columns (total 14 columns):\n",
      "bathroomcnt                     52101 non-null float64\n",
      "bedroomcnt                      52101 non-null float64\n",
      "calculatedfinishedsquarefeet    52101 non-null float64\n",
      "fips                            52101 non-null float64\n",
      "latitude                        52101 non-null float64\n",
      "longitude                       52101 non-null float64\n",
      "lotsizesquarefeet               52101 non-null float64\n",
      "yearbuilt                       52101 non-null float64\n",
      "structuretaxvaluedollarcnt      52101 non-null float64\n",
      "taxvaluedollarcnt               52101 non-null float64\n",
      "landtaxvaluedollarcnt           52101 non-null float64\n",
      "taxamount                       52101 non-null float64\n",
      "logerror                        52101 non-null float64\n",
      "transactiondate                 52101 non-null object\n",
      "dtypes: float64(13), object(1)\n",
      "memory usage: 8.5+ MB\n"
     ]
    }
   ],
   "source": [
    "df.info()"
   ]
  },
  {
   "cell_type": "markdown",
   "metadata": {},
   "source": [
    "Rename columns to things more relevant"
   ]
  },
  {
   "cell_type": "code",
   "execution_count": 213,
   "metadata": {},
   "outputs": [],
   "source": [
    "df.rename(columns={\"calculatedfinishedsquarefeet\":\"house_area\",\"fips\":\"countyid\",\"structuretaxvaluedollarcnt\":\"house_value\", \n",
    "                   \"taxvaluedollarcnt\":\"whole_value\",\"landtaxvaluedollarcnt\":\"land_value\",\"lotsizesquarefeet\":\"whole_area\"},\n",
    "          inplace=True)"
   ]
  },
  {
   "cell_type": "code",
   "execution_count": 214,
   "metadata": {},
   "outputs": [
    {
     "data": {
      "text/plain": [
       "(52101, 14)"
      ]
     },
     "execution_count": 214,
     "metadata": {},
     "output_type": "execute_result"
    }
   ],
   "source": [
    "df.shape"
   ]
  },
  {
   "cell_type": "code",
   "execution_count": 215,
   "metadata": {},
   "outputs": [
    {
     "data": {
      "text/html": [
       "<div>\n",
       "<style scoped>\n",
       "    .dataframe tbody tr th:only-of-type {\n",
       "        vertical-align: middle;\n",
       "    }\n",
       "\n",
       "    .dataframe tbody tr th {\n",
       "        vertical-align: top;\n",
       "    }\n",
       "\n",
       "    .dataframe thead th {\n",
       "        text-align: right;\n",
       "    }\n",
       "</style>\n",
       "<table border=\"1\" class=\"dataframe\">\n",
       "  <thead>\n",
       "    <tr style=\"text-align: right;\">\n",
       "      <th></th>\n",
       "      <th>bathroomcnt</th>\n",
       "      <th>bedroomcnt</th>\n",
       "      <th>house_area</th>\n",
       "      <th>countyid</th>\n",
       "      <th>latitude</th>\n",
       "      <th>longitude</th>\n",
       "      <th>whole_area</th>\n",
       "      <th>yearbuilt</th>\n",
       "      <th>house_value</th>\n",
       "      <th>whole_value</th>\n",
       "      <th>land_value</th>\n",
       "      <th>taxamount</th>\n",
       "      <th>logerror</th>\n",
       "      <th>transactiondate</th>\n",
       "    </tr>\n",
       "  </thead>\n",
       "  <tbody>\n",
       "    <tr>\n",
       "      <th>77578</th>\n",
       "      <td>2.0</td>\n",
       "      <td>3.0</td>\n",
       "      <td>1762.0</td>\n",
       "      <td>6037.0</td>\n",
       "      <td>33937685.0</td>\n",
       "      <td>-117996709.0</td>\n",
       "      <td>6347.0</td>\n",
       "      <td>1955.0</td>\n",
       "      <td>140000.0</td>\n",
       "      <td>522000.0</td>\n",
       "      <td>382000.0</td>\n",
       "      <td>6317.15</td>\n",
       "      <td>0.007204</td>\n",
       "      <td>2017-09-25</td>\n",
       "    </tr>\n",
       "    <tr>\n",
       "      <th>77577</th>\n",
       "      <td>1.0</td>\n",
       "      <td>3.0</td>\n",
       "      <td>1032.0</td>\n",
       "      <td>6037.0</td>\n",
       "      <td>34040895.0</td>\n",
       "      <td>-118038169.0</td>\n",
       "      <td>5074.0</td>\n",
       "      <td>1954.0</td>\n",
       "      <td>32797.0</td>\n",
       "      <td>49546.0</td>\n",
       "      <td>16749.0</td>\n",
       "      <td>876.43</td>\n",
       "      <td>0.037129</td>\n",
       "      <td>2017-09-21</td>\n",
       "    </tr>\n",
       "    <tr>\n",
       "      <th>77576</th>\n",
       "      <td>2.0</td>\n",
       "      <td>4.0</td>\n",
       "      <td>1612.0</td>\n",
       "      <td>6111.0</td>\n",
       "      <td>34300140.0</td>\n",
       "      <td>-118706327.0</td>\n",
       "      <td>12105.0</td>\n",
       "      <td>1964.0</td>\n",
       "      <td>50683.0</td>\n",
       "      <td>67205.0</td>\n",
       "      <td>16522.0</td>\n",
       "      <td>1107.48</td>\n",
       "      <td>0.013209</td>\n",
       "      <td>2017-09-21</td>\n",
       "    </tr>\n",
       "    <tr>\n",
       "      <th>77575</th>\n",
       "      <td>2.0</td>\n",
       "      <td>2.0</td>\n",
       "      <td>1286.0</td>\n",
       "      <td>6037.0</td>\n",
       "      <td>34245368.0</td>\n",
       "      <td>-118282383.0</td>\n",
       "      <td>47405.0</td>\n",
       "      <td>1940.0</td>\n",
       "      <td>70917.0</td>\n",
       "      <td>354621.0</td>\n",
       "      <td>283704.0</td>\n",
       "      <td>4478.43</td>\n",
       "      <td>0.020615</td>\n",
       "      <td>2017-09-20</td>\n",
       "    </tr>\n",
       "    <tr>\n",
       "      <th>77394</th>\n",
       "      <td>2.0</td>\n",
       "      <td>3.0</td>\n",
       "      <td>1518.0</td>\n",
       "      <td>6037.0</td>\n",
       "      <td>33983643.0</td>\n",
       "      <td>-118362294.0</td>\n",
       "      <td>5799.0</td>\n",
       "      <td>1948.0</td>\n",
       "      <td>116897.0</td>\n",
       "      <td>229242.0</td>\n",
       "      <td>112345.0</td>\n",
       "      <td>3277.29</td>\n",
       "      <td>0.023168</td>\n",
       "      <td>2017-09-19</td>\n",
       "    </tr>\n",
       "  </tbody>\n",
       "</table>\n",
       "</div>"
      ],
      "text/plain": [
       "       bathroomcnt  bedroomcnt  house_area  countyid    latitude    longitude  \\\n",
       "77578          2.0         3.0      1762.0    6037.0  33937685.0 -117996709.0   \n",
       "77577          1.0         3.0      1032.0    6037.0  34040895.0 -118038169.0   \n",
       "77576          2.0         4.0      1612.0    6111.0  34300140.0 -118706327.0   \n",
       "77575          2.0         2.0      1286.0    6037.0  34245368.0 -118282383.0   \n",
       "77394          2.0         3.0      1518.0    6037.0  33983643.0 -118362294.0   \n",
       "\n",
       "       whole_area  yearbuilt  house_value  whole_value  land_value  taxamount  \\\n",
       "77578      6347.0     1955.0     140000.0     522000.0    382000.0    6317.15   \n",
       "77577      5074.0     1954.0      32797.0      49546.0     16749.0     876.43   \n",
       "77576     12105.0     1964.0      50683.0      67205.0     16522.0    1107.48   \n",
       "77575     47405.0     1940.0      70917.0     354621.0    283704.0    4478.43   \n",
       "77394      5799.0     1948.0     116897.0     229242.0    112345.0    3277.29   \n",
       "\n",
       "       logerror transactiondate  \n",
       "77578  0.007204      2017-09-25  \n",
       "77577  0.037129      2017-09-21  \n",
       "77576  0.013209      2017-09-21  \n",
       "77575  0.020615      2017-09-20  \n",
       "77394  0.023168      2017-09-19  "
      ]
     },
     "execution_count": 215,
     "metadata": {},
     "output_type": "execute_result"
    }
   ],
   "source": [
    "df.head()"
   ]
  },
  {
   "cell_type": "markdown",
   "metadata": {},
   "source": [
    "Create land area based on whole and house area"
   ]
  },
  {
   "cell_type": "code",
   "execution_count": 220,
   "metadata": {},
   "outputs": [
    {
     "data": {
      "text/plain": [
       "0"
      ]
     },
     "execution_count": 220,
     "metadata": {},
     "output_type": "execute_result"
    }
   ],
   "source": [
    "((df.house_value + df.land_value) != df.whole_value).sum()"
   ]
  },
  {
   "cell_type": "code",
   "execution_count": 221,
   "metadata": {},
   "outputs": [],
   "source": [
    "df[\"land_area\"] = df.whole_area - df.house_area"
   ]
  },
  {
   "cell_type": "markdown",
   "metadata": {},
   "source": [
    "Rearrange columns based on neighbors"
   ]
  },
  {
   "cell_type": "code",
   "execution_count": 222,
   "metadata": {},
   "outputs": [
    {
     "data": {
      "text/html": [
       "<div>\n",
       "<style scoped>\n",
       "    .dataframe tbody tr th:only-of-type {\n",
       "        vertical-align: middle;\n",
       "    }\n",
       "\n",
       "    .dataframe tbody tr th {\n",
       "        vertical-align: top;\n",
       "    }\n",
       "\n",
       "    .dataframe thead th {\n",
       "        text-align: right;\n",
       "    }\n",
       "</style>\n",
       "<table border=\"1\" class=\"dataframe\">\n",
       "  <thead>\n",
       "    <tr style=\"text-align: right;\">\n",
       "      <th></th>\n",
       "      <th>countyid</th>\n",
       "      <th>latitude</th>\n",
       "      <th>longitude</th>\n",
       "      <th>yearbuilt</th>\n",
       "      <th>bathroomcnt</th>\n",
       "      <th>bedroomcnt</th>\n",
       "      <th>house_area</th>\n",
       "      <th>house_value</th>\n",
       "      <th>land_area</th>\n",
       "      <th>land_value</th>\n",
       "      <th>whole_area</th>\n",
       "      <th>whole_value</th>\n",
       "      <th>taxamount</th>\n",
       "      <th>logerror</th>\n",
       "      <th>transactiondate</th>\n",
       "    </tr>\n",
       "  </thead>\n",
       "  <tbody>\n",
       "    <tr>\n",
       "      <th>77578</th>\n",
       "      <td>6037.0</td>\n",
       "      <td>33937685.0</td>\n",
       "      <td>-117996709.0</td>\n",
       "      <td>1955.0</td>\n",
       "      <td>2.0</td>\n",
       "      <td>3.0</td>\n",
       "      <td>1762.0</td>\n",
       "      <td>140000.0</td>\n",
       "      <td>4585.0</td>\n",
       "      <td>382000.0</td>\n",
       "      <td>6347.0</td>\n",
       "      <td>522000.0</td>\n",
       "      <td>6317.15</td>\n",
       "      <td>0.007204</td>\n",
       "      <td>2017-09-25</td>\n",
       "    </tr>\n",
       "    <tr>\n",
       "      <th>77577</th>\n",
       "      <td>6037.0</td>\n",
       "      <td>34040895.0</td>\n",
       "      <td>-118038169.0</td>\n",
       "      <td>1954.0</td>\n",
       "      <td>1.0</td>\n",
       "      <td>3.0</td>\n",
       "      <td>1032.0</td>\n",
       "      <td>32797.0</td>\n",
       "      <td>4042.0</td>\n",
       "      <td>16749.0</td>\n",
       "      <td>5074.0</td>\n",
       "      <td>49546.0</td>\n",
       "      <td>876.43</td>\n",
       "      <td>0.037129</td>\n",
       "      <td>2017-09-21</td>\n",
       "    </tr>\n",
       "    <tr>\n",
       "      <th>77576</th>\n",
       "      <td>6111.0</td>\n",
       "      <td>34300140.0</td>\n",
       "      <td>-118706327.0</td>\n",
       "      <td>1964.0</td>\n",
       "      <td>2.0</td>\n",
       "      <td>4.0</td>\n",
       "      <td>1612.0</td>\n",
       "      <td>50683.0</td>\n",
       "      <td>10493.0</td>\n",
       "      <td>16522.0</td>\n",
       "      <td>12105.0</td>\n",
       "      <td>67205.0</td>\n",
       "      <td>1107.48</td>\n",
       "      <td>0.013209</td>\n",
       "      <td>2017-09-21</td>\n",
       "    </tr>\n",
       "    <tr>\n",
       "      <th>77575</th>\n",
       "      <td>6037.0</td>\n",
       "      <td>34245368.0</td>\n",
       "      <td>-118282383.0</td>\n",
       "      <td>1940.0</td>\n",
       "      <td>2.0</td>\n",
       "      <td>2.0</td>\n",
       "      <td>1286.0</td>\n",
       "      <td>70917.0</td>\n",
       "      <td>46119.0</td>\n",
       "      <td>283704.0</td>\n",
       "      <td>47405.0</td>\n",
       "      <td>354621.0</td>\n",
       "      <td>4478.43</td>\n",
       "      <td>0.020615</td>\n",
       "      <td>2017-09-20</td>\n",
       "    </tr>\n",
       "    <tr>\n",
       "      <th>77394</th>\n",
       "      <td>6037.0</td>\n",
       "      <td>33983643.0</td>\n",
       "      <td>-118362294.0</td>\n",
       "      <td>1948.0</td>\n",
       "      <td>2.0</td>\n",
       "      <td>3.0</td>\n",
       "      <td>1518.0</td>\n",
       "      <td>116897.0</td>\n",
       "      <td>4281.0</td>\n",
       "      <td>112345.0</td>\n",
       "      <td>5799.0</td>\n",
       "      <td>229242.0</td>\n",
       "      <td>3277.29</td>\n",
       "      <td>0.023168</td>\n",
       "      <td>2017-09-19</td>\n",
       "    </tr>\n",
       "  </tbody>\n",
       "</table>\n",
       "</div>"
      ],
      "text/plain": [
       "       countyid    latitude    longitude  yearbuilt  bathroomcnt  bedroomcnt  \\\n",
       "77578    6037.0  33937685.0 -117996709.0     1955.0          2.0         3.0   \n",
       "77577    6037.0  34040895.0 -118038169.0     1954.0          1.0         3.0   \n",
       "77576    6111.0  34300140.0 -118706327.0     1964.0          2.0         4.0   \n",
       "77575    6037.0  34245368.0 -118282383.0     1940.0          2.0         2.0   \n",
       "77394    6037.0  33983643.0 -118362294.0     1948.0          2.0         3.0   \n",
       "\n",
       "       house_area  house_value  land_area  land_value  whole_area  \\\n",
       "77578      1762.0     140000.0     4585.0    382000.0      6347.0   \n",
       "77577      1032.0      32797.0     4042.0     16749.0      5074.0   \n",
       "77576      1612.0      50683.0    10493.0     16522.0     12105.0   \n",
       "77575      1286.0      70917.0    46119.0    283704.0     47405.0   \n",
       "77394      1518.0     116897.0     4281.0    112345.0      5799.0   \n",
       "\n",
       "       whole_value  taxamount  logerror transactiondate  \n",
       "77578     522000.0    6317.15  0.007204      2017-09-25  \n",
       "77577      49546.0     876.43  0.037129      2017-09-21  \n",
       "77576      67205.0    1107.48  0.013209      2017-09-21  \n",
       "77575     354621.0    4478.43  0.020615      2017-09-20  \n",
       "77394     229242.0    3277.29  0.023168      2017-09-19  "
      ]
     },
     "execution_count": 222,
     "metadata": {},
     "output_type": "execute_result"
    }
   ],
   "source": [
    "df[[\"countyid\",\"latitude\",\"longitude\",\"yearbuilt\",\"bathroomcnt\",\"bedroomcnt\",\"house_area\",\n",
    "    \"house_value\",\"land_area\",\"land_value\",\"whole_area\",\"whole_value\",\n",
    "    \"taxamount\",\"logerror\",\"transactiondate\"]].head()"
   ]
  },
  {
   "cell_type": "code",
   "execution_count": null,
   "metadata": {},
   "outputs": [],
   "source": []
  }
 ],
 "metadata": {
  "kernelspec": {
   "display_name": "Python 3",
   "language": "python",
   "name": "python3"
  },
  "language_info": {
   "codemirror_mode": {
    "name": "ipython",
    "version": 3
   },
   "file_extension": ".py",
   "mimetype": "text/x-python",
   "name": "python",
   "nbconvert_exporter": "python",
   "pygments_lexer": "ipython3",
   "version": "3.7.3"
  }
 },
 "nbformat": 4,
 "nbformat_minor": 2
}
