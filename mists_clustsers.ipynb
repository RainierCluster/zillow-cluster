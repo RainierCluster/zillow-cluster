{
 "cells": [
  {
   "cell_type": "code",
   "execution_count": 1,
   "metadata": {},
   "outputs": [],
   "source": [
    "import acquire"
   ]
  },
  {
   "cell_type": "code",
   "execution_count": 5,
   "metadata": {},
   "outputs": [],
   "source": [
    "df = acquire.wrangle_zillow(acquire.get_sql_zillow())"
   ]
  },
  {
   "cell_type": "code",
   "execution_count": 6,
   "metadata": {},
   "outputs": [
    {
     "name": "stdout",
     "output_type": "stream",
     "text": [
      "<class 'pandas.core.frame.DataFrame'>\n",
      "Int64Index: 52292 entries, 77578 to 0\n",
      "Data columns (total 60 columns):\n",
      "parcelid                        52292 non-null int64\n",
      "basementsqft                    47 non-null float64\n",
      "bathroomcnt                     52292 non-null float64\n",
      "bedroomcnt                      52292 non-null float64\n",
      "buildingqualitytypeid           33632 non-null float64\n",
      "calculatedbathnbr               52158 non-null float64\n",
      "decktypeid                      388 non-null float64\n",
      "finishedfloor1squarefeet        4368 non-null float64\n",
      "calculatedfinishedsquarefeet    52211 non-null float64\n",
      "finishedsquarefeet12            52047 non-null float64\n",
      "finishedsquarefeet13            0 non-null float64\n",
      "finishedsquarefeet15            0 non-null float64\n",
      "finishedsquarefeet50            4368 non-null float64\n",
      "finishedsquarefeet6             164 non-null float64\n",
      "fips                            52292 non-null float64\n",
      "fireplacecnt                    7230 non-null float64\n",
      "fullbathcnt                     52158 non-null float64\n",
      "garagecarcnt                    17981 non-null float64\n",
      "garagetotalsqft                 17981 non-null float64\n",
      "hashottuborspa                  1514 non-null float64\n",
      "latitude                        52292 non-null float64\n",
      "longitude                       52292 non-null float64\n",
      "lotsizesquarefeet               51930 non-null float64\n",
      "poolcnt                         11072 non-null float64\n",
      "poolsizesum                     865 non-null float64\n",
      "pooltypeid10                    443 non-null float64\n",
      "pooltypeid2                     1071 non-null float64\n",
      "pooltypeid7                     9985 non-null float64\n",
      "propertycountylandusecode       52292 non-null object\n",
      "propertyzoningdesc              33738 non-null object\n",
      "rawcensustractandblock          52292 non-null float64\n",
      "regionidcity                    51256 non-null float64\n",
      "regionidcounty                  52292 non-null float64\n",
      "regionidneighborhood            18968 non-null float64\n",
      "regionidzip                     52266 non-null float64\n",
      "roomcnt                         52292 non-null float64\n",
      "threequarterbathnbr             6716 non-null float64\n",
      "unitcnt                         33734 non-null float64\n",
      "yardbuildingsqft17              1935 non-null float64\n",
      "yardbuildingsqft26              62 non-null float64\n",
      "yearbuilt                       52178 non-null float64\n",
      "numberofstories                 14528 non-null float64\n",
      "fireplaceflag                   81 non-null float64\n",
      "structuretaxvaluedollarcnt      52213 non-null float64\n",
      "taxvaluedollarcnt               52291 non-null float64\n",
      "assessmentyear                  52292 non-null float64\n",
      "landtaxvaluedollarcnt           52291 non-null float64\n",
      "taxamount                       52288 non-null float64\n",
      "taxdelinquencyflag              2066 non-null object\n",
      "taxdelinquencyyear              2066 non-null float64\n",
      "censustractandblock             52174 non-null float64\n",
      "airconditioningdesc             13610 non-null object\n",
      "architecturalstyledesc          70 non-null object\n",
      "buildingclassdesc               0 non-null object\n",
      "heatingorsystemdesc             33834 non-null object\n",
      "logerror                        52292 non-null float64\n",
      "transactiondate                 52292 non-null object\n",
      "propertylandusedesc             52292 non-null object\n",
      "storydesc                       47 non-null object\n",
      "typeconstructiondesc            76 non-null object\n",
      "dtypes: float64(48), int64(1), object(11)\n",
      "memory usage: 24.3+ MB\n"
     ]
    }
   ],
   "source": [
    "df.info()"
   ]
  },
  {
   "cell_type": "code",
   "execution_count": null,
   "metadata": {},
   "outputs": [],
   "source": []
  }
 ],
 "metadata": {
  "kernelspec": {
   "display_name": "Python 3",
   "language": "python",
   "name": "python3"
  },
  "language_info": {
   "codemirror_mode": {
    "name": "ipython",
    "version": 3
   },
   "file_extension": ".py",
   "mimetype": "text/x-python",
   "name": "python",
   "nbconvert_exporter": "python",
   "pygments_lexer": "ipython3",
   "version": "3.7.3"
  }
 },
 "nbformat": 4,
 "nbformat_minor": 2
}
