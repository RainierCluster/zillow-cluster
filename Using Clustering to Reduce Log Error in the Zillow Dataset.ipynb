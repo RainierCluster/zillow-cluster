{
 "cells": [
  {
   "cell_type": "markdown",
   "metadata": {},
   "source": [
    "## Project Plan\n",
    "\n",
    "### Goals\n",
    "\n",
    "### Hypothesis\n",
    "\n",
    "### Components"
   ]
  },
  {
   "cell_type": "markdown",
   "metadata": {},
   "source": [
    "## Acquire and Prep"
   ]
  },
  {
   "cell_type": "markdown",
   "metadata": {},
   "source": [
    "### Pull SQL data and filter data frame"
   ]
  },
  {
   "cell_type": "markdown",
   "metadata": {},
   "source": [
    "Using the `get_sql_zillow` function from the `acquire` module, pull all the columns from the Zillow dataset from SQL following the conditions below:\n",
    " - only include properties that have recorded transactions in 2017\n",
    " - exclude properties that do not have latitude and longitude values (location is important in our analysis later so we wante to make sure we are including observations with known locations.)"
   ]
  },
  {
   "cell_type": "code",
   "execution_count": 1,
   "metadata": {},
   "outputs": [],
   "source": [
    "# get_sql_zillow code here"
   ]
  },
  {
   "cell_type": "markdown",
   "metadata": {},
   "source": [
    "Using our `wrangle_zillow`, perform initial cleaning of the original data frame specifically:\n",
    " - Drop ID columns from Left Joins (type construction, storytype, etc.)\n",
    " - Remove duplicates from multiple transactions by maintaining latest transaction date and dropping previous records\n",
    " - Include property land use type \"Single Family Residential\" only, and drop the rest of the observations\n",
    " - Drop properties that have unit counts of 2(27 obs) 3(1 obs) to remove ambiguity in the definition of \"single-unit\" or \"single-family\" houses, especially that the total number of these observations are relatively minimal.\n",
    " - Keep transactions that are recorded in 2017 (there was 1 obs that has 2018 as transaction year)"
   ]
  },
  {
   "cell_type": "code",
   "execution_count": 2,
   "metadata": {},
   "outputs": [],
   "source": [
    "# wrangle_zillow code here"
   ]
  },
  {
   "cell_type": "markdown",
   "metadata": {},
   "source": [
    "### Handling missing values"
   ]
  },
  {
   "cell_type": "markdown",
   "metadata": {},
   "source": [
    "`handle_missing_values` function from the `prep` module drops columns that are 90% empty, reducing our columns from 60 to 27. Then, remove observations that are 40% unfilled. The latter removed no observations.  \n",
    "  \n",
    "In this stage, our working data has 52292 rows with 27 columns"
   ]
  },
  {
   "cell_type": "markdown",
   "metadata": {},
   "source": [
    "#### Columns to be dropped"
   ]
  },
  {
   "cell_type": "markdown",
   "metadata": {},
   "source": [
    "`calculatedbathnbr` or calcualted bath number records the number of bathrooms in a property including half bathrooms. Therefore, it's data type is a float (.5's) while\t`fullbathcnt` column only includes full bathrooms and discounts half baths. So, we are discarding `fullbathcnt` completely and take `calculatedbathnbr` which provides more information on the properties' bathrooms."
   ]
  },
  {
   "cell_type": "markdown",
   "metadata": {},
   "source": [
    "`calculatedfinishedsquarefeet` and `finishedsquarefeet12` hold practically the same information. `calculatedfinishedsquarefeet` has less nulls (81 obs) than `finishedsquarefeet12` (245 obs), so we are dropping the `finishedsquarefeet12`."
   ]
  },
  {
   "cell_type": "markdown",
   "metadata": {},
   "source": [
    "`propertycountylandusecode` are codes used in the industry to specify the land use. For example, a Single Family Residential property land use type may be Single Family Class II (0102), Vacant Residential (0000), Vacant Lake View (0035), etc. We don't need these further information. All we need to know is that the properties that we are looking at are under the umbrella of \"Single Family Residential.\""
   ]
  },
  {
   "cell_type": "markdown",
   "metadata": {},
   "source": [
    "`rawcensustractandblock` and `censustractandblock` contain census information that we are not concerned about in this project."
   ]
  },
  {
   "cell_type": "markdown",
   "metadata": {},
   "source": [
    "`fips` and `regionidcounty` have cotain the same information. We will keep the `fips` column."
   ]
  },
  {
   "cell_type": "markdown",
   "metadata": {},
   "source": [
    "`regionidzip` is a location-based column which does not give added information on the properties' location given that we have `latitude` and `longitude`. `regionidzip` is dropped."
   ]
  },
  {
   "cell_type": "markdown",
   "metadata": {},
   "source": [
    "HAVE\n",
    "\n",
    "MONEY - SQFT  \n",
    "Structure TVDC - Calculated finished SQFT  \n",
    "Land TVDC - (Lot size SQFT - Calculated finished SQFT)"
   ]
  },
  {
   "cell_type": "code",
   "execution_count": null,
   "metadata": {},
   "outputs": [],
   "source": []
  }
 ],
 "metadata": {
  "kernelspec": {
   "display_name": "Python 3",
   "language": "python",
   "name": "python3"
  },
  "language_info": {
   "codemirror_mode": {
    "name": "ipython",
    "version": 3
   },
   "file_extension": ".py",
   "mimetype": "text/x-python",
   "name": "python",
   "nbconvert_exporter": "python",
   "pygments_lexer": "ipython3",
   "version": "3.7.3"
  }
 },
 "nbformat": 4,
 "nbformat_minor": 2
}
