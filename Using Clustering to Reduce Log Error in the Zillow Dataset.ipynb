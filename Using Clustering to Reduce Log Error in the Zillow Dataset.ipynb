{
 "cells": [
  {
   "cell_type": "markdown",
   "metadata": {},
   "source": [
    "## Project Plan\n",
    "\n",
    "### Goals\n",
    "\n",
    "### Hypothesis\n",
    "\n",
    "### Components"
   ]
  },
  {
   "cell_type": "markdown",
   "metadata": {},
   "source": [
    "## Acquire"
   ]
  },
  {
   "cell_type": "markdown",
   "metadata": {},
   "source": [
    "Using the `get_sql_zillow` function from the `acquire` module, pull all the columns from the Zillow dataset from SQL following the conditions below:\n",
    " - only include properties that have recorded transactions in 2017\n",
    " - exclude properties that do not have latitude and longitude values (location is important in our analysis later so we wante to make sure we are including observations with known locations.)"
   ]
  },
  {
   "cell_type": "code",
   "execution_count": 1,
   "metadata": {},
   "outputs": [],
   "source": [
    "# get_sql_zillow code here"
   ]
  },
  {
   "cell_type": "markdown",
   "metadata": {},
   "source": [
    "Using our `wrangle_zillow`, perform initial cleaning of the original data frame specifically:\n",
    " - Drop ID columns from Left Joins (type construction, storytype, etc.)\n",
    " - Remove duplicates from multiple transactions by maintaining latest transaction date and dropping previous records\n",
    " - Include property land use type \"Single Family Residential\" only, and drop the rest of the observations\n",
    " - Drop properties that have unit counts of 2(27 obs) 3(1 obs) to remove ambiguity in the definition of \"single-unit\" or \"single-family\" houses, especially that the total number of these observations are relatively minimal.\n",
    " - Keep transactions that are recorded in 2017 (there was 1 obs that has 2018 as transaction year)"
   ]
  },
  {
   "cell_type": "code",
   "execution_count": 2,
   "metadata": {},
   "outputs": [],
   "source": [
    "# wrangle_zillow code here"
   ]
  },
  {
   "cell_type": "code",
   "execution_count": null,
   "metadata": {},
   "outputs": [],
   "source": []
  }
 ],
 "metadata": {
  "kernelspec": {
   "display_name": "Python 3",
   "language": "python",
   "name": "python3"
  },
  "language_info": {
   "codemirror_mode": {
    "name": "ipython",
    "version": 3
   },
   "file_extension": ".py",
   "mimetype": "text/x-python",
   "name": "python",
   "nbconvert_exporter": "python",
   "pygments_lexer": "ipython3",
   "version": "3.7.3"
  }
 },
 "nbformat": 4,
 "nbformat_minor": 2
}
