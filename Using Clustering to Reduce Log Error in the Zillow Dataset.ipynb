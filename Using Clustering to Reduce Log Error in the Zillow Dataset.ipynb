{
 "cells": [
  {
   "cell_type": "markdown",
   "metadata": {},
   "source": [
    "# ** rename file without spaces?? **"
   ]
  },
  {
   "cell_type": "markdown",
   "metadata": {},
   "source": [
    "## Project Plan\n",
    "\n",
    "### Goals\n",
    "\n",
    "### Hypothesis\n",
    "\n",
    "### Components"
   ]
  },
  {
   "cell_type": "code",
   "execution_count": 1,
   "metadata": {},
   "outputs": [],
   "source": [
    "import acquire\n",
    "import prep"
   ]
  },
  {
   "cell_type": "markdown",
   "metadata": {},
   "source": [
    "## Acquire and Prep"
   ]
  },
  {
   "cell_type": "markdown",
   "metadata": {},
   "source": [
    "### Pull SQL data and filter data frame"
   ]
  },
  {
   "cell_type": "markdown",
   "metadata": {},
   "source": [
    "Using the `get_sql_zillow` function from the `acquire` module, pull all the columns from the Zillow dataset from SQL following the conditions below:\n",
    " - only include properties that have recorded transactions in 2017\n",
    " - use a left join to merge all tables of descriptions on their associated id property\n",
    " - exclude properties that do not have latitude and longitude values (location is important in our analysis later so we wante to make sure we are including observations with known locations.)"
   ]
  },
  {
   "cell_type": "code",
   "execution_count": null,
   "metadata": {},
   "outputs": [],
   "source": [
    "# get_sql_zillow code here\n",
    "df = acquire.get_sql_zillow()"
   ]
  },
  {
   "cell_type": "markdown",
   "metadata": {},
   "source": [
    "Using the `wrangle_zillow` function, perform initial cleaning of the original dataframe specifically:\n",
    " - Drop redundant ID columns from Left Joins (typeconstructionid, storytypeid, etc.)\n",
    " - Remove duplicates from multiple transactions by maintaining latest transaction date and dropping previous records\n",
    " - Include property land use type \"Single Family Residential\" only, and drop the rest of the observations\n",
    " - Drop properties that have unit counts of 2 (27 rows) and 3 (1 row) to remove ambiguity in the definition of \"single-unit\" or \"single-family\" houses, especially since the total number of these observations are relatively minimal.\n",
    " - Keep transactions that are recorded in 2017 (there was 1 row that has 2018 as transaction year)"
   ]
  },
  {
   "cell_type": "code",
   "execution_count": 4,
   "metadata": {},
   "outputs": [],
   "source": [
    "# wrangle_zillow code here\n",
    "df = acquire.wrangle_zillow(df)"
   ]
  },
  {
   "cell_type": "code",
   "execution_count": 5,
   "metadata": {},
   "outputs": [
    {
     "name": "stdout",
     "output_type": "stream",
     "text": [
      "<class 'pandas.core.frame.DataFrame'>\n",
      "Int64Index: 52292 entries, 77578 to 0\n",
      "Data columns (total 60 columns):\n",
      "parcelid                        52292 non-null int64\n",
      "basementsqft                    47 non-null float64\n",
      "bathroomcnt                     52292 non-null float64\n",
      "bedroomcnt                      52292 non-null float64\n",
      "buildingqualitytypeid           33632 non-null float64\n",
      "calculatedbathnbr               52158 non-null float64\n",
      "decktypeid                      388 non-null float64\n",
      "finishedfloor1squarefeet        4368 non-null float64\n",
      "calculatedfinishedsquarefeet    52211 non-null float64\n",
      "finishedsquarefeet12            52047 non-null float64\n",
      "finishedsquarefeet13            0 non-null float64\n",
      "finishedsquarefeet15            0 non-null float64\n",
      "finishedsquarefeet50            4368 non-null float64\n",
      "finishedsquarefeet6             164 non-null float64\n",
      "fips                            52292 non-null float64\n",
      "fireplacecnt                    7230 non-null float64\n",
      "fullbathcnt                     52158 non-null float64\n",
      "garagecarcnt                    17981 non-null float64\n",
      "garagetotalsqft                 17981 non-null float64\n",
      "hashottuborspa                  1514 non-null float64\n",
      "latitude                        52292 non-null float64\n",
      "longitude                       52292 non-null float64\n",
      "lotsizesquarefeet               51930 non-null float64\n",
      "poolcnt                         11072 non-null float64\n",
      "poolsizesum                     865 non-null float64\n",
      "pooltypeid10                    443 non-null float64\n",
      "pooltypeid2                     1071 non-null float64\n",
      "pooltypeid7                     9985 non-null float64\n",
      "propertycountylandusecode       52292 non-null object\n",
      "propertyzoningdesc              33738 non-null object\n",
      "rawcensustractandblock          52292 non-null float64\n",
      "regionidcity                    51256 non-null float64\n",
      "regionidcounty                  52292 non-null float64\n",
      "regionidneighborhood            18968 non-null float64\n",
      "regionidzip                     52266 non-null float64\n",
      "roomcnt                         52292 non-null float64\n",
      "threequarterbathnbr             6716 non-null float64\n",
      "unitcnt                         33734 non-null float64\n",
      "yardbuildingsqft17              1935 non-null float64\n",
      "yardbuildingsqft26              62 non-null float64\n",
      "yearbuilt                       52178 non-null float64\n",
      "numberofstories                 14528 non-null float64\n",
      "fireplaceflag                   81 non-null float64\n",
      "structuretaxvaluedollarcnt      52213 non-null float64\n",
      "taxvaluedollarcnt               52291 non-null float64\n",
      "assessmentyear                  52292 non-null float64\n",
      "landtaxvaluedollarcnt           52291 non-null float64\n",
      "taxamount                       52288 non-null float64\n",
      "taxdelinquencyflag              2066 non-null object\n",
      "taxdelinquencyyear              2066 non-null float64\n",
      "censustractandblock             52174 non-null float64\n",
      "airconditioningdesc             13610 non-null object\n",
      "architecturalstyledesc          70 non-null object\n",
      "buildingclassdesc               0 non-null object\n",
      "heatingorsystemdesc             33834 non-null object\n",
      "logerror                        52292 non-null float64\n",
      "transactiondate                 52292 non-null object\n",
      "propertylandusedesc             52292 non-null object\n",
      "storydesc                       47 non-null object\n",
      "typeconstructiondesc            76 non-null object\n",
      "dtypes: float64(48), int64(1), object(11)\n",
      "memory usage: 24.3+ MB\n"
     ]
    }
   ],
   "source": [
    "df.info()"
   ]
  },
  {
   "cell_type": "markdown",
   "metadata": {},
   "source": [
    "### Handling missing values\n",
    "\n",
    "**Drop Unsalvagable Columns and Rows**"
   ]
  },
  {
   "cell_type": "markdown",
   "metadata": {},
   "source": [
    "`handle_missing_values` function from the `prep` module drops columns that are 90% empty, reducing our columns from 60 to 27. Then, remove observations that are 40% empty. The latter removed no observations.  \n",
    "  \n",
    "In this stage, our working data has 52292 rows with 27 columns."
   ]
  },
  {
   "cell_type": "code",
   "execution_count": 6,
   "metadata": {},
   "outputs": [],
   "source": [
    "df = prep.handle_missing_values(df,.90,.40)"
   ]
  },
  {
   "cell_type": "code",
   "execution_count": 7,
   "metadata": {},
   "outputs": [
    {
     "name": "stdout",
     "output_type": "stream",
     "text": [
      "<class 'pandas.core.frame.DataFrame'>\n",
      "Int64Index: 52292 entries, 77578 to 0\n",
      "Data columns (total 27 columns):\n",
      "parcelid                        52292 non-null int64\n",
      "bathroomcnt                     52292 non-null float64\n",
      "bedroomcnt                      52292 non-null float64\n",
      "calculatedbathnbr               52158 non-null float64\n",
      "calculatedfinishedsquarefeet    52211 non-null float64\n",
      "finishedsquarefeet12            52047 non-null float64\n",
      "fips                            52292 non-null float64\n",
      "fullbathcnt                     52158 non-null float64\n",
      "latitude                        52292 non-null float64\n",
      "longitude                       52292 non-null float64\n",
      "lotsizesquarefeet               51930 non-null float64\n",
      "propertycountylandusecode       52292 non-null object\n",
      "rawcensustractandblock          52292 non-null float64\n",
      "regionidcity                    51256 non-null float64\n",
      "regionidcounty                  52292 non-null float64\n",
      "regionidzip                     52266 non-null float64\n",
      "roomcnt                         52292 non-null float64\n",
      "yearbuilt                       52178 non-null float64\n",
      "structuretaxvaluedollarcnt      52213 non-null float64\n",
      "taxvaluedollarcnt               52291 non-null float64\n",
      "assessmentyear                  52292 non-null float64\n",
      "landtaxvaluedollarcnt           52291 non-null float64\n",
      "taxamount                       52288 non-null float64\n",
      "censustractandblock             52174 non-null float64\n",
      "logerror                        52292 non-null float64\n",
      "transactiondate                 52292 non-null object\n",
      "propertylandusedesc             52292 non-null object\n",
      "dtypes: float64(23), int64(1), object(3)\n",
      "memory usage: 11.2+ MB\n"
     ]
    }
   ],
   "source": [
    "df.info()"
   ]
  },
  {
   "cell_type": "markdown",
   "metadata": {},
   "source": [
    "**Drop Non-value-adding Columns**"
   ]
  },
  {
   "cell_type": "markdown",
   "metadata": {},
   "source": [
    "*dropping parcelid*"
   ]
  },
  {
   "cell_type": "markdown",
   "metadata": {},
   "source": [
    "`bathroomcnt` reflects the same information as the `calculatedbathnbr`, which is the number of bathrooms in a property including half bathrooms (.5's). The\t`fullbathcnt` column only includes full bathrooms and discounts half baths. So, we are discarding redundant `calculatedbathnbr` and `fullbathcnt` and keep `bathroomcnt` to provide information on the properties' bathrooms."
   ]
  },
  {
   "cell_type": "markdown",
   "metadata": {},
   "source": [
    "`calculatedfinishedsquarefeet` and `finishedsquarefeet12` hold practically the same information. `calculatedfinishedsquarefeet` has less nulls (81 rows) than `finishedsquarefeet12` (245 rows), so we are dropping the `finishedsquarefeet12`."
   ]
  },
  {
   "cell_type": "markdown",
   "metadata": {},
   "source": [
    "`propertycountylandusecode` are codes used in the industry to specify the land use. For example, a Single Family Residential property land use type may be Single Family Class II (0102), Vacant Residential (0000), Vacant Lake View (0035), etc. We don't need these further information. All we need to know is that the properties that we are looking at are under the umbrella of \"Single Family Residential.\""
   ]
  },
  {
   "cell_type": "markdown",
   "metadata": {},
   "source": [
    "`rawcensustractandblock` and `censustractandblock` contain census information that we are not concerned about in this project."
   ]
  },
  {
   "cell_type": "markdown",
   "metadata": {},
   "source": [
    "`roomcnt` has 37,588 properties with 0 rooms, so we are dropping this column."
   ]
  },
  {
   "cell_type": "markdown",
   "metadata": {},
   "source": [
    "`fips` and `regionidcounty` have cotain the same information. We will keep the `fips` column."
   ]
  },
  {
   "cell_type": "markdown",
   "metadata": {},
   "source": [
    "`regionidzip` and `regionidcity` are location-based columns which do not give much added information on the properties' location given that we have `latitude` and `longitude`. These columns are dropped."
   ]
  },
  {
   "cell_type": "markdown",
   "metadata": {},
   "source": [
    "All wrangled observation have \"2016\" as values in the `assessmentyear` which is not adding value to the analysis."
   ]
  },
  {
   "cell_type": "markdown",
   "metadata": {},
   "source": [
    "`propertylandusedesc` is dropped because it only displays \"Single Family Residential\" which was helpful in the filtering phase but not useful in the analysis."
   ]
  },
  {
   "cell_type": "code",
   "execution_count": 8,
   "metadata": {},
   "outputs": [],
   "source": [
    "df = prep.clean_columns(df)"
   ]
  },
  {
   "cell_type": "code",
   "execution_count": 9,
   "metadata": {},
   "outputs": [
    {
     "name": "stdout",
     "output_type": "stream",
     "text": [
      "<class 'pandas.core.frame.DataFrame'>\n",
      "Int64Index: 52292 entries, 77578 to 0\n",
      "Data columns (total 14 columns):\n",
      "bathroomcnt                     52292 non-null float64\n",
      "bedroomcnt                      52292 non-null float64\n",
      "calculatedfinishedsquarefeet    52211 non-null float64\n",
      "fips                            52292 non-null float64\n",
      "latitude                        52292 non-null float64\n",
      "longitude                       52292 non-null float64\n",
      "lotsizesquarefeet               51930 non-null float64\n",
      "yearbuilt                       52178 non-null float64\n",
      "structuretaxvaluedollarcnt      52213 non-null float64\n",
      "taxvaluedollarcnt               52291 non-null float64\n",
      "landtaxvaluedollarcnt           52291 non-null float64\n",
      "taxamount                       52288 non-null float64\n",
      "logerror                        52292 non-null float64\n",
      "transactiondate                 52292 non-null object\n",
      "dtypes: float64(13), object(1)\n",
      "memory usage: 6.0+ MB\n"
     ]
    }
   ],
   "source": [
    "df.info()"
   ]
  },
  {
   "cell_type": "markdown",
   "metadata": {},
   "source": [
    "**Handle Nulls for Relevant Columns**"
   ]
  },
  {
   "cell_type": "code",
   "execution_count": 10,
   "metadata": {},
   "outputs": [
    {
     "data": {
      "text/plain": [
       "bathroomcnt                       0\n",
       "bedroomcnt                        0\n",
       "calculatedfinishedsquarefeet     81\n",
       "fips                              0\n",
       "latitude                          0\n",
       "longitude                         0\n",
       "lotsizesquarefeet               362\n",
       "yearbuilt                       114\n",
       "structuretaxvaluedollarcnt       79\n",
       "taxvaluedollarcnt                 1\n",
       "landtaxvaluedollarcnt             1\n",
       "taxamount                         4\n",
       "logerror                          0\n",
       "transactiondate                   0\n",
       "dtype: int64"
      ]
     },
     "execution_count": 10,
     "metadata": {},
     "output_type": "execute_result"
    }
   ],
   "source": [
    "# show null values\n",
    "df.isnull().sum()"
   ]
  },
  {
   "cell_type": "markdown",
   "metadata": {},
   "source": [
    "_Calculated Finished Square Feet, Structure Tax Value Dollar Count_ -  Observations that have missing values in either `calculatedfinishedsquarefeet` (71 rows) or  `structuretaxvaluedollarcnt` (69 rows), both (10 rows) are dropped, removing a total of 150 observations."
   ]
  },
  {
   "cell_type": "markdown",
   "metadata": {},
   "source": [
    "_Tax Value Dollar Count, Land Tax Value Dollar Count_ - There are a handful of observations with missing values in the columns `taxvaluedollarcnt` (1 row), `landtaxvaluedollarcnt` (1 row), `taxamount` (4 rows)."
   ]
  },
  {
   "cell_type": "markdown",
   "metadata": {},
   "source": [
    "_Year Built_ - After all the above removals, `yearbuilt` have a total of 38 missing values which are dropped because of the manageable size."
   ]
  },
  {
   "cell_type": "code",
   "execution_count": 11,
   "metadata": {},
   "outputs": [],
   "source": [
    "df = prep.drop_minimal_nulls(df)"
   ]
  },
  {
   "cell_type": "code",
   "execution_count": 12,
   "metadata": {},
   "outputs": [
    {
     "name": "stdout",
     "output_type": "stream",
     "text": [
      "<class 'pandas.core.frame.DataFrame'>\n",
      "Int64Index: 52101 entries, 77578 to 0\n",
      "Data columns (total 14 columns):\n",
      "bathroomcnt                     52101 non-null float64\n",
      "bedroomcnt                      52101 non-null float64\n",
      "calculatedfinishedsquarefeet    52101 non-null float64\n",
      "fips                            52101 non-null float64\n",
      "latitude                        52101 non-null float64\n",
      "longitude                       52101 non-null float64\n",
      "lotsizesquarefeet               51761 non-null float64\n",
      "yearbuilt                       52101 non-null float64\n",
      "structuretaxvaluedollarcnt      52101 non-null float64\n",
      "taxvaluedollarcnt               52101 non-null float64\n",
      "landtaxvaluedollarcnt           52101 non-null float64\n",
      "taxamount                       52101 non-null float64\n",
      "logerror                        52101 non-null float64\n",
      "transactiondate                 52101 non-null object\n",
      "dtypes: float64(13), object(1)\n",
      "memory usage: 6.0+ MB\n"
     ]
    }
   ],
   "source": [
    "df.info()"
   ]
  },
  {
   "cell_type": "markdown",
   "metadata": {},
   "source": [
    "_Lot Size Sqft_ - The process for imputing `lotsizesquarefeet` is the least straightforward in terms of handling missing values. Lot size sqft is the sum of the area of the land without structure (land or dirt) and the finished space (structure or house). The column has 340 missing values.\n",
    "\n",
    "Below is the process for filling the missing values on `lotsizesquarefeet`:\n",
    "\n",
    "1. Derive the total tax dollar value of the lot by adding the tax value of the land and the tax value of the structure\n",
    "\n",
    "  $ value_{lot} = value_{land} + value_{structure} $\n",
    "  \n",
    "  \n",
    "2. Get the proportion of the lot area and the lot tax value\n",
    "\n",
    "  $ proportion = \\frac {area_{lot}}{value_{lot}} $\n",
    "  \n",
    "\n",
    "3. There were unrealistic proportions that seem to come from properties that have a big lot area but low tax value. At 75 percentile, we see a proportion of 0.041 and a mean of 0.048. Because of this, we are confident to take the mean of all proportions less than 1 (proportion < 1). The mean will inform us a generalized value for the lot square footage, i.e., $area_{lot}$, given the total lot value, i.e., $value_{lot}$.\n",
    "\n",
    "  \n",
    "4. Impute the nulls in the `lotsizesquarefeet` aka $value_{lot}$ using the derived formula:\n",
    "\n",
    "  $ area_{lot} = value_{lot} * \\mu_{proportion} $\n",
    "\n",
    " "
   ]
  },
  {
   "cell_type": "code",
   "execution_count": 13,
   "metadata": {},
   "outputs": [],
   "source": [
    "df = prep.impute_lotsize_nulls(df)"
   ]
  },
  {
   "cell_type": "code",
   "execution_count": 14,
   "metadata": {},
   "outputs": [
    {
     "name": "stdout",
     "output_type": "stream",
     "text": [
      "<class 'pandas.core.frame.DataFrame'>\n",
      "Int64Index: 52101 entries, 77578 to 0\n",
      "Data columns (total 14 columns):\n",
      "bathroomcnt                     52101 non-null float64\n",
      "bedroomcnt                      52101 non-null float64\n",
      "calculatedfinishedsquarefeet    52101 non-null float64\n",
      "fips                            52101 non-null float64\n",
      "latitude                        52101 non-null float64\n",
      "longitude                       52101 non-null float64\n",
      "lotsizesquarefeet               52101 non-null float64\n",
      "yearbuilt                       52101 non-null float64\n",
      "structuretaxvaluedollarcnt      52101 non-null float64\n",
      "taxvaluedollarcnt               52101 non-null float64\n",
      "landtaxvaluedollarcnt           52101 non-null float64\n",
      "taxamount                       52101 non-null float64\n",
      "logerror                        52101 non-null float64\n",
      "transactiondate                 52101 non-null object\n",
      "dtypes: float64(13), object(1)\n",
      "memory usage: 8.5+ MB\n"
     ]
    }
   ],
   "source": [
    "df.info()"
   ]
  },
  {
   "cell_type": "markdown",
   "metadata": {},
   "source": [
    "## A clean dataframe!!!"
   ]
  },
  {
   "cell_type": "markdown",
   "metadata": {},
   "source": [
    "Created a land area column from lot size and calculated house size"
   ]
  },
  {
   "cell_type": "code",
   "execution_count": 15,
   "metadata": {},
   "outputs": [],
   "source": [
    "df = prep.feature_eng(df)"
   ]
  },
  {
   "cell_type": "markdown",
   "metadata": {},
   "source": [
    "Renamed and reordered columns"
   ]
  },
  {
   "cell_type": "code",
   "execution_count": 19,
   "metadata": {},
   "outputs": [],
   "source": [
    "df = prep.pretty_cols(df)"
   ]
  },
  {
   "cell_type": "code",
   "execution_count": 20,
   "metadata": {},
   "outputs": [
    {
     "data": {
      "text/html": [
       "<div>\n",
       "<style scoped>\n",
       "    .dataframe tbody tr th:only-of-type {\n",
       "        vertical-align: middle;\n",
       "    }\n",
       "\n",
       "    .dataframe tbody tr th {\n",
       "        vertical-align: top;\n",
       "    }\n",
       "\n",
       "    .dataframe thead th {\n",
       "        text-align: right;\n",
       "    }\n",
       "</style>\n",
       "<table border=\"1\" class=\"dataframe\">\n",
       "  <thead>\n",
       "    <tr style=\"text-align: right;\">\n",
       "      <th></th>\n",
       "      <th>countyid</th>\n",
       "      <th>latitude</th>\n",
       "      <th>longitude</th>\n",
       "      <th>yearbuilt</th>\n",
       "      <th>bathroomcnt</th>\n",
       "      <th>bedroomcnt</th>\n",
       "      <th>house_area</th>\n",
       "      <th>house_value</th>\n",
       "      <th>land_area</th>\n",
       "      <th>land_value</th>\n",
       "      <th>whole_area</th>\n",
       "      <th>whole_value</th>\n",
       "      <th>taxamount</th>\n",
       "      <th>logerror</th>\n",
       "      <th>transactiondate</th>\n",
       "    </tr>\n",
       "  </thead>\n",
       "  <tbody>\n",
       "    <tr>\n",
       "      <th>77578</th>\n",
       "      <td>6037.0</td>\n",
       "      <td>33937685.0</td>\n",
       "      <td>-117996709.0</td>\n",
       "      <td>1955.0</td>\n",
       "      <td>2.0</td>\n",
       "      <td>3.0</td>\n",
       "      <td>1762.0</td>\n",
       "      <td>140000.0</td>\n",
       "      <td>4585.0</td>\n",
       "      <td>382000.0</td>\n",
       "      <td>6347.0</td>\n",
       "      <td>522000.0</td>\n",
       "      <td>6317.15</td>\n",
       "      <td>0.007204</td>\n",
       "      <td>2017-09-25</td>\n",
       "    </tr>\n",
       "    <tr>\n",
       "      <th>77577</th>\n",
       "      <td>6037.0</td>\n",
       "      <td>34040895.0</td>\n",
       "      <td>-118038169.0</td>\n",
       "      <td>1954.0</td>\n",
       "      <td>1.0</td>\n",
       "      <td>3.0</td>\n",
       "      <td>1032.0</td>\n",
       "      <td>32797.0</td>\n",
       "      <td>4042.0</td>\n",
       "      <td>16749.0</td>\n",
       "      <td>5074.0</td>\n",
       "      <td>49546.0</td>\n",
       "      <td>876.43</td>\n",
       "      <td>0.037129</td>\n",
       "      <td>2017-09-21</td>\n",
       "    </tr>\n",
       "    <tr>\n",
       "      <th>77576</th>\n",
       "      <td>6111.0</td>\n",
       "      <td>34300140.0</td>\n",
       "      <td>-118706327.0</td>\n",
       "      <td>1964.0</td>\n",
       "      <td>2.0</td>\n",
       "      <td>4.0</td>\n",
       "      <td>1612.0</td>\n",
       "      <td>50683.0</td>\n",
       "      <td>10493.0</td>\n",
       "      <td>16522.0</td>\n",
       "      <td>12105.0</td>\n",
       "      <td>67205.0</td>\n",
       "      <td>1107.48</td>\n",
       "      <td>0.013209</td>\n",
       "      <td>2017-09-21</td>\n",
       "    </tr>\n",
       "    <tr>\n",
       "      <th>77575</th>\n",
       "      <td>6037.0</td>\n",
       "      <td>34245368.0</td>\n",
       "      <td>-118282383.0</td>\n",
       "      <td>1940.0</td>\n",
       "      <td>2.0</td>\n",
       "      <td>2.0</td>\n",
       "      <td>1286.0</td>\n",
       "      <td>70917.0</td>\n",
       "      <td>46119.0</td>\n",
       "      <td>283704.0</td>\n",
       "      <td>47405.0</td>\n",
       "      <td>354621.0</td>\n",
       "      <td>4478.43</td>\n",
       "      <td>0.020615</td>\n",
       "      <td>2017-09-20</td>\n",
       "    </tr>\n",
       "    <tr>\n",
       "      <th>77394</th>\n",
       "      <td>6037.0</td>\n",
       "      <td>33983643.0</td>\n",
       "      <td>-118362294.0</td>\n",
       "      <td>1948.0</td>\n",
       "      <td>2.0</td>\n",
       "      <td>3.0</td>\n",
       "      <td>1518.0</td>\n",
       "      <td>116897.0</td>\n",
       "      <td>4281.0</td>\n",
       "      <td>112345.0</td>\n",
       "      <td>5799.0</td>\n",
       "      <td>229242.0</td>\n",
       "      <td>3277.29</td>\n",
       "      <td>0.023168</td>\n",
       "      <td>2017-09-19</td>\n",
       "    </tr>\n",
       "  </tbody>\n",
       "</table>\n",
       "</div>"
      ],
      "text/plain": [
       "       countyid    latitude    longitude  yearbuilt  bathroomcnt  bedroomcnt  \\\n",
       "77578    6037.0  33937685.0 -117996709.0     1955.0          2.0         3.0   \n",
       "77577    6037.0  34040895.0 -118038169.0     1954.0          1.0         3.0   \n",
       "77576    6111.0  34300140.0 -118706327.0     1964.0          2.0         4.0   \n",
       "77575    6037.0  34245368.0 -118282383.0     1940.0          2.0         2.0   \n",
       "77394    6037.0  33983643.0 -118362294.0     1948.0          2.0         3.0   \n",
       "\n",
       "       house_area  house_value  land_area  land_value  whole_area  \\\n",
       "77578      1762.0     140000.0     4585.0    382000.0      6347.0   \n",
       "77577      1032.0      32797.0     4042.0     16749.0      5074.0   \n",
       "77576      1612.0      50683.0    10493.0     16522.0     12105.0   \n",
       "77575      1286.0      70917.0    46119.0    283704.0     47405.0   \n",
       "77394      1518.0     116897.0     4281.0    112345.0      5799.0   \n",
       "\n",
       "       whole_value  taxamount  logerror transactiondate  \n",
       "77578     522000.0    6317.15  0.007204      2017-09-25  \n",
       "77577      49546.0     876.43  0.037129      2017-09-21  \n",
       "77576      67205.0    1107.48  0.013209      2017-09-21  \n",
       "77575     354621.0    4478.43  0.020615      2017-09-20  \n",
       "77394     229242.0    3277.29  0.023168      2017-09-19  "
      ]
     },
     "execution_count": 20,
     "metadata": {},
     "output_type": "execute_result"
    }
   ],
   "source": [
    "df.head()"
   ]
  },
  {
   "cell_type": "code",
   "execution_count": null,
   "metadata": {},
   "outputs": [],
   "source": []
  },
  {
   "cell_type": "code",
   "execution_count": null,
   "metadata": {},
   "outputs": [],
   "source": []
  }
 ],
 "metadata": {
  "kernelspec": {
   "display_name": "Python 3",
   "language": "python",
   "name": "python3"
  },
  "language_info": {
   "codemirror_mode": {
    "name": "ipython",
    "version": 3
   },
   "file_extension": ".py",
   "mimetype": "text/x-python",
   "name": "python",
   "nbconvert_exporter": "python",
   "pygments_lexer": "ipython3",
   "version": "3.7.3"
  }
 },
 "nbformat": 4,
 "nbformat_minor": 2
}
