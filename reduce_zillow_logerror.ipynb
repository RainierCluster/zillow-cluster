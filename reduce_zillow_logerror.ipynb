{
 "cells": [
  {
   "cell_type": "markdown",
   "metadata": {},
   "source": [
    "# Using Clustering to Reduce Log Error in Zillow Dataset"
   ]
  },
  {
   "cell_type": "markdown",
   "metadata": {},
   "source": [
    "## Project Plan\n",
    "\n",
    "### Goals\n",
    "- Use clustering methodologies\n",
    "- Identify what is driving the difference in zestimate to sales price \"logerror\"\n",
    "- Build a model to predict your target \"logerror\"\n",
    "\n",
    "### Hypothesis\n",
    "- Noteable clusters will be found based on location\n",
    "- A model containing the clusters will better predict logerror than a baseline model of the average logerror\n",
    "\n",
    "### Components\n",
    "- Clusters\n",
    "- Teach others\n",
    "- Use statistical tests\n",
    "- Visualize to explore\n",
    "- Scale\n",
    "- Impute\n",
    "- Feature engineering\n",
    "- Code resuseability/modularity\n",
    "- Stages of pipeline"
   ]
  },
  {
   "cell_type": "markdown",
   "metadata": {},
   "source": [
    "### Data Dictionary"
   ]
  },
  {
   "cell_type": "markdown",
   "metadata": {},
   "source": [
    "| variable | contents |\n",
    "|---|---|\n",
    "| home_cluster  | this contains clusters created around house_area, land_area, & yearbuilt  |\n",
    "| house_area  | this is the square footage of the structure  |\n",
    "| land_area  | this is the square footage of the land (not including structure)  |\n",
    "| yearbuilt | this is the year the structure was built  |\n",
    "| location_cluster | this contains clusters created around latitude, longitude, & taxrate  |\n",
    "| latititude  | this is the latitude value of the structure  |\n",
    "| longitude  | this is the longitude value of the structure  |\n",
    "| taxrate | this is the tax value of the whole thing (structure + land) divided by tax amount of the whole thing  |\n",
    "| house_value  | this is the dollar value of the structure  |\n",
    "| land_value  | this is the dollar value of the land (not including the structure)  |\n"
   ]
  },
  {
   "cell_type": "code",
   "execution_count": 1,
   "metadata": {},
   "outputs": [],
   "source": [
    "import acquire\n",
    "import prep\n",
    "import split_scale\n",
    "import explore\n",
    "import model\n",
    "\n",
    "from scipy import stats\n",
    "\n",
    "import pandas as pd\n",
    "import numpy as np\n",
    "import matplotlib.pyplot as plt\n",
    "import seaborn as sns"
   ]
  },
  {
   "cell_type": "markdown",
   "metadata": {},
   "source": [
    "## Acquire"
   ]
  },
  {
   "cell_type": "markdown",
   "metadata": {},
   "source": [
    "### Pull SQL data and filter data frame"
   ]
  },
  {
   "cell_type": "markdown",
   "metadata": {},
   "source": [
    "Using the `get_sql_zillow` function from the `acquire` module, pull all the columns from the Zillow dataset from SQL following the conditions below:\n",
    " - only include properties that have recorded transactions in 2017\n",
    " - use a left join to merge all tables of descriptions on their associated id property\n",
    " - exclude properties that do not have latitude and longitude values (location is important in our analysis later so we wante to make sure we are including observations with known locations.)"
   ]
  },
  {
   "cell_type": "markdown",
   "metadata": {},
   "source": [
    "> Due to long run times when connecting with the SQL server, we exported a CSV out of the SQL query with identical conditions as above."
   ]
  },
  {
   "cell_type": "code",
   "execution_count": 2,
   "metadata": {},
   "outputs": [],
   "source": [
    "# uncomment to read from appropriate local source.\n",
    "# df = pd.read_csv(r'/Users/mists/codeup-data-science/zillow-cluster/query_result.csv')\n",
    "df = pd.read_csv(r'/Users/cris/codeup-data-science/zillow-cluster/query_result.csv')"
   ]
  },
  {
   "cell_type": "markdown",
   "metadata": {},
   "source": [
    "Using the `wrangle_zillow` function, perform initial cleaning of the original dataframe specifically:\n",
    " - Drop redundant ID columns from Left Joins (typeconstructionid, storytypeid, etc.)\n",
    " - Remove duplicates from multiple transactions by maintaining latest transaction date and dropping previous records\n",
    " - Include property land use type \"Single Family Residential\" only, and drop the rest of the observations\n",
    " - Drop properties that have unit counts of 2 (27 rows) and 3 (1 row) to remove ambiguity in the definition of \"single-unit\" or \"single-family\" houses, especially since the total number of these observations are relatively minimal.\n",
    " - Keep transactions that are recorded in 2017 (there was 1 row that has 2018 as transaction year)"
   ]
  },
  {
   "cell_type": "code",
   "execution_count": 3,
   "metadata": {},
   "outputs": [],
   "source": [
    "df = acquire.wrangle_zillow(df)"
   ]
  },
  {
   "cell_type": "code",
   "execution_count": 4,
   "metadata": {},
   "outputs": [
    {
     "name": "stdout",
     "output_type": "stream",
     "text": [
      "<class 'pandas.core.frame.DataFrame'>\n",
      "Int64Index: 52292 entries, 77578 to 0\n",
      "Data columns (total 61 columns):\n",
      "parcelid                        52292 non-null int64\n",
      "basementsqft                    47 non-null float64\n",
      "bathroomcnt                     52292 non-null float64\n",
      "bedroomcnt                      52292 non-null int64\n",
      "buildingqualitytypeid           33632 non-null float64\n",
      "calculatedbathnbr               52158 non-null float64\n",
      "decktypeid                      388 non-null float64\n",
      "finishedfloor1squarefeet        4368 non-null float64\n",
      "calculatedfinishedsquarefeet    52211 non-null float64\n",
      "finishedsquarefeet12            52047 non-null float64\n",
      "finishedsquarefeet13            0 non-null float64\n",
      "finishedsquarefeet15            0 non-null float64\n",
      "finishedsquarefeet50            4368 non-null float64\n",
      "finishedsquarefeet6             164 non-null float64\n",
      "fips                            52292 non-null int64\n",
      "fireplacecnt                    7230 non-null float64\n",
      "fullbathcnt                     52158 non-null float64\n",
      "garagecarcnt                    17981 non-null float64\n",
      "garagetotalsqft                 17981 non-null float64\n",
      "hashottuborspa                  1514 non-null float64\n",
      "latitude                        52292 non-null int64\n",
      "longitude                       52292 non-null int64\n",
      "lotsizesquarefeet               51930 non-null float64\n",
      "poolcnt                         11072 non-null float64\n",
      "poolsizesum                     865 non-null float64\n",
      "pooltypeid10                    443 non-null float64\n",
      "pooltypeid2                     1071 non-null float64\n",
      "pooltypeid7                     9985 non-null float64\n",
      "propertycountylandusecode       52292 non-null object\n",
      "propertyzoningdesc              33738 non-null object\n",
      "rawcensustractandblock          52292 non-null float64\n",
      "regionidcity                    51256 non-null float64\n",
      "regionidcounty                  52292 non-null int64\n",
      "regionidneighborhood            18968 non-null float64\n",
      "regionidzip                     52266 non-null float64\n",
      "roomcnt                         52292 non-null int64\n",
      "threequarterbathnbr             6716 non-null float64\n",
      "unitcnt                         33734 non-null float64\n",
      "yardbuildingsqft17              1935 non-null float64\n",
      "yardbuildingsqft26              62 non-null float64\n",
      "yearbuilt                       52178 non-null float64\n",
      "numberofstories                 14528 non-null float64\n",
      "fireplaceflag                   81 non-null float64\n",
      "structuretaxvaluedollarcnt      52213 non-null float64\n",
      "taxvaluedollarcnt               52291 non-null float64\n",
      "assessmentyear                  52292 non-null int64\n",
      "landtaxvaluedollarcnt           52291 non-null float64\n",
      "taxamount                       52288 non-null float64\n",
      "taxdelinquencyflag              2066 non-null object\n",
      "taxdelinquencyyear              2066 non-null float64\n",
      "censustractandblock             52174 non-null float64\n",
      "airconditioningdesc             13610 non-null object\n",
      "architecturalstyledesc          70 non-null object\n",
      "buildingclassdesc               0 non-null object\n",
      "heatingorsystemdesc             33834 non-null object\n",
      "id.1                            52292 non-null int64\n",
      "logerror                        52292 non-null float64\n",
      "transactiondate                 52292 non-null object\n",
      "propertylandusedesc             52292 non-null object\n",
      "storydesc                       47 non-null object\n",
      "typeconstructiondesc            76 non-null object\n",
      "dtypes: float64(41), int64(9), object(11)\n",
      "memory usage: 24.7+ MB\n"
     ]
    }
   ],
   "source": [
    "df.info() #we can see that our current data set is messy with plenty of nulls and some empty columns!"
   ]
  },
  {
   "cell_type": "markdown",
   "metadata": {},
   "source": [
    "## Preprocess"
   ]
  },
  {
   "cell_type": "markdown",
   "metadata": {},
   "source": [
    "### A. Handle missing values"
   ]
  },
  {
   "cell_type": "markdown",
   "metadata": {},
   "source": [
    "**Drop Unsalvagable Columns and Rows**"
   ]
  },
  {
   "cell_type": "markdown",
   "metadata": {},
   "source": [
    "`handle_missing_values` function from the `prep` module drops columns that are 90% empty, reducing our columns from 60 to 27. Then, remove observations that are 40% empty. The latter removed no observations.  \n",
    "  \n",
    "In this stage, our working data has 52292 rows with 27 columns."
   ]
  },
  {
   "cell_type": "code",
   "execution_count": 5,
   "metadata": {},
   "outputs": [],
   "source": [
    "df = prep.handle_missing_values(df,.90,.40)"
   ]
  },
  {
   "cell_type": "markdown",
   "metadata": {},
   "source": [
    "**Drop Non-value-adding Columns**"
   ]
  },
  {
   "cell_type": "markdown",
   "metadata": {},
   "source": [
    "Throughout the process, we will be using the index to identify each oservation, therefore we are dropping the `parcelid`."
   ]
  },
  {
   "cell_type": "markdown",
   "metadata": {},
   "source": [
    "`bathroomcnt` reflects the same information as the `calculatedbathnbr`, which is the number of bathrooms in a property including half bathrooms (.5's). The\t`fullbathcnt` column only includes full bathrooms and discounts half baths. So, we are discarding redundant `calculatedbathnbr` and `fullbathcnt` and keep `bathroomcnt` to provide information on the properties' bathrooms."
   ]
  },
  {
   "cell_type": "markdown",
   "metadata": {},
   "source": [
    "`calculatedfinishedsquarefeet` and `finishedsquarefeet12` hold practically the same information. `calculatedfinishedsquarefeet` has less nulls (81 rows) than `finishedsquarefeet12` (245 rows), so we are dropping the `finishedsquarefeet12`."
   ]
  },
  {
   "cell_type": "markdown",
   "metadata": {},
   "source": [
    "`propertycountylandusecode` are codes used in the industry to specify the land use. For example, a Single Family Residential property land use type may be Single Family Class II (0102), Vacant Residential (0000), Vacant Lake View (0035), etc. We don't need these further information. All we need to know is that the properties that we are looking at are under the umbrella of \"Single Family Residential.\""
   ]
  },
  {
   "cell_type": "markdown",
   "metadata": {},
   "source": [
    "`rawcensustractandblock` and `censustractandblock` contain census information that we are not concerned about in this project."
   ]
  },
  {
   "cell_type": "markdown",
   "metadata": {},
   "source": [
    "`roomcnt` has 37,588 properties with 0 rooms, so we are dropping this column."
   ]
  },
  {
   "cell_type": "markdown",
   "metadata": {},
   "source": [
    "`fips` and `regionidcounty` have cotain the same information. We will keep the `fips` column."
   ]
  },
  {
   "cell_type": "markdown",
   "metadata": {},
   "source": [
    "`regionidzip` and `regionidcity` are location-based columns which do not give much added information on the properties' location given that we have `latitude` and `longitude`. These columns are dropped."
   ]
  },
  {
   "cell_type": "markdown",
   "metadata": {},
   "source": [
    "All wrangled observation have \"2016\" as values in the `assessmentyear` which is not adding value to the analysis."
   ]
  },
  {
   "cell_type": "markdown",
   "metadata": {},
   "source": [
    "`propertylandusedesc` is dropped because it only displays \"Single Family Residential\" which was helpful in the filtering phase but not useful in the analysis."
   ]
  },
  {
   "cell_type": "markdown",
   "metadata": {},
   "source": [
    "Call `clean_columns` from the `prep` module to drop the columns we stated above."
   ]
  },
  {
   "cell_type": "code",
   "execution_count": 6,
   "metadata": {},
   "outputs": [],
   "source": [
    "df = prep.clean_columns(df)"
   ]
  },
  {
   "cell_type": "markdown",
   "metadata": {},
   "source": [
    "**Handle Nulls for Relevant Columns**"
   ]
  },
  {
   "cell_type": "code",
   "execution_count": 7,
   "metadata": {},
   "outputs": [
    {
     "data": {
      "text/plain": [
       "bathroomcnt                       0\n",
       "bedroomcnt                        0\n",
       "calculatedfinishedsquarefeet     81\n",
       "fips                              0\n",
       "latitude                          0\n",
       "longitude                         0\n",
       "lotsizesquarefeet               362\n",
       "yearbuilt                       114\n",
       "structuretaxvaluedollarcnt       79\n",
       "taxvaluedollarcnt                 1\n",
       "landtaxvaluedollarcnt             1\n",
       "taxamount                         4\n",
       "id.1                              0\n",
       "logerror                          0\n",
       "transactiondate                   0\n",
       "dtype: int64"
      ]
     },
     "execution_count": 7,
     "metadata": {},
     "output_type": "execute_result"
    }
   ],
   "source": [
    "# Let's look at the remaining null values\n",
    "df.isnull().sum()"
   ]
  },
  {
   "cell_type": "markdown",
   "metadata": {},
   "source": [
    "_Calculated Finished Square Feet, Structure Tax Value Dollar Count_ -  observations that have missing values in either `calculatedfinishedsquarefeet` (71 rows) or  `structuretaxvaluedollarcnt` (69 rows), both (10 rows) are dropped, removing a total of 150 observations."
   ]
  },
  {
   "cell_type": "markdown",
   "metadata": {},
   "source": [
    "_Tax Value Dollar Count, Land Tax Value Dollar Count_ - there are a handful of observations with missing values in the columns `taxvaluedollarcnt` (1 row), `landtaxvaluedollarcnt` (1 row), `taxamount` (4 rows)."
   ]
  },
  {
   "cell_type": "markdown",
   "metadata": {},
   "source": [
    "_Year Built_ - After all the above removals, `yearbuilt` have a total of 38 missing values which are dropped because of the manageable size."
   ]
  },
  {
   "cell_type": "markdown",
   "metadata": {},
   "source": [
    "Call `drop_minimal_nulls` from the `prep` module to drop the missing observations as explained above."
   ]
  },
  {
   "cell_type": "code",
   "execution_count": 8,
   "metadata": {},
   "outputs": [],
   "source": [
    "df = prep.drop_minimal_nulls(df)"
   ]
  },
  {
   "cell_type": "code",
   "execution_count": 9,
   "metadata": {},
   "outputs": [
    {
     "name": "stdout",
     "output_type": "stream",
     "text": [
      "<class 'pandas.core.frame.DataFrame'>\n",
      "Int64Index: 52101 entries, 77578 to 0\n",
      "Data columns (total 15 columns):\n",
      "bathroomcnt                     52101 non-null float64\n",
      "bedroomcnt                      52101 non-null int64\n",
      "calculatedfinishedsquarefeet    52101 non-null float64\n",
      "fips                            52101 non-null int64\n",
      "latitude                        52101 non-null int64\n",
      "longitude                       52101 non-null int64\n",
      "lotsizesquarefeet               51761 non-null float64\n",
      "yearbuilt                       52101 non-null float64\n",
      "structuretaxvaluedollarcnt      52101 non-null float64\n",
      "taxvaluedollarcnt               52101 non-null float64\n",
      "landtaxvaluedollarcnt           52101 non-null float64\n",
      "taxamount                       52101 non-null float64\n",
      "id.1                            52101 non-null int64\n",
      "logerror                        52101 non-null float64\n",
      "transactiondate                 52101 non-null object\n",
      "dtypes: float64(9), int64(5), object(1)\n",
      "memory usage: 6.4+ MB\n"
     ]
    }
   ],
   "source": [
    "df.info()"
   ]
  },
  {
   "cell_type": "markdown",
   "metadata": {},
   "source": [
    "After handling all missing values, we now have a clean data set with 52,101 observations!"
   ]
  },
  {
   "cell_type": "markdown",
   "metadata": {},
   "source": [
    "### B. Rename and reorder columns"
   ]
  },
  {
   "cell_type": "markdown",
   "metadata": {},
   "source": [
    "`pretty_cols` is a function from the `prep` module that lets us rename the remaining features with more intuitive names for two purposes:\n",
    " - understandability - we know exactly what we are looking at\n",
    " - efficiency - easier to remember and call on our codes later; it can minimize errors based on typo mistakes too!"
   ]
  },
  {
   "cell_type": "code",
   "execution_count": 10,
   "metadata": {},
   "outputs": [],
   "source": [
    "df = prep.pretty_cols(df)"
   ]
  },
  {
   "cell_type": "code",
   "execution_count": 11,
   "metadata": {},
   "outputs": [
    {
     "name": "stdout",
     "output_type": "stream",
     "text": [
      "\n",
      "      These are the remaining features after handling all the missing values:\n",
      "      ['countyid', 'latitude', 'longitude', 'yearbuilt', 'bathroomcnt', 'bedroomcnt', 'house_area', 'whole_area', 'house_value', 'land_value', 'whole_value', 'taxamount', 'logerror', 'transactiondate']\n",
      "      \n"
     ]
    }
   ],
   "source": [
    "print(f\"\"\"\n",
    "      These are the remaining features after handling all the missing values:\n",
    "      {list(df.columns)}\n",
    "      \"\"\")"
   ]
  },
  {
   "cell_type": "markdown",
   "metadata": {},
   "source": [
    "### C. Derive Features"
   ]
  },
  {
   "cell_type": "markdown",
   "metadata": {},
   "source": [
    "Derive `taxrate` from `taxamount` and `taxvaluedollarcnt` using the `cal_taxrate` function."
   ]
  },
  {
   "cell_type": "code",
   "execution_count": 12,
   "metadata": {},
   "outputs": [],
   "source": [
    "df = prep.cal_taxrate(df)"
   ]
  },
  {
   "cell_type": "markdown",
   "metadata": {},
   "source": [
    "As all transactions are in 2017, take only the month from the transaction date for the exploration phase."
   ]
  },
  {
   "cell_type": "code",
   "execution_count": 13,
   "metadata": {},
   "outputs": [],
   "source": [
    "df = prep.define_month(df)"
   ]
  },
  {
   "cell_type": "markdown",
   "metadata": {},
   "source": [
    "### D. Split Train and Test"
   ]
  },
  {
   "cell_type": "markdown",
   "metadata": {},
   "source": [
    "Split dataframe into train and test using the `split_my_data` function from `split_scale` module. The random seed was set to 123 for reproducibility."
   ]
  },
  {
   "cell_type": "code",
   "execution_count": 14,
   "metadata": {},
   "outputs": [],
   "source": [
    "train, test = split_scale.split_my_data(df, .80)"
   ]
  },
  {
   "cell_type": "code",
   "execution_count": 15,
   "metadata": {},
   "outputs": [
    {
     "name": "stdout",
     "output_type": "stream",
     "text": [
      "Train Data\n",
      "<class 'pandas.core.frame.DataFrame'>\n",
      "Int64Index: 41680 entries, 28235 to 54472\n",
      "Data columns (total 14 columns):\n",
      "countyid       41680 non-null int64\n",
      "latitude       41680 non-null int64\n",
      "longitude      41680 non-null int64\n",
      "yearbuilt      41680 non-null float64\n",
      "bathroomcnt    41680 non-null float64\n",
      "bedroomcnt     41680 non-null int64\n",
      "house_area     41680 non-null float64\n",
      "whole_area     41405 non-null float64\n",
      "house_value    41680 non-null float64\n",
      "land_value     41680 non-null float64\n",
      "whole_value    41680 non-null float64\n",
      "logerror       41680 non-null float64\n",
      "taxrate        41680 non-null float64\n",
      "month          41680 non-null int64\n",
      "dtypes: float64(9), int64(5)\n",
      "memory usage: 4.8 MB\n",
      "None\n",
      "\n",
      "Test Data\n",
      "<class 'pandas.core.frame.DataFrame'>\n",
      "Int64Index: 10421 entries, 37917 to 44340\n",
      "Data columns (total 14 columns):\n",
      "countyid       10421 non-null int64\n",
      "latitude       10421 non-null int64\n",
      "longitude      10421 non-null int64\n",
      "yearbuilt      10421 non-null float64\n",
      "bathroomcnt    10421 non-null float64\n",
      "bedroomcnt     10421 non-null int64\n",
      "house_area     10421 non-null float64\n",
      "whole_area     10356 non-null float64\n",
      "house_value    10421 non-null float64\n",
      "land_value     10421 non-null float64\n",
      "whole_value    10421 non-null float64\n",
      "logerror       10421 non-null float64\n",
      "taxrate        10421 non-null float64\n",
      "month          10421 non-null int64\n",
      "dtypes: float64(9), int64(5)\n",
      "memory usage: 1.2 MB\n",
      "None\n"
     ]
    }
   ],
   "source": [
    "print(\"Train Data\")\n",
    "print(train.info())\n",
    "print()\n",
    "print(\"Test Data\")\n",
    "print(test.info())"
   ]
  },
  {
   "cell_type": "markdown",
   "metadata": {},
   "source": [
    "### E. Impute remaining nulls"
   ]
  },
  {
   "cell_type": "markdown",
   "metadata": {},
   "source": [
    "`whole_area` still contain null values (275 rows on train, 65 rows on test). Because of the number, we determined that imputing based on a derived values based on values that we do know.\n",
    "\n",
    "It is important to note that the imputing process has to be done after the split because we want to calculate the imputed values based on a value derived from the train data exclusively."
   ]
  },
  {
   "cell_type": "code",
   "execution_count": 16,
   "metadata": {},
   "outputs": [
    {
     "name": "stdout",
     "output_type": "stream",
     "text": [
      "countyid         0\n",
      "latitude         0\n",
      "longitude        0\n",
      "yearbuilt        0\n",
      "bathroomcnt      0\n",
      "bedroomcnt       0\n",
      "house_area       0\n",
      "whole_area     275\n",
      "house_value      0\n",
      "land_value       0\n",
      "whole_value      0\n",
      "logerror         0\n",
      "taxrate          0\n",
      "month            0\n",
      "dtype: int64\n",
      "\n",
      "countyid        0\n",
      "latitude        0\n",
      "longitude       0\n",
      "yearbuilt       0\n",
      "bathroomcnt     0\n",
      "bedroomcnt      0\n",
      "house_area      0\n",
      "whole_area     65\n",
      "house_value     0\n",
      "land_value      0\n",
      "whole_value     0\n",
      "logerror        0\n",
      "taxrate         0\n",
      "month           0\n",
      "dtype: int64\n"
     ]
    }
   ],
   "source": [
    "print(train.isnull().sum())\n",
    "print()\n",
    "print(test.isnull().sum())"
   ]
  },
  {
   "cell_type": "markdown",
   "metadata": {},
   "source": [
    "The process for imputing `whole_area` is the less straightforward compared to the missing values above.\n",
    "\n",
    "In essence, `whole_area` is the sum of the area of the land without structure (land or dirt) and the finished space (structure or house).\n",
    "\n",
    "The process for filling the missing values on `whole_area` is as follows:\n",
    "\n",
    "1. Derive the total tax dollar amount of the lot by adding the tax value of the land and the tax value of the structure\n",
    "\n",
    "  $ value_{lot} = value_{land} + value_{structure} $\n",
    "  \n",
    "  \n",
    "2. Get the proportion of the lot area and the lot tax value from non-missing values.\n",
    "\n",
    "  $ proportion = \\frac {area_{lot}}{value_{lot}} $\n",
    "  \n",
    "\n",
    "3. There were unrealistic proportions which seem to come from properties that have a big lot area but low tax value. At 75 percentile, we see a proportion of 0.041 and a mean of 0.048. Because of this, we are confident to take the mean of all proportions less than 1 (proportion < 1). The mean will inform us a generalized value for the lot square footage, i.e., $area_{lot}$, given the total lot value, i.e., $value_{lot}$.\n",
    "\n",
    "  \n",
    "4. Impute the nulls in the `whole_area` aka $area_{lot}$ using the derived formula:\n",
    "\n",
    "  $ area_{lot} = value_{lot} * \\mu_{proportion} $"
   ]
  },
  {
   "cell_type": "code",
   "execution_count": 17,
   "metadata": {},
   "outputs": [],
   "source": [
    "train, test = prep.impute_lotsize_nulls(train, test)"
   ]
  },
  {
   "cell_type": "markdown",
   "metadata": {},
   "source": [
    "The derivations are from the value of the train but imputation were made to both train and test so we have a clean data to work with moving forward."
   ]
  },
  {
   "cell_type": "markdown",
   "metadata": {},
   "source": [
    "Now that we have complete values for the `whole_area` column, we can calculate the land area by subtracting `whole_area` i.e., the entire lot, and the `house_area`, i.e., the total finished area. `cal_land_area` function accomplishes this computation and feature addition."
   ]
  },
  {
   "cell_type": "code",
   "execution_count": 18,
   "metadata": {},
   "outputs": [],
   "source": [
    "train = prep.cal_land_area(train)\n",
    "test = prep.cal_land_area(test)"
   ]
  },
  {
   "cell_type": "markdown",
   "metadata": {},
   "source": [
    "## Explore"
   ]
  },
  {
   "cell_type": "markdown",
   "metadata": {},
   "source": [
    "All the functions we used to explore the data are from the `explore` module."
   ]
  },
  {
   "cell_type": "markdown",
   "metadata": {},
   "source": [
    "**Questions we want to answer from the exploratory phase:**\n",
    "\n",
    "1. What are the distribution of data based on the present features? Are there anything that's worth noting?\n",
    "2. Are there distinguishable clusters per month/season? In other words, can we find distinct groups of transactions within the active months of 2017? Are there more types of houses/locations sold in a particular period of the year?\n",
    "3. Are there distinguishable clusters in the properties' age (based on `yearbuilt`)? Based on the properties' age, can we find groups of properties that have comparable features or location?\n",
    "4. Grouping the features based on their intrinsic traits (house-based, location-based, valuation-based features), what are the respective features that correlate to logerror (feature vs target) and with each other (feature vs feature). Knowing these will guide further exploration and the features to maintain and drop.\n",
    "5. Are there specific clusters that generate logerror?"
   ]
  },
  {
   "cell_type": "markdown",
   "metadata": {},
   "source": [
    "<div class=\"alert alert-block alert-info\">\n",
    "<b>QUESTION 1:</b>  \n",
    "What are the distribution of data based on the remaining features? Are there anything that's worth noting?\n",
    "</div>"
   ]
  },
  {
   "cell_type": "markdown",
   "metadata": {},
   "source": [
    "Using distribution plot and value counts, let's take a peek at the features we have."
   ]
  },
  {
   "cell_type": "code",
   "execution_count": 19,
   "metadata": {},
   "outputs": [],
   "source": [
    "# explore.features_num_values(train)"
   ]
  },
  {
   "cell_type": "code",
   "execution_count": 20,
   "metadata": {},
   "outputs": [
    {
     "data": {
      "text/plain": [
       "373759.5"
      ]
     },
     "execution_count": 20,
     "metadata": {},
     "output_type": "execute_result"
    }
   ],
   "source": [
    "train.whole_value.median()"
   ]
  },
  {
   "cell_type": "markdown",
   "metadata": {},
   "source": [
    "<div class=\"alert alert-block alert-info\">\n",
    "<b>TAKEAWAYS:</b>  \n",
    "    \n",
    "- In the three counties that we are surveying, a notably large volume of houses were built in mid-1940s (post-war) to late-1950s.  \n",
    "- Typical bathroom count is 2.  \n",
    "- Typical bedroom count is 3.  \n",
    "- Most properties in our data have a ~4500 sqft or less.  \n",
    "- There are a handful (8) of properties in our data that are situated in a total land area of more than 15 acres.\n",
    "- A typical property (land and house) in the three counties grosses to around \\$ 374,000\n",
    "</div>"
   ]
  },
  {
   "cell_type": "markdown",
   "metadata": {},
   "source": [
    "<div class=\"alert alert-block alert-info\">\n",
    "<b>QUESTION 2:</b>  \n",
    "Are there distinguishable clusters per month/season? In other words, can we find distinct groups of transactions within the active months of 2017? Are there more types of houses/locations sold in a particular period of the year?\n",
    "</div>"
   ]
  },
  {
   "cell_type": "markdown",
   "metadata": {},
   "source": [
    "Look for clusters in months."
   ]
  },
  {
   "cell_type": "code",
   "execution_count": 21,
   "metadata": {},
   "outputs": [],
   "source": [
    "# explore.k_cluster_all(train, \"month\", 5)"
   ]
  },
  {
   "cell_type": "markdown",
   "metadata": {},
   "source": [
    "<div class=\"alert alert-block alert-info\">\n",
    "<b>TAKEAWAY:</b>  \n",
    "    \n",
    "- There are no distinct clusters (house properties, location) by looking at specific features.\n",
    "</div>"
   ]
  },
  {
   "cell_type": "markdown",
   "metadata": {},
   "source": [
    "<div class=\"alert alert-block alert-info\">\n",
    "<b>QUESTION 3:</b>  \n",
    "Are there distinguishable clusters in the properties' age (based on yearbuilt)? Based on the properties' age, can we find groups of properties that have comparable features or location?\n",
    "</div>"
   ]
  },
  {
   "cell_type": "code",
   "execution_count": 22,
   "metadata": {},
   "outputs": [],
   "source": [
    "# explore.k_cluster_all(train, \"yearbuilt\", 5)"
   ]
  },
  {
   "cell_type": "markdown",
   "metadata": {},
   "source": [
    "<div class=\"alert alert-block alert-info\">\n",
    "<b>TAKEAWAY:</b>  \n",
    "    \n",
    "- There are distinguishable clusters in `land_value` and `house_value` when mapped across year built. This informs us that `yearbuilt` gives information that we may want to include as an intrinsic trait of the property. Therefore, we will keep this feature.\n",
    "\n",
    "- It is interesting to note that there are no pre-1920 properties that are valuated above 2M, unlike properties built at a later time."
   ]
  },
  {
   "cell_type": "code",
   "execution_count": 23,
   "metadata": {},
   "outputs": [],
   "source": [
    "# explore.k_cluster_all(train, \"latitude\", 5)"
   ]
  },
  {
   "cell_type": "code",
   "execution_count": 24,
   "metadata": {},
   "outputs": [],
   "source": [
    "# explore.k_cluster_all(train, \"longitude\", 5)"
   ]
  },
  {
   "cell_type": "markdown",
   "metadata": {},
   "source": [
    "There are noticable clusters in latitude and longitude. As well as latitude and longitude with house area. Will explore both more. "
   ]
  },
  {
   "cell_type": "code",
   "execution_count": 25,
   "metadata": {},
   "outputs": [],
   "source": [
    "# explore.elbow(train[[\"latitude\",\"longitude\"]])"
   ]
  },
  {
   "cell_type": "code",
   "execution_count": 26,
   "metadata": {},
   "outputs": [],
   "source": [
    "# explore.k_cluster_2d(train, \"latitude\", \"longitude\", 7, 3)"
   ]
  },
  {
   "cell_type": "markdown",
   "metadata": {},
   "source": [
    "We will use a temporary data frame `train_ex` with all the attributes (inclusing logerror, our target) scaled for the exploration phase to enable us to liberally use statistical methods like pearson's correlation and t-test later.\n",
    "\n",
    "`train_ex` is an exploration-version of train:\n",
    "    - without the transaction date\n",
    "    - scaled to normal distribution"
   ]
  },
  {
   "cell_type": "markdown",
   "metadata": {},
   "source": [
    "The scaler function from the `split_scale` module requires a test data frame as a parameter. Hence, even though we will not use `test_ex` in the exploration phase, we will feed it into the scaler and set it aside."
   ]
  },
  {
   "cell_type": "code",
   "execution_count": 27,
   "metadata": {},
   "outputs": [],
   "source": [
    "train_ex = train[[\"logerror\",\"bathroomcnt\",\"bedroomcnt\",\"house_area\",\"land_area\",\"whole_area\",\n",
    "                  \"yearbuilt\",\"latitude\",\"longitude\",\"taxrate\",\"house_value\",\"land_value\",\"whole_value\"]]\n",
    "test_ex = test[[\"logerror\",\"bathroomcnt\",\"bedroomcnt\",\"house_area\",\"land_area\",\"whole_area\",\n",
    "                \"yearbuilt\",\"latitude\",\"longitude\",\"taxrate\",\"house_value\",\"land_value\",\"whole_value\"]]"
   ]
  },
  {
   "cell_type": "code",
   "execution_count": 28,
   "metadata": {},
   "outputs": [],
   "source": [
    "train_ex, test_ex, scaler = split_scale.standard_scaler(train_ex, test_ex)"
   ]
  },
  {
   "cell_type": "markdown",
   "metadata": {},
   "source": [
    "It would be a challenge to explore with all the features, let's separate them in groups that make sense:\n",
    "\n",
    "- Home-based features\n",
    "- Location-based features\n",
    "- Valuation-based (or money-related) features"
   ]
  },
  {
   "cell_type": "code",
   "execution_count": 29,
   "metadata": {},
   "outputs": [],
   "source": [
    "train_ex_home = train_ex[[\"logerror\",\"bathroomcnt\",\"bedroomcnt\",\"house_area\",\"land_area\",\"whole_area\",\"yearbuilt\"]]\n",
    "train_ex_loc = train_ex[[\"logerror\",\"latitude\",\"longitude\",\"taxrate\"]]\n",
    "train_ex_val = train_ex[[\"logerror\",\"house_value\",\"land_value\",\"whole_value\"]]"
   ]
  },
  {
   "cell_type": "code",
   "execution_count": 30,
   "metadata": {},
   "outputs": [],
   "source": [
    "# sns.pairplot(train_ex_home)\n",
    "# plt.show()"
   ]
  },
  {
   "cell_type": "code",
   "execution_count": 31,
   "metadata": {},
   "outputs": [],
   "source": [
    "# sns.heatmap(train_ex_home.corr(), annot=True)\n",
    "# plt.show()"
   ]
  },
  {
   "cell_type": "markdown",
   "metadata": {},
   "source": [
    "`bathroomcnt` and `bedroomcnt` have strong positive correlation with `house_area`. These features can be dropped. Likewise, `land_area` is a derivative of the data we know previously which was `whole_area` (prev. lotsize) so they're very strongly correlated. We can drop the `whole_area` for now.\n",
    "  \n",
    "Recall that `land_area` is a derived feature from finished sqft and lot size. We inferred that a big house, does not always entail a big land which is why we separated land and house area in the first place. Seeing a low (0.15) correlation between `land_area` and `house_area` confirms that it was a good move to separate these features.\n",
    "  \n",
    "It's also interesting to note that `house_area` has a fairly strong positive correlation with `yearbuilt` and it's probably due to the style of house built during that era (craftsman, neoclassical, ranch style, etc.). Even if they are correlated, year built provides a distinct information on the property so we will keep it."
   ]
  },
  {
   "cell_type": "code",
   "execution_count": 32,
   "metadata": {},
   "outputs": [],
   "source": [
    "# sns.pairplot(train_ex_loc)\n",
    "# plt.show()"
   ]
  },
  {
   "cell_type": "code",
   "execution_count": 33,
   "metadata": {},
   "outputs": [],
   "source": [
    "# sns.heatmap(train_ex_loc.corr(),annot=True)\n",
    "# plt.show()"
   ]
  },
  {
   "cell_type": "markdown",
   "metadata": {},
   "source": [
    "No correlations stand out from the house group, but it's worth noting that `latitude` and `longitude` have strong negative correlation. It means that as we move eastwards, we move southwards, which geographically makes sense as we are considering counties in Los Angeles (forms a downsloping diagonal line).\n",
    "\n",
    "The `tax_rate` has some correlation with `latitude`."
   ]
  },
  {
   "cell_type": "code",
   "execution_count": 34,
   "metadata": {},
   "outputs": [],
   "source": [
    "# sns.pairplot(train_ex_val)\n",
    "# plt.show()"
   ]
  },
  {
   "cell_type": "code",
   "execution_count": 35,
   "metadata": {},
   "outputs": [],
   "source": [
    "# sns.heatmap(train_ex_val.corr(),annot=True)\n",
    "# plt.show()"
   ]
  },
  {
   "cell_type": "markdown",
   "metadata": {},
   "source": [
    "`whole_value` is the sum of `land_value` and `house_value`, so a positive high correlation of .95 and .85 is expected. We can drop `whole_value` as a feature for the model."
   ]
  },
  {
   "cell_type": "markdown",
   "metadata": {},
   "source": [
    "<div class=\"alert alert-block alert-info\">\n",
    "<b>TAKEAWAYS:</b>  \n",
    "    \n",
    "- None of the features seem to highly correlate with logerror. But it makes me think that its possibly because of two things:\n",
    "    1. Logerror is a derived feature. It's not as straightforward as property value.\n",
    "    2. Logerror is drived by a summation of different things, random and predictable. It's a multi-dimensional problem that needs more than x predicts y.\n",
    "- Pearson's r does not show statistical significance. Instead of thinking that none of these features drive logerror, it strengthens the idea of exploring clustering more to address the dimensionality of the features.\n",
    "- With the above being said, instead of using pearson's r to both (1) see strong drivers in explaining logerror, and (2) check for multicollinear features, we will only use it to address multicollinearity and inform us what features to drop.\n",
    "- **Features to Keep based on Pearson's Correlation**\n",
    " - Home Group  \n",
    "   - land_area  \n",
    "   - house_area  \n",
    "   - yearbuilt  \n",
    " - Location Group  \n",
    "   - latitude  \n",
    "   - longitude    \n",
    "   - taxrate  \n",
    " - Valuation Group  \n",
    "   - house_value  \n",
    "   - land_value  \n",
    "\n",
    "</div>"
   ]
  },
  {
   "cell_type": "markdown",
   "metadata": {},
   "source": [
    "### Feature Engineering"
   ]
  },
  {
   "cell_type": "markdown",
   "metadata": {},
   "source": [
    "Now that we have identified the most relevant features per group, we will explore if there are noticeable clusters in each feature group.\n",
    "\n",
    "We need to scale home and loc features because K-Means uses distance as a method for clustering. To maintain the relative distance of each data points while being synced to a uniform scale, we will use a MinMax scaler from the `split_scale` module."
   ]
  },
  {
   "cell_type": "code",
   "execution_count": 36,
   "metadata": {},
   "outputs": [],
   "source": [
    "train_home = train[[\"house_area\",\"land_area\",\"yearbuilt\"]]\n",
    "test_home = test[[\"house_area\",\"land_area\",\"yearbuilt\"]]\n",
    "\n",
    "train_loc = train[[\"latitude\",\"longitude\",\"taxrate\"]]\n",
    "test_loc = test[[\"latitude\",\"longitude\",\"taxrate\"]]\n",
    "\n",
    "train_val = train[[\"house_value\",\"land_value\"]]\n",
    "test_val = test[[\"house_value\",\"land_value\"]]"
   ]
  },
  {
   "cell_type": "code",
   "execution_count": 37,
   "metadata": {},
   "outputs": [],
   "source": [
    "train_home, test_home, scaler = split_scale.min_max_scaler(train_home, test_home)"
   ]
  },
  {
   "cell_type": "code",
   "execution_count": 38,
   "metadata": {},
   "outputs": [],
   "source": [
    "train_loc, test_loc, scaler = split_scale.min_max_scaler(train_loc, test_loc)"
   ]
  },
  {
   "cell_type": "markdown",
   "metadata": {},
   "source": [
    "Now, run each feature groups to see if there are identifiable clusters using the following steps:\n",
    "- Cluster and perform an elbow method to know the optimal number of clusters.\n",
    "- Plot using the same clusters to see if there are distinguishible clusters within feature groups."
   ]
  },
  {
   "cell_type": "code",
   "execution_count": 39,
   "metadata": {},
   "outputs": [],
   "source": [
    "# explore.elbow(train_home)"
   ]
  },
  {
   "cell_type": "markdown",
   "metadata": {},
   "source": [
    "The ideal amount of clusters appears to be 8. With this number of clusters, plot the data points with the features as dimensions."
   ]
  },
  {
   "cell_type": "code",
   "execution_count": 40,
   "metadata": {
    "scrolled": true
   },
   "outputs": [
    {
     "data": {
      "image/png": "[encoded data removed]",
      "text/plain": [
       "<Figure size 504x288 with 1 Axes>"
      ]
     },
     "metadata": {
      "needs_background": "light"
     },
     "output_type": "display_data"
    }
   ],
   "source": [
    "explore.k_cluster_3d(train_home,\"house_area\",\"yearbuilt\",\"land_area\", 8)"
   ]
  },
  {
   "cell_type": "markdown",
   "metadata": {},
   "source": [
    "Execute the same process for the location group."
   ]
  },
  {
   "cell_type": "code",
   "execution_count": 41,
   "metadata": {},
   "outputs": [],
   "source": [
    "# explore.elbow(train_loc)"
   ]
  },
  {
   "cell_type": "markdown",
   "metadata": {},
   "source": [
    "The ideal amount of clusters appears to be 7. "
   ]
  },
  {
   "cell_type": "code",
   "execution_count": 42,
   "metadata": {},
   "outputs": [
    {
     "data": {
      "image/png": "[encoded data removed]",
      "text/plain": [
       "<Figure size 504x288 with 1 Axes>"
      ]
     },
     "metadata": {
      "needs_background": "light"
     },
     "output_type": "display_data"
    }
   ],
   "source": [
    "explore.k_cluster_3d(train_loc,\"longitude\",\"latitude\",\"taxrate\",7)"
   ]
  },
  {
   "cell_type": "code",
   "execution_count": 43,
   "metadata": {},
   "outputs": [],
   "source": [
    "# explore.elbow(train_val)"
   ]
  },
  {
   "cell_type": "markdown",
   "metadata": {},
   "source": [
    "The ideal amount of clusters appears to be 5."
   ]
  },
  {
   "cell_type": "code",
   "execution_count": 44,
   "metadata": {},
   "outputs": [],
   "source": [
    "# explore.k_cluster_2d(train_val, \"house_value\", \"land_value\", 5, n_min=5)"
   ]
  },
  {
   "cell_type": "code",
   "execution_count": 45,
   "metadata": {},
   "outputs": [],
   "source": [
    "train_home_clusters = model.kmeans_model(train_home,8)\n",
    "train_loc_clusters = model.kmeans_model(train_loc,7)\n",
    "train_val_clusters = model.kmeans_model(train_loc,5)"
   ]
  },
  {
   "cell_type": "code",
   "execution_count": 46,
   "metadata": {},
   "outputs": [],
   "source": [
    "clusters = pd.DataFrame({\"cluster_home\":train_home_clusters,\"cluster_loc\":train_loc_clusters,\"cluster_val\":train_val_clusters},index=train.index)\n",
    "train[[\"cluster_home\",\"cluster_loc\",\"cluster_val\"]] = clusters"
   ]
  },
  {
   "cell_type": "markdown",
   "metadata": {},
   "source": [
    "#### Test for significance"
   ]
  },
  {
   "cell_type": "markdown",
   "metadata": {},
   "source": [
    "Using the `test_significance` function in the `explore` module, test each clusters for significance by comparing each cluster's logerror to the population logerror (one sample t-test)."
   ]
  },
  {
   "cell_type": "code",
   "execution_count": 47,
   "metadata": {},
   "outputs": [
    {
     "data": {
      "text/html": [
       "<div>\n",
       "<style scoped>\n",
       "    .dataframe tbody tr th:only-of-type {\n",
       "        vertical-align: middle;\n",
       "    }\n",
       "\n",
       "    .dataframe tbody tr th {\n",
       "        vertical-align: top;\n",
       "    }\n",
       "\n",
       "    .dataframe thead th {\n",
       "        text-align: right;\n",
       "    }\n",
       "</style>\n",
       "<table border=\"1\" class=\"dataframe\">\n",
       "  <thead>\n",
       "    <tr style=\"text-align: right;\">\n",
       "      <th></th>\n",
       "      <th>ttest</th>\n",
       "      <th>pval</th>\n",
       "      <th>stat_sig</th>\n",
       "    </tr>\n",
       "  </thead>\n",
       "  <tbody>\n",
       "    <tr>\n",
       "      <th>0</th>\n",
       "      <td>-1.442844</td>\n",
       "      <td>1.490938e-01</td>\n",
       "      <td>False</td>\n",
       "    </tr>\n",
       "    <tr>\n",
       "      <th>1</th>\n",
       "      <td>0.787876</td>\n",
       "      <td>4.308021e-01</td>\n",
       "      <td>False</td>\n",
       "    </tr>\n",
       "    <tr>\n",
       "      <th>2</th>\n",
       "      <td>-0.234393</td>\n",
       "      <td>8.146904e-01</td>\n",
       "      <td>False</td>\n",
       "    </tr>\n",
       "    <tr>\n",
       "      <th>3</th>\n",
       "      <td>-2.025048</td>\n",
       "      <td>4.292845e-02</td>\n",
       "      <td>False</td>\n",
       "    </tr>\n",
       "    <tr>\n",
       "      <th>4</th>\n",
       "      <td>2.675852</td>\n",
       "      <td>7.469905e-03</td>\n",
       "      <td>True</td>\n",
       "    </tr>\n",
       "    <tr>\n",
       "      <th>5</th>\n",
       "      <td>0.976789</td>\n",
       "      <td>3.287339e-01</td>\n",
       "      <td>False</td>\n",
       "    </tr>\n",
       "    <tr>\n",
       "      <th>6</th>\n",
       "      <td>-3.462168</td>\n",
       "      <td>5.413032e-04</td>\n",
       "      <td>True</td>\n",
       "    </tr>\n",
       "    <tr>\n",
       "      <th>7</th>\n",
       "      <td>5.044254</td>\n",
       "      <td>5.466507e-07</td>\n",
       "      <td>True</td>\n",
       "    </tr>\n",
       "  </tbody>\n",
       "</table>\n",
       "</div>"
      ],
      "text/plain": [
       "      ttest          pval  stat_sig\n",
       "0 -1.442844  1.490938e-01     False\n",
       "1  0.787876  4.308021e-01     False\n",
       "2 -0.234393  8.146904e-01     False\n",
       "3 -2.025048  4.292845e-02     False\n",
       "4  2.675852  7.469905e-03      True\n",
       "5  0.976789  3.287339e-01     False\n",
       "6 -3.462168  5.413032e-04      True\n",
       "7  5.044254  5.466507e-07      True"
      ]
     },
     "execution_count": 47,
     "metadata": {},
     "output_type": "execute_result"
    }
   ],
   "source": [
    "explore.test_significance(train.cluster_home, train)"
   ]
  },
  {
   "cell_type": "code",
   "execution_count": 48,
   "metadata": {},
   "outputs": [
    {
     "data": {
      "text/html": [
       "<div>\n",
       "<style scoped>\n",
       "    .dataframe tbody tr th:only-of-type {\n",
       "        vertical-align: middle;\n",
       "    }\n",
       "\n",
       "    .dataframe tbody tr th {\n",
       "        vertical-align: top;\n",
       "    }\n",
       "\n",
       "    .dataframe thead th {\n",
       "        text-align: right;\n",
       "    }\n",
       "</style>\n",
       "<table border=\"1\" class=\"dataframe\">\n",
       "  <thead>\n",
       "    <tr style=\"text-align: right;\">\n",
       "      <th></th>\n",
       "      <th>logerror</th>\n",
       "    </tr>\n",
       "    <tr>\n",
       "      <th>cluster_home</th>\n",
       "      <th></th>\n",
       "    </tr>\n",
       "  </thead>\n",
       "  <tbody>\n",
       "    <tr>\n",
       "      <th>0</th>\n",
       "      <td>0.057803</td>\n",
       "    </tr>\n",
       "    <tr>\n",
       "      <th>1</th>\n",
       "      <td>0.010776</td>\n",
       "    </tr>\n",
       "    <tr>\n",
       "      <th>2</th>\n",
       "      <td>0.023147</td>\n",
       "    </tr>\n",
       "    <tr>\n",
       "      <th>3</th>\n",
       "      <td>0.006743</td>\n",
       "    </tr>\n",
       "    <tr>\n",
       "      <th>4</th>\n",
       "      <td>0.020201</td>\n",
       "    </tr>\n",
       "    <tr>\n",
       "      <th>5</th>\n",
       "      <td>0.015524</td>\n",
       "    </tr>\n",
       "    <tr>\n",
       "      <th>6</th>\n",
       "      <td>0.019501</td>\n",
       "    </tr>\n",
       "    <tr>\n",
       "      <th>7</th>\n",
       "      <td>0.017230</td>\n",
       "    </tr>\n",
       "  </tbody>\n",
       "</table>\n",
       "</div>"
      ],
      "text/plain": [
       "              logerror\n",
       "cluster_home          \n",
       "0             0.057803\n",
       "1             0.010776\n",
       "2             0.023147\n",
       "3             0.006743\n",
       "4             0.020201\n",
       "5             0.015524\n",
       "6             0.019501\n",
       "7             0.017230"
      ]
     },
     "execution_count": 48,
     "metadata": {},
     "output_type": "execute_result"
    }
   ],
   "source": [
    "train.groupby(train.cluster_home)[[\"logerror\"]].mean()"
   ]
  },
  {
   "cell_type": "code",
   "execution_count": 49,
   "metadata": {},
   "outputs": [
    {
     "data": {
      "text/plain": [
       "<matplotlib.collections.LineCollection at 0x1a1d15a400>"
      ]
     },
     "execution_count": 49,
     "metadata": {},
     "output_type": "execute_result"
    },
    {
     "data": {
      "image/png": "[encoded data removed]",
      "text/plain": [
       "<Figure size 432x288 with 1 Axes>"
      ]
     },
     "metadata": {
      "needs_background": "light"
     },
     "output_type": "display_data"
    }
   ],
   "source": [
    "sns.barplot(train.cluster_home, train.logerror)\n",
    "plt.hlines(train.logerror.mean(),-1,len(train.cluster_home.unique()),ls=\":\")"
   ]
  },
  {
   "cell_type": "code",
   "execution_count": 50,
   "metadata": {},
   "outputs": [
    {
     "data": {
      "text/html": [
       "<div>\n",
       "<style scoped>\n",
       "    .dataframe tbody tr th:only-of-type {\n",
       "        vertical-align: middle;\n",
       "    }\n",
       "\n",
       "    .dataframe tbody tr th {\n",
       "        vertical-align: top;\n",
       "    }\n",
       "\n",
       "    .dataframe thead th {\n",
       "        text-align: right;\n",
       "    }\n",
       "</style>\n",
       "<table border=\"1\" class=\"dataframe\">\n",
       "  <thead>\n",
       "    <tr style=\"text-align: right;\">\n",
       "      <th></th>\n",
       "      <th>ttest</th>\n",
       "      <th>pval</th>\n",
       "      <th>stat_sig</th>\n",
       "    </tr>\n",
       "  </thead>\n",
       "  <tbody>\n",
       "    <tr>\n",
       "      <th>0</th>\n",
       "      <td>-5.178363</td>\n",
       "      <td>2.296490e-07</td>\n",
       "      <td>True</td>\n",
       "    </tr>\n",
       "    <tr>\n",
       "      <th>1</th>\n",
       "      <td>2.473291</td>\n",
       "      <td>1.340654e-02</td>\n",
       "      <td>True</td>\n",
       "    </tr>\n",
       "    <tr>\n",
       "      <th>2</th>\n",
       "      <td>0.875566</td>\n",
       "      <td>3.812975e-01</td>\n",
       "      <td>False</td>\n",
       "    </tr>\n",
       "    <tr>\n",
       "      <th>3</th>\n",
       "      <td>-0.824107</td>\n",
       "      <td>4.099398e-01</td>\n",
       "      <td>False</td>\n",
       "    </tr>\n",
       "    <tr>\n",
       "      <th>4</th>\n",
       "      <td>-0.585454</td>\n",
       "      <td>5.582586e-01</td>\n",
       "      <td>False</td>\n",
       "    </tr>\n",
       "    <tr>\n",
       "      <th>5</th>\n",
       "      <td>0.008662</td>\n",
       "      <td>9.930895e-01</td>\n",
       "      <td>False</td>\n",
       "    </tr>\n",
       "    <tr>\n",
       "      <th>6</th>\n",
       "      <td>3.328928</td>\n",
       "      <td>8.788996e-04</td>\n",
       "      <td>True</td>\n",
       "    </tr>\n",
       "  </tbody>\n",
       "</table>\n",
       "</div>"
      ],
      "text/plain": [
       "      ttest          pval  stat_sig\n",
       "0 -5.178363  2.296490e-07      True\n",
       "1  2.473291  1.340654e-02      True\n",
       "2  0.875566  3.812975e-01     False\n",
       "3 -0.824107  4.099398e-01     False\n",
       "4 -0.585454  5.582586e-01     False\n",
       "5  0.008662  9.930895e-01     False\n",
       "6  3.328928  8.788996e-04      True"
      ]
     },
     "execution_count": 50,
     "metadata": {},
     "output_type": "execute_result"
    }
   ],
   "source": [
    "explore.test_significance(train.cluster_loc, train)"
   ]
  },
  {
   "cell_type": "code",
   "execution_count": 63,
   "metadata": {},
   "outputs": [
    {
     "data": {
      "text/plain": [
       "<matplotlib.collections.LineCollection at 0x1a1a8c6f28>"
      ]
     },
     "execution_count": 63,
     "metadata": {},
     "output_type": "execute_result"
    },
    {
     "data": {
      "image/png": "[encoded data removed]",
      "text/plain": [
       "<Figure size 432x288 with 1 Axes>"
      ]
     },
     "metadata": {
      "needs_background": "light"
     },
     "output_type": "display_data"
    }
   ],
   "source": [
    "sns.barplot(train.cluster_loc, train.logerror)\n",
    "plt.hlines(train.logerror.mean(),-1,len(train.cluster_loc.unique()),ls=\":\")"
   ]
  },
  {
   "cell_type": "code",
   "execution_count": 52,
   "metadata": {},
   "outputs": [
    {
     "data": {
      "text/html": [
       "<div>\n",
       "<style scoped>\n",
       "    .dataframe tbody tr th:only-of-type {\n",
       "        vertical-align: middle;\n",
       "    }\n",
       "\n",
       "    .dataframe tbody tr th {\n",
       "        vertical-align: top;\n",
       "    }\n",
       "\n",
       "    .dataframe thead th {\n",
       "        text-align: right;\n",
       "    }\n",
       "</style>\n",
       "<table border=\"1\" class=\"dataframe\">\n",
       "  <thead>\n",
       "    <tr style=\"text-align: right;\">\n",
       "      <th></th>\n",
       "      <th>ttest</th>\n",
       "      <th>pval</th>\n",
       "      <th>stat_sig</th>\n",
       "    </tr>\n",
       "  </thead>\n",
       "  <tbody>\n",
       "    <tr>\n",
       "      <th>0</th>\n",
       "      <td>-4.521460</td>\n",
       "      <td>0.000006</td>\n",
       "      <td>True</td>\n",
       "    </tr>\n",
       "    <tr>\n",
       "      <th>1</th>\n",
       "      <td>0.588724</td>\n",
       "      <td>0.556054</td>\n",
       "      <td>False</td>\n",
       "    </tr>\n",
       "    <tr>\n",
       "      <th>2</th>\n",
       "      <td>-0.791376</td>\n",
       "      <td>0.428779</td>\n",
       "      <td>False</td>\n",
       "    </tr>\n",
       "    <tr>\n",
       "      <th>3</th>\n",
       "      <td>4.155640</td>\n",
       "      <td>0.000033</td>\n",
       "      <td>True</td>\n",
       "    </tr>\n",
       "    <tr>\n",
       "      <th>4</th>\n",
       "      <td>-0.021473</td>\n",
       "      <td>0.982870</td>\n",
       "      <td>False</td>\n",
       "    </tr>\n",
       "  </tbody>\n",
       "</table>\n",
       "</div>"
      ],
      "text/plain": [
       "      ttest      pval  stat_sig\n",
       "0 -4.521460  0.000006      True\n",
       "1  0.588724  0.556054     False\n",
       "2 -0.791376  0.428779     False\n",
       "3  4.155640  0.000033      True\n",
       "4 -0.021473  0.982870     False"
      ]
     },
     "execution_count": 52,
     "metadata": {},
     "output_type": "execute_result"
    }
   ],
   "source": [
    "explore.test_significance(train.cluster_val, train)"
   ]
  },
  {
   "cell_type": "code",
   "execution_count": 53,
   "metadata": {},
   "outputs": [
    {
     "data": {
      "text/plain": [
       "<matplotlib.collections.LineCollection at 0x1a1d3237b8>"
      ]
     },
     "execution_count": 53,
     "metadata": {},
     "output_type": "execute_result"
    },
    {
     "data": {
      "image/png": "[encoded data removed]",
      "text/plain": [
       "<Figure size 432x288 with 1 Axes>"
      ]
     },
     "metadata": {
      "needs_background": "light"
     },
     "output_type": "display_data"
    }
   ],
   "source": [
    "sns.barplot(train.cluster_val, train.logerror)\n",
    "plt.hlines(train.logerror.mean(),-1,len(train.cluster_val.unique()),ls=\":\")"
   ]
  },
  {
   "cell_type": "markdown",
   "metadata": {},
   "source": [
    "#### What clusters tell us about logerror differences\n",
    "?? not sure until i see it in a plot"
   ]
  },
  {
   "cell_type": "markdown",
   "metadata": {},
   "source": [
    "- properties with higher tax rate than normal have greater logerror difference\n",
    "- properties with big land area and house area have greater logerror"
   ]
  },
  {
   "cell_type": "markdown",
   "metadata": {},
   "source": [
    "## Model"
   ]
  },
  {
   "cell_type": "code",
   "execution_count": 70,
   "metadata": {},
   "outputs": [],
   "source": [
    "X_train = train[[\"house_area\",\"land_area\",\"yearbuilt\",\"latitude\",\"longitude\",\"taxrate\",\"house_value\",\"land_value\",\"cluster_val\",\"cluster_home\",\"cluster_loc\"]]\n",
    "X_test = train[[\"house_area\",\"land_area\",\"yearbuilt\",\"latitude\",\"longitude\",\"taxrate\",\"house_value\",\"land_value\",\"cluster_val\",\"cluster_home\",\"cluster_loc\"]]\n",
    "\n",
    "y_train = train.logerror\n",
    "y_test = test.logerror"
   ]
  },
  {
   "cell_type": "code",
   "execution_count": 71,
   "metadata": {},
   "outputs": [],
   "source": [
    "X_train_scaled, X_test_scaled, scaler = split_scale.standard_scaler(X_train, X_test)"
   ]
  },
  {
   "cell_type": "code",
   "execution_count": 72,
   "metadata": {},
   "outputs": [
    {
     "name": "stdout",
     "output_type": "stream",
     "text": [
      "house_value    -0.006743\n",
      "land_value     -0.004225\n",
      "latitude       -0.002791\n",
      "cluster_loc    -0.002657\n",
      "cluster_home   -0.002135\n",
      "cluster_val     0.000009\n",
      "yearbuilt       0.001332\n",
      "land_area       0.001654\n",
      "taxrate         0.002149\n",
      "longitude       0.003603\n",
      "house_area      0.012764\n",
      "dtype: float64\n",
      "Lasso picked 11 variables and eliminated the other 0 variables\n"
     ]
    }
   ],
   "source": [
    "from sklearn.linear_model import LassoCV\n",
    "\n",
    "lassom = LassoCV()\n",
    "lassom.fit(X_train_scaled, y_train)\n",
    "\n",
    "coef = pd.Series(lassom.coef_, index = X_train.columns)\n",
    "imp_coef = coef.sort_values()\n",
    "\n",
    "print(imp_coef)\n",
    "print(\"Lasso picked \" + str(sum(coef != 0)) + \" variables and eliminated the other \" +  str(sum(coef == 0)) + \" variables\")"
   ]
  },
  {
   "cell_type": "code",
   "execution_count": 73,
   "metadata": {},
   "outputs": [],
   "source": [
    "train = model.linear_model(X_train_scaled,y_train,train)"
   ]
  },
  {
   "cell_type": "code",
   "execution_count": 74,
   "metadata": {},
   "outputs": [
    {
     "data": {
      "text/html": [
       "<div>\n",
       "<style scoped>\n",
       "    .dataframe tbody tr th:only-of-type {\n",
       "        vertical-align: middle;\n",
       "    }\n",
       "\n",
       "    .dataframe tbody tr th {\n",
       "        vertical-align: top;\n",
       "    }\n",
       "\n",
       "    .dataframe thead th {\n",
       "        text-align: right;\n",
       "    }\n",
       "</style>\n",
       "<table border=\"1\" class=\"dataframe\">\n",
       "  <thead>\n",
       "    <tr style=\"text-align: right;\">\n",
       "      <th></th>\n",
       "      <th>countyid</th>\n",
       "      <th>latitude</th>\n",
       "      <th>longitude</th>\n",
       "      <th>yearbuilt</th>\n",
       "      <th>bathroomcnt</th>\n",
       "      <th>bedroomcnt</th>\n",
       "      <th>house_area</th>\n",
       "      <th>land_area</th>\n",
       "      <th>whole_area</th>\n",
       "      <th>house_value</th>\n",
       "      <th>land_value</th>\n",
       "      <th>whole_value</th>\n",
       "      <th>taxrate</th>\n",
       "      <th>logerror</th>\n",
       "      <th>month</th>\n",
       "      <th>cluster_home</th>\n",
       "      <th>cluster_loc</th>\n",
       "      <th>cluster_val</th>\n",
       "      <th>lm</th>\n",
       "    </tr>\n",
       "  </thead>\n",
       "  <tbody>\n",
       "    <tr>\n",
       "      <th>28235</th>\n",
       "      <td>6037</td>\n",
       "      <td>33960836</td>\n",
       "      <td>-118413033</td>\n",
       "      <td>1949.0</td>\n",
       "      <td>2.0</td>\n",
       "      <td>3</td>\n",
       "      <td>1895.0</td>\n",
       "      <td>7198.0</td>\n",
       "      <td>9093.0</td>\n",
       "      <td>85181.0</td>\n",
       "      <td>84978.0</td>\n",
       "      <td>170159.0</td>\n",
       "      <td>0.013674</td>\n",
       "      <td>-0.059434</td>\n",
       "      <td>4</td>\n",
       "      <td>5</td>\n",
       "      <td>5</td>\n",
       "      <td>2</td>\n",
       "      <td>0.016581</td>\n",
       "    </tr>\n",
       "    <tr>\n",
       "      <th>22023</th>\n",
       "      <td>6037</td>\n",
       "      <td>33895532</td>\n",
       "      <td>-118011549</td>\n",
       "      <td>1955.0</td>\n",
       "      <td>2.0</td>\n",
       "      <td>3</td>\n",
       "      <td>1294.0</td>\n",
       "      <td>4670.0</td>\n",
       "      <td>5964.0</td>\n",
       "      <td>84270.0</td>\n",
       "      <td>230957.0</td>\n",
       "      <td>315227.0</td>\n",
       "      <td>0.013173</td>\n",
       "      <td>0.266040</td>\n",
       "      <td>3</td>\n",
       "      <td>5</td>\n",
       "      <td>6</td>\n",
       "      <td>3</td>\n",
       "      <td>0.011357</td>\n",
       "    </tr>\n",
       "    <tr>\n",
       "      <th>56314</th>\n",
       "      <td>6037</td>\n",
       "      <td>33844205</td>\n",
       "      <td>-118119583</td>\n",
       "      <td>1950.0</td>\n",
       "      <td>1.0</td>\n",
       "      <td>3</td>\n",
       "      <td>1092.0</td>\n",
       "      <td>3908.0</td>\n",
       "      <td>5000.0</td>\n",
       "      <td>81388.0</td>\n",
       "      <td>140326.0</td>\n",
       "      <td>221714.0</td>\n",
       "      <td>0.013059</td>\n",
       "      <td>0.109513</td>\n",
       "      <td>7</td>\n",
       "      <td>5</td>\n",
       "      <td>6</td>\n",
       "      <td>3</td>\n",
       "      <td>0.008610</td>\n",
       "    </tr>\n",
       "    <tr>\n",
       "      <th>29544</th>\n",
       "      <td>6037</td>\n",
       "      <td>34071220</td>\n",
       "      <td>-117721874</td>\n",
       "      <td>1955.0</td>\n",
       "      <td>2.0</td>\n",
       "      <td>3</td>\n",
       "      <td>1274.0</td>\n",
       "      <td>5611.0</td>\n",
       "      <td>6885.0</td>\n",
       "      <td>88053.0</td>\n",
       "      <td>109929.0</td>\n",
       "      <td>197982.0</td>\n",
       "      <td>0.012802</td>\n",
       "      <td>0.012496</td>\n",
       "      <td>4</td>\n",
       "      <td>5</td>\n",
       "      <td>1</td>\n",
       "      <td>3</td>\n",
       "      <td>0.019927</td>\n",
       "    </tr>\n",
       "    <tr>\n",
       "      <th>11615</th>\n",
       "      <td>6037</td>\n",
       "      <td>34003315</td>\n",
       "      <td>-117949854</td>\n",
       "      <td>1958.0</td>\n",
       "      <td>2.0</td>\n",
       "      <td>4</td>\n",
       "      <td>1136.0</td>\n",
       "      <td>4806.0</td>\n",
       "      <td>5942.0</td>\n",
       "      <td>34292.0</td>\n",
       "      <td>15407.0</td>\n",
       "      <td>49699.0</td>\n",
       "      <td>0.017936</td>\n",
       "      <td>0.001586</td>\n",
       "      <td>2</td>\n",
       "      <td>5</td>\n",
       "      <td>1</td>\n",
       "      <td>3</td>\n",
       "      <td>0.020925</td>\n",
       "    </tr>\n",
       "  </tbody>\n",
       "</table>\n",
       "</div>"
      ],
      "text/plain": [
       "       countyid  latitude  longitude  yearbuilt  bathroomcnt  bedroomcnt  \\\n",
       "28235      6037  33960836 -118413033     1949.0          2.0           3   \n",
       "22023      6037  33895532 -118011549     1955.0          2.0           3   \n",
       "56314      6037  33844205 -118119583     1950.0          1.0           3   \n",
       "29544      6037  34071220 -117721874     1955.0          2.0           3   \n",
       "11615      6037  34003315 -117949854     1958.0          2.0           4   \n",
       "\n",
       "       house_area  land_area  whole_area  house_value  land_value  \\\n",
       "28235      1895.0     7198.0      9093.0      85181.0     84978.0   \n",
       "22023      1294.0     4670.0      5964.0      84270.0    230957.0   \n",
       "56314      1092.0     3908.0      5000.0      81388.0    140326.0   \n",
       "29544      1274.0     5611.0      6885.0      88053.0    109929.0   \n",
       "11615      1136.0     4806.0      5942.0      34292.0     15407.0   \n",
       "\n",
       "       whole_value   taxrate  logerror  month  cluster_home  cluster_loc  \\\n",
       "28235     170159.0  0.013674 -0.059434      4             5            5   \n",
       "22023     315227.0  0.013173  0.266040      3             5            6   \n",
       "56314     221714.0  0.013059  0.109513      7             5            6   \n",
       "29544     197982.0  0.012802  0.012496      4             5            1   \n",
       "11615      49699.0  0.017936  0.001586      2             5            1   \n",
       "\n",
       "       cluster_val        lm  \n",
       "28235            2  0.016581  \n",
       "22023            3  0.011357  \n",
       "56314            3  0.008610  \n",
       "29544            3  0.019927  \n",
       "11615            3  0.020925  "
      ]
     },
     "execution_count": 74,
     "metadata": {},
     "output_type": "execute_result"
    }
   ],
   "source": [
    "train.head()"
   ]
  },
  {
   "cell_type": "code",
   "execution_count": 75,
   "metadata": {},
   "outputs": [],
   "source": [
    "median_abs_error, r2 = model.evaluate(train.logerror,train.lm)"
   ]
  },
  {
   "cell_type": "code",
   "execution_count": 76,
   "metadata": {},
   "outputs": [
    {
     "name": "stdout",
     "output_type": "stream",
     "text": [
      "0.034825395650575436\n",
      "0.004281168400618762\n"
     ]
    }
   ],
   "source": [
    "print(median_abs_error)\n",
    "print(r2)"
   ]
  },
  {
   "cell_type": "code",
   "execution_count": null,
   "metadata": {},
   "outputs": [],
   "source": []
  }
 ],
 "metadata": {
  "kernelspec": {
   "display_name": "Python 3",
   "language": "python",
   "name": "python3"
  },
  "language_info": {
   "codemirror_mode": {
    "name": "ipython",
    "version": 3
   },
   "file_extension": ".py",
   "mimetype": "text/x-python",
   "name": "python",
   "nbconvert_exporter": "python",
   "pygments_lexer": "ipython3",
   "version": "3.7.3"
  }
 },
 "nbformat": 4,
 "nbformat_minor": 2
}
