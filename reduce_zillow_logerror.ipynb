{
 "cells": [
  {
   "cell_type": "markdown",
   "metadata": {},
   "source": [
    "# Using Clustering to Reduce Log Error in Zillow Dataset"
   ]
  },
  {
   "cell_type": "markdown",
   "metadata": {},
   "source": [
    "## Project Plan\n",
    "\n",
    "### Goals\n",
    "\n",
    "### Hypothesis\n",
    "\n",
    "### Components"
   ]
  },
  {
   "cell_type": "code",
   "execution_count": 2,
   "metadata": {},
   "outputs": [],
   "source": [
    "import acquire\n",
    "import prep\n",
    "import split_scale"
   ]
  },
  {
   "cell_type": "markdown",
   "metadata": {},
   "source": [
    "## Acquire and Prep"
   ]
  },
  {
   "cell_type": "markdown",
   "metadata": {},
   "source": [
    "### Pull SQL data and filter data frame"
   ]
  },
  {
   "cell_type": "markdown",
   "metadata": {},
   "source": [
    "Using the `get_sql_zillow` function from the `acquire` module, pull all the columns from the Zillow dataset from SQL following the conditions below:\n",
    " - only include properties that have recorded transactions in 2017\n",
    " - use a left join to merge all tables of descriptions on their associated id property\n",
    " - exclude properties that do not have latitude and longitude values (location is important in our analysis later so we wante to make sure we are including observations with known locations.)"
   ]
  },
  {
   "cell_type": "code",
   "execution_count": 3,
   "metadata": {},
   "outputs": [],
   "source": [
    "# get_sql_zillow code here\n",
    "# df = acquire.get_sql_zillow()"
   ]
  },
  {
   "cell_type": "code",
   "execution_count": 4,
   "metadata": {},
   "outputs": [],
   "source": [
    "import pandas as pd\n",
    "\n",
    "# read sql data from csv to minimize lag\n",
    "df = pd.read_csv(r'/Users/mists/codeup-data-science/zillow-cluster/query_result.csv')\n",
    "# df = pd.read_csv(r'/Users/cris/codeup-data-science/zillow-cluster/query_result.csv')"
   ]
  },
  {
   "cell_type": "markdown",
   "metadata": {},
   "source": [
    "Using the `wrangle_zillow` function, perform initial cleaning of the original dataframe specifically:\n",
    " - Drop redundant ID columns from Left Joins (typeconstructionid, storytypeid, etc.)\n",
    " - Remove duplicates from multiple transactions by maintaining latest transaction date and dropping previous records\n",
    " - Include property land use type \"Single Family Residential\" only, and drop the rest of the observations\n",
    " - Drop properties that have unit counts of 2 (27 rows) and 3 (1 row) to remove ambiguity in the definition of \"single-unit\" or \"single-family\" houses, especially since the total number of these observations are relatively minimal.\n",
    " - Keep transactions that are recorded in 2017 (there was 1 row that has 2018 as transaction year)"
   ]
  },
  {
   "cell_type": "code",
   "execution_count": 5,
   "metadata": {},
   "outputs": [],
   "source": [
    "# wrangle_zillow code here\n",
    "df = acquire.wrangle_zillow(df)"
   ]
  },
  {
   "cell_type": "code",
   "execution_count": 6,
   "metadata": {},
   "outputs": [
    {
     "name": "stdout",
     "output_type": "stream",
     "text": [
      "<class 'pandas.core.frame.DataFrame'>\n",
      "Int64Index: 52292 entries, 77578 to 0\n",
      "Data columns (total 61 columns):\n",
      "parcelid                        52292 non-null int64\n",
      "basementsqft                    47 non-null float64\n",
      "bathroomcnt                     52292 non-null float64\n",
      "bedroomcnt                      52292 non-null int64\n",
      "buildingqualitytypeid           33632 non-null float64\n",
      "calculatedbathnbr               52158 non-null float64\n",
      "decktypeid                      388 non-null float64\n",
      "finishedfloor1squarefeet        4368 non-null float64\n",
      "calculatedfinishedsquarefeet    52211 non-null float64\n",
      "finishedsquarefeet12            52047 non-null float64\n",
      "finishedsquarefeet13            0 non-null float64\n",
      "finishedsquarefeet15            0 non-null float64\n",
      "finishedsquarefeet50            4368 non-null float64\n",
      "finishedsquarefeet6             164 non-null float64\n",
      "fips                            52292 non-null int64\n",
      "fireplacecnt                    7230 non-null float64\n",
      "fullbathcnt                     52158 non-null float64\n",
      "garagecarcnt                    17981 non-null float64\n",
      "garagetotalsqft                 17981 non-null float64\n",
      "hashottuborspa                  1514 non-null float64\n",
      "latitude                        52292 non-null int64\n",
      "longitude                       52292 non-null int64\n",
      "lotsizesquarefeet               51930 non-null float64\n",
      "poolcnt                         11072 non-null float64\n",
      "poolsizesum                     865 non-null float64\n",
      "pooltypeid10                    443 non-null float64\n",
      "pooltypeid2                     1071 non-null float64\n",
      "pooltypeid7                     9985 non-null float64\n",
      "propertycountylandusecode       52292 non-null object\n",
      "propertyzoningdesc              33738 non-null object\n",
      "rawcensustractandblock          52292 non-null float64\n",
      "regionidcity                    51256 non-null float64\n",
      "regionidcounty                  52292 non-null int64\n",
      "regionidneighborhood            18968 non-null float64\n",
      "regionidzip                     52266 non-null float64\n",
      "roomcnt                         52292 non-null int64\n",
      "threequarterbathnbr             6716 non-null float64\n",
      "unitcnt                         33734 non-null float64\n",
      "yardbuildingsqft17              1935 non-null float64\n",
      "yardbuildingsqft26              62 non-null float64\n",
      "yearbuilt                       52178 non-null float64\n",
      "numberofstories                 14528 non-null float64\n",
      "fireplaceflag                   81 non-null float64\n",
      "structuretaxvaluedollarcnt      52213 non-null float64\n",
      "taxvaluedollarcnt               52291 non-null float64\n",
      "assessmentyear                  52292 non-null int64\n",
      "landtaxvaluedollarcnt           52291 non-null float64\n",
      "taxamount                       52288 non-null float64\n",
      "taxdelinquencyflag              2066 non-null object\n",
      "taxdelinquencyyear              2066 non-null float64\n",
      "censustractandblock             52174 non-null float64\n",
      "airconditioningdesc             13610 non-null object\n",
      "architecturalstyledesc          70 non-null object\n",
      "buildingclassdesc               0 non-null object\n",
      "heatingorsystemdesc             33834 non-null object\n",
      "id.1                            52292 non-null int64\n",
      "logerror                        52292 non-null float64\n",
      "transactiondate                 52292 non-null object\n",
      "propertylandusedesc             52292 non-null object\n",
      "storydesc                       47 non-null object\n",
      "typeconstructiondesc            76 non-null object\n",
      "dtypes: float64(41), int64(9), object(11)\n",
      "memory usage: 24.7+ MB\n"
     ]
    }
   ],
   "source": [
    "df.info()"
   ]
  },
  {
   "cell_type": "markdown",
   "metadata": {},
   "source": [
    "### Handling missing values\n",
    "\n",
    "**Drop Unsalvagable Columns and Rows**"
   ]
  },
  {
   "cell_type": "markdown",
   "metadata": {},
   "source": [
    "`handle_missing_values` function from the `prep` module drops columns that are 90% empty, reducing our columns from 60 to 27. Then, remove observations that are 40% empty. The latter removed no observations.  \n",
    "  \n",
    "In this stage, our working data has 52292 rows with 27 columns."
   ]
  },
  {
   "cell_type": "code",
   "execution_count": 7,
   "metadata": {},
   "outputs": [],
   "source": [
    "df = prep.handle_missing_values(df,.90,.40)"
   ]
  },
  {
   "cell_type": "code",
   "execution_count": 8,
   "metadata": {},
   "outputs": [
    {
     "name": "stdout",
     "output_type": "stream",
     "text": [
      "<class 'pandas.core.frame.DataFrame'>\n",
      "Int64Index: 52292 entries, 77578 to 0\n",
      "Data columns (total 28 columns):\n",
      "parcelid                        52292 non-null int64\n",
      "bathroomcnt                     52292 non-null float64\n",
      "bedroomcnt                      52292 non-null int64\n",
      "calculatedbathnbr               52158 non-null float64\n",
      "calculatedfinishedsquarefeet    52211 non-null float64\n",
      "finishedsquarefeet12            52047 non-null float64\n",
      "fips                            52292 non-null int64\n",
      "fullbathcnt                     52158 non-null float64\n",
      "latitude                        52292 non-null int64\n",
      "longitude                       52292 non-null int64\n",
      "lotsizesquarefeet               51930 non-null float64\n",
      "propertycountylandusecode       52292 non-null object\n",
      "rawcensustractandblock          52292 non-null float64\n",
      "regionidcity                    51256 non-null float64\n",
      "regionidcounty                  52292 non-null int64\n",
      "regionidzip                     52266 non-null float64\n",
      "roomcnt                         52292 non-null int64\n",
      "yearbuilt                       52178 non-null float64\n",
      "structuretaxvaluedollarcnt      52213 non-null float64\n",
      "taxvaluedollarcnt               52291 non-null float64\n",
      "assessmentyear                  52292 non-null int64\n",
      "landtaxvaluedollarcnt           52291 non-null float64\n",
      "taxamount                       52288 non-null float64\n",
      "censustractandblock             52174 non-null float64\n",
      "id.1                            52292 non-null int64\n",
      "logerror                        52292 non-null float64\n",
      "transactiondate                 52292 non-null object\n",
      "propertylandusedesc             52292 non-null object\n",
      "dtypes: float64(16), int64(9), object(3)\n",
      "memory usage: 11.6+ MB\n"
     ]
    }
   ],
   "source": [
    "df.info()"
   ]
  },
  {
   "cell_type": "markdown",
   "metadata": {},
   "source": [
    "**Drop Non-value-adding Columns**"
   ]
  },
  {
   "cell_type": "markdown",
   "metadata": {},
   "source": [
    "*dropping parcelid*"
   ]
  },
  {
   "cell_type": "markdown",
   "metadata": {},
   "source": [
    "`bathroomcnt` reflects the same information as the `calculatedbathnbr`, which is the number of bathrooms in a property including half bathrooms (.5's). The\t`fullbathcnt` column only includes full bathrooms and discounts half baths. So, we are discarding redundant `calculatedbathnbr` and `fullbathcnt` and keep `bathroomcnt` to provide information on the properties' bathrooms."
   ]
  },
  {
   "cell_type": "markdown",
   "metadata": {},
   "source": [
    "`calculatedfinishedsquarefeet` and `finishedsquarefeet12` hold practically the same information. `calculatedfinishedsquarefeet` has less nulls (81 rows) than `finishedsquarefeet12` (245 rows), so we are dropping the `finishedsquarefeet12`."
   ]
  },
  {
   "cell_type": "markdown",
   "metadata": {},
   "source": [
    "`propertycountylandusecode` are codes used in the industry to specify the land use. For example, a Single Family Residential property land use type may be Single Family Class II (0102), Vacant Residential (0000), Vacant Lake View (0035), etc. We don't need these further information. All we need to know is that the properties that we are looking at are under the umbrella of \"Single Family Residential.\""
   ]
  },
  {
   "cell_type": "markdown",
   "metadata": {},
   "source": [
    "`rawcensustractandblock` and `censustractandblock` contain census information that we are not concerned about in this project."
   ]
  },
  {
   "cell_type": "markdown",
   "metadata": {},
   "source": [
    "`roomcnt` has 37,588 properties with 0 rooms, so we are dropping this column."
   ]
  },
  {
   "cell_type": "markdown",
   "metadata": {},
   "source": [
    "`fips` and `regionidcounty` have cotain the same information. We will keep the `fips` column."
   ]
  },
  {
   "cell_type": "markdown",
   "metadata": {},
   "source": [
    "`regionidzip` and `regionidcity` are location-based columns which do not give much added information on the properties' location given that we have `latitude` and `longitude`. These columns are dropped."
   ]
  },
  {
   "cell_type": "markdown",
   "metadata": {},
   "source": [
    "All wrangled observation have \"2016\" as values in the `assessmentyear` which is not adding value to the analysis."
   ]
  },
  {
   "cell_type": "markdown",
   "metadata": {},
   "source": [
    "`propertylandusedesc` is dropped because it only displays \"Single Family Residential\" which was helpful in the filtering phase but not useful in the analysis."
   ]
  },
  {
   "cell_type": "code",
   "execution_count": 9,
   "metadata": {},
   "outputs": [],
   "source": [
    "df = prep.clean_columns(df)"
   ]
  },
  {
   "cell_type": "code",
   "execution_count": 10,
   "metadata": {},
   "outputs": [
    {
     "name": "stdout",
     "output_type": "stream",
     "text": [
      "<class 'pandas.core.frame.DataFrame'>\n",
      "Int64Index: 52292 entries, 77578 to 0\n",
      "Data columns (total 15 columns):\n",
      "bathroomcnt                     52292 non-null float64\n",
      "bedroomcnt                      52292 non-null int64\n",
      "calculatedfinishedsquarefeet    52211 non-null float64\n",
      "fips                            52292 non-null int64\n",
      "latitude                        52292 non-null int64\n",
      "longitude                       52292 non-null int64\n",
      "lotsizesquarefeet               51930 non-null float64\n",
      "yearbuilt                       52178 non-null float64\n",
      "structuretaxvaluedollarcnt      52213 non-null float64\n",
      "taxvaluedollarcnt               52291 non-null float64\n",
      "landtaxvaluedollarcnt           52291 non-null float64\n",
      "taxamount                       52288 non-null float64\n",
      "id.1                            52292 non-null int64\n",
      "logerror                        52292 non-null float64\n",
      "transactiondate                 52292 non-null object\n",
      "dtypes: float64(9), int64(5), object(1)\n",
      "memory usage: 6.4+ MB\n"
     ]
    }
   ],
   "source": [
    "df.info()"
   ]
  },
  {
   "cell_type": "markdown",
   "metadata": {},
   "source": [
    "**Handle Nulls for Relevant Columns**"
   ]
  },
  {
   "cell_type": "code",
   "execution_count": 11,
   "metadata": {},
   "outputs": [
    {
     "data": {
      "text/plain": [
       "bathroomcnt                       0\n",
       "bedroomcnt                        0\n",
       "calculatedfinishedsquarefeet     81\n",
       "fips                              0\n",
       "latitude                          0\n",
       "longitude                         0\n",
       "lotsizesquarefeet               362\n",
       "yearbuilt                       114\n",
       "structuretaxvaluedollarcnt       79\n",
       "taxvaluedollarcnt                 1\n",
       "landtaxvaluedollarcnt             1\n",
       "taxamount                         4\n",
       "id.1                              0\n",
       "logerror                          0\n",
       "transactiondate                   0\n",
       "dtype: int64"
      ]
     },
     "execution_count": 11,
     "metadata": {},
     "output_type": "execute_result"
    }
   ],
   "source": [
    "# show null values\n",
    "df.isnull().sum()"
   ]
  },
  {
   "cell_type": "markdown",
   "metadata": {},
   "source": [
    "_Calculated Finished Square Feet, Structure Tax Value Dollar Count_ -  Observations that have missing values in either `calculatedfinishedsquarefeet` (71 rows) or  `structuretaxvaluedollarcnt` (69 rows), both (10 rows) are dropped, removing a total of 150 observations."
   ]
  },
  {
   "cell_type": "markdown",
   "metadata": {},
   "source": [
    "_Tax Value Dollar Count, Land Tax Value Dollar Count_ - There are a handful of observations with missing values in the columns `taxvaluedollarcnt` (1 row), `landtaxvaluedollarcnt` (1 row), `taxamount` (4 rows)."
   ]
  },
  {
   "cell_type": "markdown",
   "metadata": {},
   "source": [
    "_Year Built_ - After all the above removals, `yearbuilt` have a total of 38 missing values which are dropped because of the manageable size."
   ]
  },
  {
   "cell_type": "code",
   "execution_count": 12,
   "metadata": {},
   "outputs": [],
   "source": [
    "df = prep.drop_minimal_nulls(df)"
   ]
  },
  {
   "cell_type": "code",
   "execution_count": 13,
   "metadata": {},
   "outputs": [
    {
     "name": "stdout",
     "output_type": "stream",
     "text": [
      "<class 'pandas.core.frame.DataFrame'>\n",
      "Int64Index: 52101 entries, 77578 to 0\n",
      "Data columns (total 15 columns):\n",
      "bathroomcnt                     52101 non-null float64\n",
      "bedroomcnt                      52101 non-null int64\n",
      "calculatedfinishedsquarefeet    52101 non-null float64\n",
      "fips                            52101 non-null int64\n",
      "latitude                        52101 non-null int64\n",
      "longitude                       52101 non-null int64\n",
      "lotsizesquarefeet               51761 non-null float64\n",
      "yearbuilt                       52101 non-null float64\n",
      "structuretaxvaluedollarcnt      52101 non-null float64\n",
      "taxvaluedollarcnt               52101 non-null float64\n",
      "landtaxvaluedollarcnt           52101 non-null float64\n",
      "taxamount                       52101 non-null float64\n",
      "id.1                            52101 non-null int64\n",
      "logerror                        52101 non-null float64\n",
      "transactiondate                 52101 non-null object\n",
      "dtypes: float64(9), int64(5), object(1)\n",
      "memory usage: 6.4+ MB\n"
     ]
    }
   ],
   "source": [
    "df.info()"
   ]
  },
  {
   "cell_type": "markdown",
   "metadata": {},
   "source": [
    "Renamed and reordered columns"
   ]
  },
  {
   "cell_type": "code",
   "execution_count": 14,
   "metadata": {},
   "outputs": [],
   "source": [
    "df = prep.pretty_cols(df)"
   ]
  },
  {
   "cell_type": "code",
   "execution_count": 15,
   "metadata": {},
   "outputs": [
    {
     "name": "stdout",
     "output_type": "stream",
     "text": [
      "<class 'pandas.core.frame.DataFrame'>\n",
      "Int64Index: 52101 entries, 77578 to 0\n",
      "Data columns (total 14 columns):\n",
      "countyid           52101 non-null int64\n",
      "latitude           52101 non-null int64\n",
      "longitude          52101 non-null int64\n",
      "yearbuilt          52101 non-null float64\n",
      "bathroomcnt        52101 non-null float64\n",
      "bedroomcnt         52101 non-null int64\n",
      "house_area         52101 non-null float64\n",
      "house_value        52101 non-null float64\n",
      "land_value         52101 non-null float64\n",
      "whole_area         51761 non-null float64\n",
      "whole_value        52101 non-null float64\n",
      "taxamount          52101 non-null float64\n",
      "logerror           52101 non-null float64\n",
      "transactiondate    52101 non-null object\n",
      "dtypes: float64(9), int64(4), object(1)\n",
      "memory usage: 6.0+ MB\n"
     ]
    }
   ],
   "source": [
    "df.info()"
   ]
  },
  {
   "cell_type": "markdown",
   "metadata": {},
   "source": [
    "### Derived Features"
   ]
  },
  {
   "cell_type": "code",
   "execution_count": 16,
   "metadata": {},
   "outputs": [],
   "source": [
    "df = prep.cal_taxrate(df)"
   ]
  },
  {
   "cell_type": "code",
   "execution_count": 17,
   "metadata": {},
   "outputs": [
    {
     "name": "stdout",
     "output_type": "stream",
     "text": [
      "<class 'pandas.core.frame.DataFrame'>\n",
      "Int64Index: 52101 entries, 77578 to 0\n",
      "Data columns (total 14 columns):\n",
      "countyid           52101 non-null int64\n",
      "latitude           52101 non-null int64\n",
      "longitude          52101 non-null int64\n",
      "yearbuilt          52101 non-null float64\n",
      "bathroomcnt        52101 non-null float64\n",
      "bedroomcnt         52101 non-null int64\n",
      "house_area         52101 non-null float64\n",
      "house_value        52101 non-null float64\n",
      "land_value         52101 non-null float64\n",
      "whole_area         51761 non-null float64\n",
      "whole_value        52101 non-null float64\n",
      "logerror           52101 non-null float64\n",
      "transactiondate    52101 non-null object\n",
      "taxrate            52101 non-null float64\n",
      "dtypes: float64(9), int64(4), object(1)\n",
      "memory usage: 6.0+ MB\n"
     ]
    }
   ],
   "source": [
    "df.info()"
   ]
  },
  {
   "cell_type": "code",
   "execution_count": 18,
   "metadata": {},
   "outputs": [],
   "source": [
    "# df.transactiondate = pd.to_datetime(df.transactiondate)\n",
    "df.countyid = df.countyid.astype(\"category\")"
   ]
  },
  {
   "cell_type": "code",
   "execution_count": 19,
   "metadata": {},
   "outputs": [
    {
     "name": "stdout",
     "output_type": "stream",
     "text": [
      "<class 'pandas.core.frame.DataFrame'>\n",
      "Int64Index: 52101 entries, 77578 to 0\n",
      "Data columns (total 14 columns):\n",
      "countyid           52101 non-null category\n",
      "latitude           52101 non-null int64\n",
      "longitude          52101 non-null int64\n",
      "yearbuilt          52101 non-null float64\n",
      "bathroomcnt        52101 non-null float64\n",
      "bedroomcnt         52101 non-null int64\n",
      "house_area         52101 non-null float64\n",
      "house_value        52101 non-null float64\n",
      "land_value         52101 non-null float64\n",
      "whole_area         51761 non-null float64\n",
      "whole_value        52101 non-null float64\n",
      "logerror           52101 non-null float64\n",
      "transactiondate    52101 non-null datetime64[ns]\n",
      "taxrate            52101 non-null float64\n",
      "dtypes: category(1), datetime64[ns](1), float64(9), int64(3)\n",
      "memory usage: 5.6 MB\n"
     ]
    }
   ],
   "source": [
    "df.info()"
   ]
  },
  {
   "cell_type": "markdown",
   "metadata": {},
   "source": [
    "## Split"
   ]
  },
  {
   "cell_type": "code",
   "execution_count": 20,
   "metadata": {},
   "outputs": [],
   "source": [
    "train, test = split_scale.split_my_data(df, .80)"
   ]
  },
  {
   "cell_type": "code",
   "execution_count": 21,
   "metadata": {},
   "outputs": [
    {
     "name": "stdout",
     "output_type": "stream",
     "text": [
      "<class 'pandas.core.frame.DataFrame'>\n",
      "Int64Index: 41680 entries, 28235 to 54472\n",
      "Data columns (total 14 columns):\n",
      "countyid           41680 non-null category\n",
      "latitude           41680 non-null int64\n",
      "longitude          41680 non-null int64\n",
      "yearbuilt          41680 non-null float64\n",
      "bathroomcnt        41680 non-null float64\n",
      "bedroomcnt         41680 non-null int64\n",
      "house_area         41680 non-null float64\n",
      "house_value        41680 non-null float64\n",
      "land_value         41680 non-null float64\n",
      "whole_area         41405 non-null float64\n",
      "whole_value        41680 non-null float64\n",
      "logerror           41680 non-null float64\n",
      "transactiondate    41680 non-null datetime64[ns]\n",
      "taxrate            41680 non-null float64\n",
      "dtypes: category(1), datetime64[ns](1), float64(9), int64(3)\n",
      "memory usage: 4.5 MB\n"
     ]
    }
   ],
   "source": [
    "train.info()"
   ]
  },
  {
   "cell_type": "code",
   "execution_count": 22,
   "metadata": {},
   "outputs": [
    {
     "name": "stdout",
     "output_type": "stream",
     "text": [
      "<class 'pandas.core.frame.DataFrame'>\n",
      "Int64Index: 10421 entries, 37917 to 44340\n",
      "Data columns (total 14 columns):\n",
      "countyid           10421 non-null category\n",
      "latitude           10421 non-null int64\n",
      "longitude          10421 non-null int64\n",
      "yearbuilt          10421 non-null float64\n",
      "bathroomcnt        10421 non-null float64\n",
      "bedroomcnt         10421 non-null int64\n",
      "house_area         10421 non-null float64\n",
      "house_value        10421 non-null float64\n",
      "land_value         10421 non-null float64\n",
      "whole_area         10356 non-null float64\n",
      "whole_value        10421 non-null float64\n",
      "logerror           10421 non-null float64\n",
      "transactiondate    10421 non-null datetime64[ns]\n",
      "taxrate            10421 non-null float64\n",
      "dtypes: category(1), datetime64[ns](1), float64(9), int64(3)\n",
      "memory usage: 1.1 MB\n"
     ]
    }
   ],
   "source": [
    "test.info()"
   ]
  },
  {
   "cell_type": "markdown",
   "metadata": {},
   "source": [
    "### Must split into train and test first"
   ]
  },
  {
   "cell_type": "markdown",
   "metadata": {},
   "source": [
    "_Lot Size Sqft_ - The process for imputing `lotsizesquarefeet` is the least straightforward in terms of handling missing values. Lot size sqft is the sum of the area of the land without structure (land or dirt) and the finished space (structure or house). The column has 340 missing values.\n",
    "\n",
    "Below is the process for filling the missing values on `lotsizesquarefeet`:\n",
    "\n",
    "1. Derive the total tax dollar value of the lot by adding the tax value of the land and the tax value of the structure\n",
    "\n",
    "  $ value_{lot} = value_{land} + value_{structure} $\n",
    "  \n",
    "  \n",
    "2. Get the proportion of the lot area and the lot tax value\n",
    "\n",
    "  $ proportion = \\frac {area_{lot}}{value_{lot}} $\n",
    "  \n",
    "\n",
    "3. There were unrealistic proportions that seem to come from properties that have a big lot area but low tax value. At 75 percentile, we see a proportion of 0.041 and a mean of 0.048. Because of this, we are confident to take the mean of all proportions less than 1 (proportion < 1). The mean will inform us a generalized value for the lot square footage, i.e., $area_{lot}$, given the total lot value, i.e., $value_{lot}$.\n",
    "\n",
    "  \n",
    "4. Impute the nulls in the `lotsizesquarefeet` aka $value_{lot}$ using the derived formula:\n",
    "\n",
    "  $ area_{lot} = value_{lot} * \\mu_{proportion} $\n",
    "\n",
    " "
   ]
  },
  {
   "cell_type": "code",
   "execution_count": 23,
   "metadata": {},
   "outputs": [],
   "source": [
    "train, test = prep.impute_lotsize_nulls(train, test)"
   ]
  },
  {
   "cell_type": "code",
   "execution_count": 24,
   "metadata": {},
   "outputs": [
    {
     "data": {
      "text/plain": [
       "countyid           0\n",
       "latitude           0\n",
       "longitude          0\n",
       "yearbuilt          0\n",
       "bathroomcnt        0\n",
       "bedroomcnt         0\n",
       "house_area         0\n",
       "house_value        0\n",
       "land_value         0\n",
       "whole_area         0\n",
       "whole_value        0\n",
       "logerror           0\n",
       "transactiondate    0\n",
       "taxrate            0\n",
       "dtype: int64"
      ]
     },
     "execution_count": 24,
     "metadata": {},
     "output_type": "execute_result"
    }
   ],
   "source": [
    "train.isnull().sum()"
   ]
  },
  {
   "cell_type": "code",
   "execution_count": 25,
   "metadata": {},
   "outputs": [
    {
     "data": {
      "text/plain": [
       "countyid           0\n",
       "latitude           0\n",
       "longitude          0\n",
       "yearbuilt          0\n",
       "bathroomcnt        0\n",
       "bedroomcnt         0\n",
       "house_area         0\n",
       "house_value        0\n",
       "land_value         0\n",
       "whole_area         0\n",
       "whole_value        0\n",
       "logerror           0\n",
       "transactiondate    0\n",
       "taxrate            0\n",
       "dtype: int64"
      ]
     },
     "execution_count": 25,
     "metadata": {},
     "output_type": "execute_result"
    }
   ],
   "source": [
    "test.isnull().sum()"
   ]
  },
  {
   "cell_type": "markdown",
   "metadata": {},
   "source": [
    "Created a land area column from lot size and calculated house size"
   ]
  },
  {
   "cell_type": "code",
   "execution_count": 26,
   "metadata": {},
   "outputs": [],
   "source": [
    "train = prep.cal_land_area(train)\n",
    "test = prep.cal_land_area(test)"
   ]
  },
  {
   "cell_type": "code",
   "execution_count": 27,
   "metadata": {},
   "outputs": [
    {
     "name": "stdout",
     "output_type": "stream",
     "text": [
      "<class 'pandas.core.frame.DataFrame'>\n",
      "Int64Index: 41680 entries, 28235 to 54472\n",
      "Data columns (total 15 columns):\n",
      "countyid           41680 non-null category\n",
      "latitude           41680 non-null int64\n",
      "longitude          41680 non-null int64\n",
      "yearbuilt          41680 non-null float64\n",
      "bathroomcnt        41680 non-null float64\n",
      "bedroomcnt         41680 non-null int64\n",
      "house_area         41680 non-null float64\n",
      "house_value        41680 non-null float64\n",
      "land_value         41680 non-null float64\n",
      "whole_area         41680 non-null float64\n",
      "whole_value        41680 non-null float64\n",
      "logerror           41680 non-null float64\n",
      "transactiondate    41680 non-null datetime64[ns]\n",
      "taxrate            41680 non-null float64\n",
      "land_area          41680 non-null float64\n",
      "dtypes: category(1), datetime64[ns](1), float64(10), int64(3)\n",
      "memory usage: 6.1 MB\n"
     ]
    }
   ],
   "source": [
    "train.info()"
   ]
  },
  {
   "cell_type": "code",
   "execution_count": null,
   "metadata": {},
   "outputs": [],
   "source": []
  }
 ],
 "metadata": {
  "kernelspec": {
   "display_name": "Python 3",
   "language": "python",
   "name": "python3"
  },
  "language_info": {
   "codemirror_mode": {
    "name": "ipython",
    "version": 3
   },
   "file_extension": ".py",
   "mimetype": "text/x-python",
   "name": "python",
   "nbconvert_exporter": "python",
   "pygments_lexer": "ipython3",
   "version": "3.7.3"
  }
 },
 "nbformat": 4,
 "nbformat_minor": 2
}
