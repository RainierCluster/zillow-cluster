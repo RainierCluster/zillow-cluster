{
 "cells": [
  {
   "cell_type": "markdown",
   "metadata": {},
   "source": [
    "# Using Clustering to Reduce Log Error in Zillow Dataset"
   ]
  },
  {
   "cell_type": "markdown",
   "metadata": {},
   "source": [
    "## Project Plan\n",
    "\n",
    "### Goals\n",
    "- Use clustering methodologies\n",
    "- Identify what is driving the difference in zestimate to sales price \"logerror\"\n",
    "- Build a model to predict your target \"logerror\"\n",
    "\n",
    "### Hypothesis\n",
    "- Noteable clusters will be found based on location\n",
    "- A model containing the clusters will better predict logerror than a baseline model of the average logerror\n",
    "\n",
    "### Components\n",
    "- Clusters\n",
    "- Teach others\n",
    "- Use statistical tests\n",
    "- Visualize to explore\n",
    "- Scale\n",
    "- Impute\n",
    "- Feature engineering\n",
    "- Code resuseability/modularity\n",
    "- Stages of pipeline"
   ]
  },
  {
   "cell_type": "markdown",
   "metadata": {},
   "source": [
    "### Data Dictionary"
   ]
  },
  {
   "cell_type": "markdown",
   "metadata": {},
   "source": [
    "| variable | contents |\n",
    "|---|---|\n",
    "| home_cluster  | this contains clusters created around house_area, land_area, & yearbuilt  |\n",
    "| house_area  | this is the square footage of the structure  |\n",
    "| land_area  | this is the square footage of the land (not including structure)  |\n",
    "| yearbuilt | this is the year the structure was built  |\n",
    "| location_cluster | this contains clusters created around latitude, longitude, & taxrate  |\n",
    "| latititude  | this is the latitude value of the structure  |\n",
    "| longitude  | this is the longitude value of the structure  |\n",
    "| taxrate | this is the tax value of the whole thing (structure + land) divided by tax amount of the whole thing  |\n",
    "| house_value  | this is the dollar value of the structure  |\n",
    "| land_value  | this is the dollar value of the land (not including the structure)  |\n"
   ]
  },
  {
   "cell_type": "code",
   "execution_count": 1,
   "metadata": {},
   "outputs": [],
   "source": [
    "import acquire\n",
    "import prep\n",
    "import split_scale\n",
    "import explore\n",
    "import model\n",
    "\n",
    "from scipy import stats\n",
    "\n",
    "import pandas as pd\n",
    "import numpy as np\n",
    "import matplotlib.pyplot as plt\n",
    "import seaborn as sns"
   ]
  },
  {
   "cell_type": "markdown",
   "metadata": {},
   "source": [
    "## Acquire"
   ]
  },
  {
   "cell_type": "markdown",
   "metadata": {},
   "source": [
    "### Pull SQL data and filter data frame"
   ]
  },
  {
   "cell_type": "markdown",
   "metadata": {},
   "source": [
    "Using the `get_sql_zillow` function from the `acquire` module, pull all the columns from the Zillow dataset from SQL following the conditions below:\n",
    " - only include properties that have recorded transactions in 2017\n",
    " - use a left join to merge all tables of descriptions on their associated id property\n",
    " - exclude properties that do not have latitude and longitude values (location is important in our analysis later so we wante to make sure we are including observations with known locations.)"
   ]
  },
  {
   "cell_type": "markdown",
   "metadata": {},
   "source": [
    "> Due to long run times when connecting with the SQL server, we exported a CSV out of the SQL query with identical conditions as above."
   ]
  },
  {
   "cell_type": "code",
   "execution_count": 2,
   "metadata": {},
   "outputs": [],
   "source": [
    "# uncomment to read from appropriate local source.\n",
    "# df = pd.read_csv(r'/Users/mists/codeup-data-science/zillow-cluster/query_result.csv')\n",
    "df = pd.read_csv(r'/Users/cris/codeup-data-science/zillow-cluster/query_result.csv')"
   ]
  },
  {
   "cell_type": "markdown",
   "metadata": {},
   "source": [
    "Using the `wrangle_zillow` function, perform initial cleaning of the original dataframe specifically:\n",
    " - Drop redundant ID columns from Left Joins (typeconstructionid, storytypeid, etc.)\n",
    " - Remove duplicates from multiple transactions by maintaining latest transaction date and dropping previous records\n",
    " - Include property land use type \"Single Family Residential\" only, and drop the rest of the observations\n",
    " - Drop properties that have unit counts of 2 (27 rows) and 3 (1 row) to remove ambiguity in the definition of \"single-unit\" or \"single-family\" houses, especially since the total number of these observations are relatively minimal.\n",
    " - Keep transactions that are recorded in 2017 (there was 1 row that has 2018 as transaction year)"
   ]
  },
  {
   "cell_type": "code",
   "execution_count": 3,
   "metadata": {},
   "outputs": [],
   "source": [
    "df = acquire.wrangle_zillow(df)"
   ]
  },
  {
   "cell_type": "code",
   "execution_count": 4,
   "metadata": {},
   "outputs": [
    {
     "name": "stdout",
     "output_type": "stream",
     "text": [
      "<class 'pandas.core.frame.DataFrame'>\n",
      "Int64Index: 52292 entries, 77578 to 0\n",
      "Data columns (total 61 columns):\n",
      "parcelid                        52292 non-null int64\n",
      "basementsqft                    47 non-null float64\n",
      "bathroomcnt                     52292 non-null float64\n",
      "bedroomcnt                      52292 non-null int64\n",
      "buildingqualitytypeid           33632 non-null float64\n",
      "calculatedbathnbr               52158 non-null float64\n",
      "decktypeid                      388 non-null float64\n",
      "finishedfloor1squarefeet        4368 non-null float64\n",
      "calculatedfinishedsquarefeet    52211 non-null float64\n",
      "finishedsquarefeet12            52047 non-null float64\n",
      "finishedsquarefeet13            0 non-null float64\n",
      "finishedsquarefeet15            0 non-null float64\n",
      "finishedsquarefeet50            4368 non-null float64\n",
      "finishedsquarefeet6             164 non-null float64\n",
      "fips                            52292 non-null int64\n",
      "fireplacecnt                    7230 non-null float64\n",
      "fullbathcnt                     52158 non-null float64\n",
      "garagecarcnt                    17981 non-null float64\n",
      "garagetotalsqft                 17981 non-null float64\n",
      "hashottuborspa                  1514 non-null float64\n",
      "latitude                        52292 non-null int64\n",
      "longitude                       52292 non-null int64\n",
      "lotsizesquarefeet               51930 non-null float64\n",
      "poolcnt                         11072 non-null float64\n",
      "poolsizesum                     865 non-null float64\n",
      "pooltypeid10                    443 non-null float64\n",
      "pooltypeid2                     1071 non-null float64\n",
      "pooltypeid7                     9985 non-null float64\n",
      "propertycountylandusecode       52292 non-null object\n",
      "propertyzoningdesc              33738 non-null object\n",
      "rawcensustractandblock          52292 non-null float64\n",
      "regionidcity                    51256 non-null float64\n",
      "regionidcounty                  52292 non-null int64\n",
      "regionidneighborhood            18968 non-null float64\n",
      "regionidzip                     52266 non-null float64\n",
      "roomcnt                         52292 non-null int64\n",
      "threequarterbathnbr             6716 non-null float64\n",
      "unitcnt                         33734 non-null float64\n",
      "yardbuildingsqft17              1935 non-null float64\n",
      "yardbuildingsqft26              62 non-null float64\n",
      "yearbuilt                       52178 non-null float64\n",
      "numberofstories                 14528 non-null float64\n",
      "fireplaceflag                   81 non-null float64\n",
      "structuretaxvaluedollarcnt      52213 non-null float64\n",
      "taxvaluedollarcnt               52291 non-null float64\n",
      "assessmentyear                  52292 non-null int64\n",
      "landtaxvaluedollarcnt           52291 non-null float64\n",
      "taxamount                       52288 non-null float64\n",
      "taxdelinquencyflag              2066 non-null object\n",
      "taxdelinquencyyear              2066 non-null float64\n",
      "censustractandblock             52174 non-null float64\n",
      "airconditioningdesc             13610 non-null object\n",
      "architecturalstyledesc          70 non-null object\n",
      "buildingclassdesc               0 non-null object\n",
      "heatingorsystemdesc             33834 non-null object\n",
      "id.1                            52292 non-null int64\n",
      "logerror                        52292 non-null float64\n",
      "transactiondate                 52292 non-null object\n",
      "propertylandusedesc             52292 non-null object\n",
      "storydesc                       47 non-null object\n",
      "typeconstructiondesc            76 non-null object\n",
      "dtypes: float64(41), int64(9), object(11)\n",
      "memory usage: 24.7+ MB\n"
     ]
    }
   ],
   "source": [
    "df.info() #we can see that our current data set is messy with plenty of nulls and some empty columns!"
   ]
  },
  {
   "cell_type": "markdown",
   "metadata": {},
   "source": [
    "## Preprocess"
   ]
  },
  {
   "cell_type": "markdown",
   "metadata": {},
   "source": [
    "### A. Handle missing values"
   ]
  },
  {
   "cell_type": "markdown",
   "metadata": {},
   "source": [
    "**Drop Unsalvagable Columns and Rows**"
   ]
  },
  {
   "cell_type": "markdown",
   "metadata": {},
   "source": [
    "`handle_missing_values` function from the `prep` module drops columns that are 90% empty, reducing our columns from 60 to 27. Then, remove observations that are 40% empty. The latter removed no observations.  \n",
    "  \n",
    "In this stage, our working data has 52292 rows with 27 columns."
   ]
  },
  {
   "cell_type": "code",
   "execution_count": 5,
   "metadata": {},
   "outputs": [],
   "source": [
    "df = prep.handle_missing_values(df,.90,.40)"
   ]
  },
  {
   "cell_type": "markdown",
   "metadata": {},
   "source": [
    "**Drop Non-value-adding Columns**"
   ]
  },
  {
   "cell_type": "markdown",
   "metadata": {},
   "source": [
    "Throughout the process, we will be using the index to identify each oservation, therefore we are dropping the `parcelid`."
   ]
  },
  {
   "cell_type": "markdown",
   "metadata": {},
   "source": [
    "`bathroomcnt` reflects the same information as the `calculatedbathnbr`, which is the number of bathrooms in a property including half bathrooms (.5's). The\t`fullbathcnt` column only includes full bathrooms and discounts half baths. So, we are discarding redundant `calculatedbathnbr` and `fullbathcnt` and keep `bathroomcnt` to provide information on the properties' bathrooms."
   ]
  },
  {
   "cell_type": "markdown",
   "metadata": {},
   "source": [
    "`calculatedfinishedsquarefeet` and `finishedsquarefeet12` hold practically the same information. `calculatedfinishedsquarefeet` has less nulls (81 rows) than `finishedsquarefeet12` (245 rows), so we are dropping the `finishedsquarefeet12`."
   ]
  },
  {
   "cell_type": "markdown",
   "metadata": {},
   "source": [
    "`propertycountylandusecode` are codes used in the industry to specify the land use. For example, a Single Family Residential property land use type may be Single Family Class II (0102), Vacant Residential (0000), Vacant Lake View (0035), etc. We don't need these further information. All we need to know is that the properties that we are looking at are under the umbrella of \"Single Family Residential.\""
   ]
  },
  {
   "cell_type": "markdown",
   "metadata": {},
   "source": [
    "`rawcensustractandblock` and `censustractandblock` contain census information that we are not concerned about in this project."
   ]
  },
  {
   "cell_type": "markdown",
   "metadata": {},
   "source": [
    "`roomcnt` has 37,588 properties with 0 rooms, so we are dropping this column."
   ]
  },
  {
   "cell_type": "markdown",
   "metadata": {},
   "source": [
    "`fips` and `regionidcounty` have cotain the same information. We will keep the `fips` column."
   ]
  },
  {
   "cell_type": "markdown",
   "metadata": {},
   "source": [
    "`regionidzip` and `regionidcity` are location-based columns which do not give much added information on the properties' location given that we have `latitude` and `longitude`. These columns are dropped."
   ]
  },
  {
   "cell_type": "markdown",
   "metadata": {},
   "source": [
    "All wrangled observation have \"2016\" as values in the `assessmentyear` which is not adding value to the analysis."
   ]
  },
  {
   "cell_type": "markdown",
   "metadata": {},
   "source": [
    "`propertylandusedesc` is dropped because it only displays \"Single Family Residential\" which was helpful in the filtering phase but not useful in the analysis."
   ]
  },
  {
   "cell_type": "markdown",
   "metadata": {},
   "source": [
    "Call `clean_columns` from the `prep` module to drop the columns we stated above."
   ]
  },
  {
   "cell_type": "code",
   "execution_count": 6,
   "metadata": {},
   "outputs": [],
   "source": [
    "df = prep.clean_columns(df)"
   ]
  },
  {
   "cell_type": "markdown",
   "metadata": {},
   "source": [
    "**Handle Nulls for Relevant Columns**"
   ]
  },
  {
   "cell_type": "code",
   "execution_count": 7,
   "metadata": {},
   "outputs": [
    {
     "data": {
      "text/plain": [
       "bathroomcnt                       0\n",
       "bedroomcnt                        0\n",
       "calculatedfinishedsquarefeet     81\n",
       "fips                              0\n",
       "latitude                          0\n",
       "longitude                         0\n",
       "lotsizesquarefeet               362\n",
       "yearbuilt                       114\n",
       "structuretaxvaluedollarcnt       79\n",
       "taxvaluedollarcnt                 1\n",
       "landtaxvaluedollarcnt             1\n",
       "taxamount                         4\n",
       "id.1                              0\n",
       "logerror                          0\n",
       "transactiondate                   0\n",
       "dtype: int64"
      ]
     },
     "execution_count": 7,
     "metadata": {},
     "output_type": "execute_result"
    }
   ],
   "source": [
    "# Let's look at the remaining null values\n",
    "df.isnull().sum()"
   ]
  },
  {
   "cell_type": "markdown",
   "metadata": {},
   "source": [
    "_Calculated Finished Square Feet, Structure Tax Value Dollar Count_ -  observations that have missing values in either `calculatedfinishedsquarefeet` (71 rows) or  `structuretaxvaluedollarcnt` (69 rows), both (10 rows) are dropped, removing a total of 150 observations."
   ]
  },
  {
   "cell_type": "markdown",
   "metadata": {},
   "source": [
    "_Tax Value Dollar Count, Land Tax Value Dollar Count_ - there are a handful of observations with missing values in the columns `taxvaluedollarcnt` (1 row), `landtaxvaluedollarcnt` (1 row), `taxamount` (4 rows)."
   ]
  },
  {
   "cell_type": "markdown",
   "metadata": {},
   "source": [
    "_Year Built_ - After all the above removals, `yearbuilt` have a total of 38 missing values which are dropped because of the manageable size."
   ]
  },
  {
   "cell_type": "markdown",
   "metadata": {},
   "source": [
    "Call `drop_minimal_nulls` from the `prep` module to drop the missing observations as explained above."
   ]
  },
  {
   "cell_type": "code",
   "execution_count": 8,
   "metadata": {},
   "outputs": [],
   "source": [
    "df = prep.drop_minimal_nulls(df)"
   ]
  },
  {
   "cell_type": "code",
   "execution_count": 9,
   "metadata": {},
   "outputs": [
    {
     "name": "stdout",
     "output_type": "stream",
     "text": [
      "<class 'pandas.core.frame.DataFrame'>\n",
      "Int64Index: 52101 entries, 77578 to 0\n",
      "Data columns (total 15 columns):\n",
      "bathroomcnt                     52101 non-null float64\n",
      "bedroomcnt                      52101 non-null int64\n",
      "calculatedfinishedsquarefeet    52101 non-null float64\n",
      "fips                            52101 non-null int64\n",
      "latitude                        52101 non-null int64\n",
      "longitude                       52101 non-null int64\n",
      "lotsizesquarefeet               51761 non-null float64\n",
      "yearbuilt                       52101 non-null float64\n",
      "structuretaxvaluedollarcnt      52101 non-null float64\n",
      "taxvaluedollarcnt               52101 non-null float64\n",
      "landtaxvaluedollarcnt           52101 non-null float64\n",
      "taxamount                       52101 non-null float64\n",
      "id.1                            52101 non-null int64\n",
      "logerror                        52101 non-null float64\n",
      "transactiondate                 52101 non-null object\n",
      "dtypes: float64(9), int64(5), object(1)\n",
      "memory usage: 6.4+ MB\n"
     ]
    }
   ],
   "source": [
    "df.info()"
   ]
  },
  {
   "cell_type": "markdown",
   "metadata": {},
   "source": [
    "After handling all missing values, we now have a clean data set with 52,101 observations!"
   ]
  },
  {
   "cell_type": "markdown",
   "metadata": {},
   "source": [
    "### B. Rename and reorder columns"
   ]
  },
  {
   "cell_type": "markdown",
   "metadata": {},
   "source": [
    "`pretty_cols` is a function from the `prep` module that lets us rename the remaining features with more intuitive names for two purposes:\n",
    " - understandability - we know exactly what we are looking at\n",
    " - efficiency - easier to remember and call on our codes later; it can minimize errors based on typo mistakes too!"
   ]
  },
  {
   "cell_type": "code",
   "execution_count": 10,
   "metadata": {},
   "outputs": [],
   "source": [
    "df = prep.pretty_cols(df)"
   ]
  },
  {
   "cell_type": "code",
   "execution_count": 11,
   "metadata": {},
   "outputs": [
    {
     "name": "stdout",
     "output_type": "stream",
     "text": [
      "\n",
      "      These are the remaining features after handling all the missing values:\n",
      "      ['countyid', 'latitude', 'longitude', 'yearbuilt', 'bathroomcnt', 'bedroomcnt', 'house_area', 'whole_area', 'house_value', 'land_value', 'whole_value', 'taxamount', 'logerror', 'transactiondate']\n",
      "      \n"
     ]
    }
   ],
   "source": [
    "print(f\"\"\"\n",
    "      These are the remaining features after handling all the missing values:\n",
    "      {list(df.columns)}\n",
    "      \"\"\")"
   ]
  },
  {
   "cell_type": "markdown",
   "metadata": {},
   "source": [
    "### C. Derive Features"
   ]
  },
  {
   "cell_type": "markdown",
   "metadata": {},
   "source": [
    "Derive `taxrate` from `taxamount` and `taxvaluedollarcnt` using the `cal_taxrate` function."
   ]
  },
  {
   "cell_type": "code",
   "execution_count": 12,
   "metadata": {},
   "outputs": [],
   "source": [
    "df = prep.cal_taxrate(df)"
   ]
  },
  {
   "cell_type": "markdown",
   "metadata": {},
   "source": [
    "As all transactions are in 2017, take only the month from the transaction date for the exploration phase."
   ]
  },
  {
   "cell_type": "code",
   "execution_count": 13,
   "metadata": {},
   "outputs": [],
   "source": [
    "df = prep.define_month(df)"
   ]
  },
  {
   "cell_type": "markdown",
   "metadata": {},
   "source": [
    "### D. Split Train and Test"
   ]
  },
  {
   "cell_type": "markdown",
   "metadata": {},
   "source": [
    "Split dataframe into train and test using the `split_my_data` function from `split_scale` module. The random seed was set to 123 for reproducibility."
   ]
  },
  {
   "cell_type": "code",
   "execution_count": 14,
   "metadata": {},
   "outputs": [],
   "source": [
    "train, test = split_scale.split_my_data(df, .80)"
   ]
  },
  {
   "cell_type": "code",
   "execution_count": 15,
   "metadata": {},
   "outputs": [
    {
     "name": "stdout",
     "output_type": "stream",
     "text": [
      "Train Data\n",
      "<class 'pandas.core.frame.DataFrame'>\n",
      "Int64Index: 41680 entries, 28235 to 54472\n",
      "Data columns (total 14 columns):\n",
      "countyid       41680 non-null int64\n",
      "latitude       41680 non-null int64\n",
      "longitude      41680 non-null int64\n",
      "yearbuilt      41680 non-null float64\n",
      "bathroomcnt    41680 non-null float64\n",
      "bedroomcnt     41680 non-null int64\n",
      "house_area     41680 non-null float64\n",
      "whole_area     41405 non-null float64\n",
      "house_value    41680 non-null float64\n",
      "land_value     41680 non-null float64\n",
      "whole_value    41680 non-null float64\n",
      "logerror       41680 non-null float64\n",
      "taxrate        41680 non-null float64\n",
      "month          41680 non-null int64\n",
      "dtypes: float64(9), int64(5)\n",
      "memory usage: 4.8 MB\n",
      "None\n",
      "\n",
      "Test Data\n",
      "<class 'pandas.core.frame.DataFrame'>\n",
      "Int64Index: 10421 entries, 37917 to 44340\n",
      "Data columns (total 14 columns):\n",
      "countyid       10421 non-null int64\n",
      "latitude       10421 non-null int64\n",
      "longitude      10421 non-null int64\n",
      "yearbuilt      10421 non-null float64\n",
      "bathroomcnt    10421 non-null float64\n",
      "bedroomcnt     10421 non-null int64\n",
      "house_area     10421 non-null float64\n",
      "whole_area     10356 non-null float64\n",
      "house_value    10421 non-null float64\n",
      "land_value     10421 non-null float64\n",
      "whole_value    10421 non-null float64\n",
      "logerror       10421 non-null float64\n",
      "taxrate        10421 non-null float64\n",
      "month          10421 non-null int64\n",
      "dtypes: float64(9), int64(5)\n",
      "memory usage: 1.2 MB\n",
      "None\n"
     ]
    }
   ],
   "source": [
    "print(\"Train Data\")\n",
    "print(train.info())\n",
    "print()\n",
    "print(\"Test Data\")\n",
    "print(test.info())"
   ]
  },
  {
   "cell_type": "markdown",
   "metadata": {},
   "source": [
    "### E. Impute remaining nulls"
   ]
  },
  {
   "cell_type": "markdown",
   "metadata": {},
   "source": [
    "`whole_area` still contain null values (275 rows on train, 65 rows on test). Because of the number, we determined that imputing based on a derived values based on values that we do know.\n",
    "\n",
    "It is important to note that the imputing process has to be done after the split because we want to calculate the imputed values based on a value derived from the train data exclusively."
   ]
  },
  {
   "cell_type": "code",
   "execution_count": 16,
   "metadata": {},
   "outputs": [
    {
     "name": "stdout",
     "output_type": "stream",
     "text": [
      "countyid         0\n",
      "latitude         0\n",
      "longitude        0\n",
      "yearbuilt        0\n",
      "bathroomcnt      0\n",
      "bedroomcnt       0\n",
      "house_area       0\n",
      "whole_area     275\n",
      "house_value      0\n",
      "land_value       0\n",
      "whole_value      0\n",
      "logerror         0\n",
      "taxrate          0\n",
      "month            0\n",
      "dtype: int64\n",
      "\n",
      "countyid        0\n",
      "latitude        0\n",
      "longitude       0\n",
      "yearbuilt       0\n",
      "bathroomcnt     0\n",
      "bedroomcnt      0\n",
      "house_area      0\n",
      "whole_area     65\n",
      "house_value     0\n",
      "land_value      0\n",
      "whole_value     0\n",
      "logerror        0\n",
      "taxrate         0\n",
      "month           0\n",
      "dtype: int64\n"
     ]
    }
   ],
   "source": [
    "print(train.isnull().sum())\n",
    "print()\n",
    "print(test.isnull().sum())"
   ]
  },
  {
   "cell_type": "markdown",
   "metadata": {},
   "source": [
    "The process for imputing `whole_area` is the less straightforward compared to the missing values above.\n",
    "\n",
    "In essence, `whole_area` is the sum of the area of the land without structure (land or dirt) and the finished space (structure or house).\n",
    "\n",
    "The process for filling the missing values on `whole_area` is as follows:\n",
    "\n",
    "1. Derive the total tax dollar amount of the lot by adding the tax value of the land and the tax value of the structure\n",
    "\n",
    "  $ value_{lot} = value_{land} + value_{structure} $\n",
    "  \n",
    "  \n",
    "2. Get the proportion of the lot area and the lot tax value from non-missing values.\n",
    "\n",
    "  $ proportion = \\frac {area_{lot}}{value_{lot}} $\n",
    "  \n",
    "\n",
    "3. There were unrealistic proportions which seem to come from properties that have a big lot area but low tax value. At 75 percentile, we see a proportion of 0.041 and a mean of 0.048. Because of this, we are confident to take the mean of all proportions less than 1 (proportion < 1). The mean will inform us a generalized value for the lot square footage, i.e., $area_{lot}$, given the total lot value, i.e., $value_{lot}$.\n",
    "\n",
    "  \n",
    "4. Impute the nulls in the `whole_area` aka $area_{lot}$ using the derived formula:\n",
    "\n",
    "  $ area_{lot} = value_{lot} * \\mu_{proportion} $"
   ]
  },
  {
   "cell_type": "code",
   "execution_count": 17,
   "metadata": {},
   "outputs": [],
   "source": [
    "train, test = prep.impute_lotsize_nulls(train, test)"
   ]
  },
  {
   "cell_type": "markdown",
   "metadata": {},
   "source": [
    "The derivations are from the value of the train but imputation were made to both train and test so we have a clean data to work with moving forward."
   ]
  },
  {
   "cell_type": "markdown",
   "metadata": {},
   "source": [
    "Now that we have complete values for the `whole_area` column, we can calculate the land area by subtracting `whole_area` i.e., the entire lot, and the `house_area`, i.e., the total finished area. `cal_land_area` function accomplishes this computation and feature addition."
   ]
  },
  {
   "cell_type": "code",
   "execution_count": 18,
   "metadata": {},
   "outputs": [],
   "source": [
    "train = prep.cal_land_area(train)\n",
    "test = prep.cal_land_area(test)"
   ]
  },
  {
   "cell_type": "markdown",
   "metadata": {},
   "source": [
    "## Explore"
   ]
  },
  {
   "cell_type": "markdown",
   "metadata": {},
   "source": [
    "All the functions we used to explore the data are from the `explore` module."
   ]
  },
  {
   "cell_type": "markdown",
   "metadata": {},
   "source": [
    "**Questions we want to answer from the exploratory phase:**\n",
    "\n",
    "1. What are the distribution of data based on the present features? Are there anything that's worth noting?\n",
    "2. Are there distinguishable clusters per month/season? In other words, can we find distinct groups of transactions within the active months of 2017? Are there more types of houses/locations sold in a particular period of the year?\n",
    "3. Are there distinguishable clusters in the properties' age (based on `yearbuilt`)? Based on the properties' age, can we find groups of properties that have comparable features or location?\n",
    "4. Grouping the features based on their intrinsic traits (house-based, location-based, valuation-based features), what are the respective features that correlate to logerror (feature vs target) and with each other (feature vs feature). Knowing these will guide further exploration and the features to maintain and drop.\n",
    "5. Are there specific clusters that generate logerror?"
   ]
  },
  {
   "cell_type": "markdown",
   "metadata": {},
   "source": [
    "<div class=\"alert alert-block alert-info\">\n",
    "<b>QUESTION 1:</b>  \n",
    "What are the distribution of data based on the remaining features? Are there anything that's worth noting?\n",
    "</div>"
   ]
  },
  {
   "cell_type": "markdown",
   "metadata": {},
   "source": [
    "Using distribution plot and value counts, let's take a peek at the features we have."
   ]
  },
  {
   "cell_type": "code",
   "execution_count": 19,
   "metadata": {},
   "outputs": [
    {
     "data": {
      "image/png": "[encoded data removed]",
      "text/plain": [
       "<Figure size 432x288 with 1 Axes>"
      ]
     },
     "metadata": {
      "needs_background": "light"
     },
     "output_type": "display_data"
    },
    {
     "name": "stdout",
     "output_type": "stream",
     "text": [
      "6037    26935\n",
      "6059    11286\n",
      "6111     3459\n",
      "Name: countyid, dtype: int64\n"
     ]
    },
    {
     "data": {
      "image/png": "[encoded data removed]",
      "text/plain": [
       "<Figure size 432x288 with 1 Axes>"
      ]
     },
     "metadata": {
      "needs_background": "light"
     },
     "output_type": "display_data"
    },
    {
     "name": "stdout",
     "output_type": "stream",
     "text": [
      "(33339141.852, 33488434.7]     604\n",
      "(33488434.7, 33636249.4]      2592\n",
      "(33636249.4, 33784064.1]      4821\n",
      "(33784064.1, 33931878.8]      8734\n",
      "(33931878.8, 34079693.5]      7230\n",
      "(34079693.5, 34227508.2]      9859\n",
      "(34227508.2, 34375322.9]      3678\n",
      "(34375322.9, 34523137.6]      1455\n",
      "(34523137.6, 34670952.3]      1694\n",
      "(34670952.3, 34818767.0]      1013\n",
      "Name: latitude, dtype: int64\n"
     ]
    },
    {
     "data": {
      "image/png": "[encoded data removed]",
      "text/plain": [
       "<Figure size 432x288 with 1 Axes>"
      ]
     },
     "metadata": {
      "needs_background": "light"
     },
     "output_type": "display_data"
    },
    {
     "name": "stdout",
     "output_type": "stream",
     "text": [
      "(-119477336.044, -119283411.7]     119\n",
      "(-119283411.7, -119091407.4]      1025\n",
      "(-119091407.4, -118899403.1]       825\n",
      "(-118899403.1, -118707398.8]      1425\n",
      "(-118707398.8, -118515394.5]      3037\n",
      "(-118515394.5, -118323390.2]      7402\n",
      "(-118323390.2, -118131385.9]      8012\n",
      "(-118131385.9, -117939381.6]      8948\n",
      "(-117939381.6, -117747377.3]      7280\n",
      "(-117747377.3, -117555373.0]      3607\n",
      "Name: longitude, dtype: int64\n"
     ]
    },
    {
     "data": {
      "image/png": "[encoded data removed]",
      "text/plain": [
       "<Figure size 432x288 with 1 Axes>"
      ]
     },
     "metadata": {
      "needs_background": "light"
     },
     "output_type": "display_data"
    },
    {
     "name": "stdout",
     "output_type": "stream",
     "text": [
      "(1877.861, 1891.8]       20\n",
      "(1891.8, 1905.6]        141\n",
      "(1905.6, 1919.4]        826\n",
      "(1919.4, 1933.2]       3242\n",
      "(1933.2, 1947.0]       3905\n",
      "(1947.0, 1960.8]      12687\n",
      "(1960.8, 1974.6]       8201\n",
      "(1974.6, 1988.4]       5508\n",
      "(1988.4, 2002.2]       4719\n",
      "(2002.2, 2016.0]       2431\n",
      "Name: yearbuilt, dtype: int64\n"
     ]
    },
    {
     "data": {
      "image/png": "[encoded data removed]",
      "text/plain": [
       "<Figure size 432x288 with 1 Axes>"
      ]
     },
     "metadata": {
      "needs_background": "light"
     },
     "output_type": "display_data"
    },
    {
     "name": "stdout",
     "output_type": "stream",
     "text": [
      "2.0     17401\n",
      "3.0      8472\n",
      "1.0      7639\n",
      "2.5      3138\n",
      "4.0      1808\n",
      "3.5       733\n",
      "1.5       675\n",
      "5.0       635\n",
      "4.5       534\n",
      "6.0       252\n",
      "5.5       188\n",
      "7.0        70\n",
      "8.0        39\n",
      "6.5        37\n",
      "0.0        28\n",
      "7.5        13\n",
      "9.0        10\n",
      "10.0        3\n",
      "8.5         2\n",
      "11.0        2\n",
      "13.0        1\n",
      "Name: bathroomcnt, dtype: int64\n"
     ]
    },
    {
     "data": {
      "image/png": "[encoded data removed]",
      "text/plain": [
       "<Figure size 432x288 with 1 Axes>"
      ]
     },
     "metadata": {
      "needs_background": "light"
     },
     "output_type": "display_data"
    },
    {
     "name": "stdout",
     "output_type": "stream",
     "text": [
      "3     18606\n",
      "4     12129\n",
      "2      6655\n",
      "5      3181\n",
      "6       497\n",
      "1       464\n",
      "7        81\n",
      "0        42\n",
      "8        18\n",
      "9         5\n",
      "10        2\n",
      "Name: bedroomcnt, dtype: int64\n"
     ]
    },
    {
     "data": {
      "image/png": "[encoded data removed]",
      "text/plain": [
       "<Figure size 432x288 with 1 Axes>"
      ]
     },
     "metadata": {
      "needs_background": "light"
     },
     "output_type": "display_data"
    },
    {
     "name": "stdout",
     "output_type": "stream",
     "text": [
      "(106.198, 2308.1]     31269\n",
      "(2308.1, 4488.2]       9457\n",
      "(4488.2, 6668.3]        790\n",
      "(6668.3, 8848.4]        119\n",
      "(8848.4, 11028.5]        31\n",
      "(11028.5, 13208.6]        9\n",
      "(13208.6, 15388.7]        1\n",
      "(15388.7, 17568.8]        2\n",
      "(17568.8, 19748.9]        0\n",
      "(19748.9, 21929.0]        2\n",
      "Name: house_area, dtype: int64\n"
     ]
    },
    {
     "data": {
      "image/png": "[encoded data removed]",
      "text/plain": [
       "<Figure size 432x288 with 1 Axes>"
      ]
     },
     "metadata": {
      "needs_background": "light"
     },
     "output_type": "display_data"
    },
    {
     "name": "stdout",
     "output_type": "stream",
     "text": [
      "(-9303.114, 694880.3]     41665\n",
      "(694880.3, 1392091.6]         7\n",
      "(1392091.6, 2089302.9]        0\n",
      "(2089302.9, 2786514.2]        1\n",
      "(2786514.2, 3483725.5]        0\n",
      "(3483725.5, 4180936.8]        0\n",
      "(4180936.8, 4878148.1]        0\n",
      "(4878148.1, 5575359.4]        0\n",
      "(5575359.4, 6272570.7]        0\n",
      "(6272570.7, 6969782.0]        7\n",
      "Name: land_area, dtype: int64\n"
     ]
    },
    {
     "data": {
      "image/png": "[encoded data removed]",
      "text/plain": [
       "<Figure size 432x288 with 1 Axes>"
      ]
     },
     "metadata": {
      "needs_background": "light"
     },
     "output_type": "display_data"
    },
    {
     "name": "stdout",
     "output_type": "stream",
     "text": [
      "(-6734.775000000001, 697313.4]    41665\n",
      "(697313.4, 1394390.8]                 7\n",
      "(1394390.8, 2091468.2]                0\n",
      "(2091468.2, 2788545.6]                1\n",
      "(2788545.6, 3485623.0]                0\n",
      "(3485623.0, 4182700.4]                0\n",
      "(4182700.4, 4879777.8]                0\n",
      "(4879777.8, 5576855.2]                0\n",
      "(5576855.2, 6273932.6]                0\n",
      "(6273932.6, 6971010.0]                7\n",
      "Name: whole_area, dtype: int64\n"
     ]
    },
    {
     "data": {
      "image/png": "[encoded data removed]",
      "text/plain": [
       "<Figure size 432x288 with 1 Axes>"
      ]
     },
     "metadata": {
      "needs_background": "light"
     },
     "output_type": "display_data"
    },
    {
     "name": "stdout",
     "output_type": "stream",
     "text": [
      "(-9035.773000000001, 916606.2]    40965\n",
      "(916606.2, 1833083.4]               591\n",
      "(1833083.4, 2749560.6]               79\n",
      "(2749560.6, 3666037.8]               29\n",
      "(3666037.8, 4582515.0]                6\n",
      "(4582515.0, 5498992.2]                3\n",
      "(5498992.2, 6415469.4]                1\n",
      "(6415469.4, 7331946.6]                1\n",
      "(7331946.6, 8248423.8]                4\n",
      "(8248423.8, 9164901.0]                1\n",
      "Name: house_value, dtype: int64\n"
     ]
    },
    {
     "data": {
      "image/png": "[encoded data removed]",
      "text/plain": [
       "<Figure size 432x288 with 1 Axes>"
      ]
     },
     "metadata": {
      "needs_background": "light"
     },
     "output_type": "display_data"
    },
    {
     "name": "stdout",
     "output_type": "stream",
     "text": [
      "(-18113.34, 1827594.9]      41093\n",
      "(1827594.9, 3655028.8]        459\n",
      "(3655028.8, 5482462.7]         76\n",
      "(5482462.7, 7309896.6]         31\n",
      "(7309896.6, 9137330.5]          9\n",
      "(9137330.5, 10964764.4]         5\n",
      "(10964764.4, 12792198.3]        3\n",
      "(12792198.3, 14619632.2]        1\n",
      "(14619632.2, 16447066.1]        2\n",
      "(16447066.1, 18274500.0]        1\n",
      "Name: land_value, dtype: int64\n"
     ]
    },
    {
     "data": {
      "image/png": "[encoded data removed]",
      "text/plain": [
       "<Figure size 432x288 with 1 Axes>"
      ]
     },
     "metadata": {
      "needs_background": "light"
     },
     "output_type": "display_data"
    },
    {
     "name": "stdout",
     "output_type": "stream",
     "text": [
      "(-20601.121, 2388766.0]     40929\n",
      "(2388766.0, 4774278.0]        595\n",
      "(4774278.0, 7159790.0]        104\n",
      "(7159790.0, 9545302.0]         27\n",
      "(9545302.0, 11930814.0]        10\n",
      "(11930814.0, 14316326.0]        7\n",
      "(14316326.0, 16701838.0]        2\n",
      "(16701838.0, 19087350.0]        2\n",
      "(19087350.0, 21472862.0]        2\n",
      "(21472862.0, 23858374.0]        2\n",
      "Name: whole_value, dtype: int64\n"
     ]
    },
    {
     "data": {
      "image/png": "[encoded data removed]",
      "text/plain": [
       "<Figure size 432x288 with 1 Axes>"
      ]
     },
     "metadata": {
      "needs_background": "light"
     },
     "output_type": "display_data"
    },
    {
     "name": "stdout",
     "output_type": "stream",
     "text": [
      "(-0.0014, 0.0494]    41611\n",
      "(0.0494, 0.0988]        50\n",
      "(0.0988, 0.148]         12\n",
      "(0.148, 0.198]           2\n",
      "(0.198, 0.247]           1\n",
      "(0.247, 0.296]           1\n",
      "(0.296, 0.346]           1\n",
      "(0.346, 0.395]           0\n",
      "(0.395, 0.444]           0\n",
      "(0.444, 0.494]           2\n",
      "Name: taxrate, dtype: int64\n"
     ]
    },
    {
     "data": {
      "image/png": "[encoded data removed]",
      "text/plain": [
       "<Figure size 432x288 with 1 Axes>"
      ]
     },
     "metadata": {
      "needs_background": "light"
     },
     "output_type": "display_data"
    },
    {
     "name": "stdout",
     "output_type": "stream",
     "text": [
      "(-4.664000000000001, -3.85]        2\n",
      "(-3.85, -3.045]                    0\n",
      "(-3.045, -2.24]                   13\n",
      "(-2.24, -1.435]                   15\n",
      "(-1.435, -0.63]                   99\n",
      "(-0.63, 0.175]                 39273\n",
      "(0.175, 0.98]                   2120\n",
      "(0.98, 1.785]                     85\n",
      "(1.785, 2.59]                     65\n",
      "(2.59, 3.395]                      8\n",
      "Name: logerror, dtype: int64\n"
     ]
    },
    {
     "data": {
      "image/png": "[encoded data removed]",
      "text/plain": [
       "<Figure size 432x288 with 1 Axes>"
      ]
     },
     "metadata": {
      "needs_background": "light"
     },
     "output_type": "display_data"
    },
    {
     "name": "stdout",
     "output_type": "stream",
     "text": [
      "6    6229\n",
      "5    5693\n",
      "8    5342\n",
      "7    5165\n",
      "3    4948\n",
      "4    4619\n",
      "1    3741\n",
      "2    3336\n",
      "9    2607\n",
      "Name: month, dtype: int64\n"
     ]
    }
   ],
   "source": [
    "explore.features_num_values(train)"
   ]
  },
  {
   "cell_type": "code",
   "execution_count": 20,
   "metadata": {},
   "outputs": [
    {
     "data": {
      "text/plain": [
       "373759.5"
      ]
     },
     "execution_count": 20,
     "metadata": {},
     "output_type": "execute_result"
    }
   ],
   "source": [
    "train.whole_value.median()"
   ]
  },
  {
   "cell_type": "markdown",
   "metadata": {},
   "source": [
    "<div class=\"alert alert-block alert-info\">\n",
    "<b>TAKEAWAYS:</b>  \n",
    "    \n",
    "- In the three counties that we are surveying, a notably large volume of houses were built in mid-1940s (post-war) to late-1950s.  \n",
    "- Typical bathroom count is 2.  \n",
    "- Typical bedroom count is 3.  \n",
    "- Most properties in our data have a ~4500 sqft or less.  \n",
    "- There are a handful (8) of properties in our data that are situated in a total land area of more than 15 acres.\n",
    "- A typical property (land and house) in the three counties grosses to around \\$ 374,000\n",
    "</div>"
   ]
  },
  {
   "cell_type": "markdown",
   "metadata": {},
   "source": [
    "<div class=\"alert alert-block alert-info\">\n",
    "<b>QUESTION 2:</b>  \n",
    "Are there distinguishable clusters per month/season? In other words, can we find distinct groups of transactions within the active months of 2017? Are there more types of houses/locations sold in a particular period of the year?\n",
    "</div>"
   ]
  },
  {
   "cell_type": "markdown",
   "metadata": {},
   "source": [
    "Look for clusters in months."
   ]
  },
  {
   "cell_type": "code",
   "execution_count": 21,
   "metadata": {},
   "outputs": [],
   "source": [
    "# explore.k_cluster_all(train, \"month\", 5)"
   ]
  },
  {
   "cell_type": "markdown",
   "metadata": {},
   "source": [
    "<div class=\"alert alert-block alert-info\">\n",
    "<b>TAKEAWAY:</b>  \n",
    "    \n",
    "- There are no distinct clusters (house properties, location) by looking at specific features.\n",
    "</div>"
   ]
  },
  {
   "cell_type": "markdown",
   "metadata": {},
   "source": [
    "<div class=\"alert alert-block alert-info\">\n",
    "<b>QUESTION 3:</b>  \n",
    "Are there distinguishable clusters in the properties' age (based on yearbuilt)? Based on the properties' age, can we find groups of properties that have comparable features or location?\n",
    "</div>"
   ]
  },
  {
   "cell_type": "code",
   "execution_count": 22,
   "metadata": {},
   "outputs": [],
   "source": [
    "# explore.k_cluster_all(train, \"yearbuilt\", 5)"
   ]
  },
  {
   "cell_type": "markdown",
   "metadata": {},
   "source": [
    "<div class=\"alert alert-block alert-info\">\n",
    "<b>TAKEAWAY:</b>  \n",
    "    \n",
    "- There are distinguishable clusters in `land_value` and `house_value` when mapped across year built. This informs us that `yearbuilt` gives information that we may want to include as an intrinsic trait of the property. Therefore, we will keep this feature.\n",
    "\n",
    "- It is interesting to note that there are no pre-1920 properties that are valuated above 2M, unlike properties built at a later time."
   ]
  },
  {
   "cell_type": "code",
   "execution_count": 23,
   "metadata": {},
   "outputs": [],
   "source": [
    "# explore.k_cluster_all(train, \"latitude\", 5)"
   ]
  },
  {
   "cell_type": "code",
   "execution_count": 24,
   "metadata": {},
   "outputs": [],
   "source": [
    "# explore.k_cluster_all(train, \"longitude\", 5)"
   ]
  },
  {
   "cell_type": "markdown",
   "metadata": {},
   "source": [
    "There are noticable clusters in latitude and longitude. As well as latitude and longitude with house area. Will explore both more. "
   ]
  },
  {
   "cell_type": "code",
   "execution_count": 25,
   "metadata": {},
   "outputs": [],
   "source": [
    "# explore.elbow(train[[\"latitude\",\"longitude\"]])"
   ]
  },
  {
   "cell_type": "code",
   "execution_count": 26,
   "metadata": {},
   "outputs": [],
   "source": [
    "# explore.k_cluster_2d(train, \"latitude\", \"longitude\", 7, 3)"
   ]
  },
  {
   "cell_type": "markdown",
   "metadata": {},
   "source": [
    "We will use a temporary data frame `train_ex` with all the attributes (inclusing logerror, our target) scaled for the exploration phase to enable us to liberally use statistical methods like pearson's correlation and t-test later.\n",
    "\n",
    "`train_ex` is an exploration-version of train:\n",
    "    - without the transaction date\n",
    "    - scaled to normal distribution"
   ]
  },
  {
   "cell_type": "markdown",
   "metadata": {},
   "source": [
    "The scaler function from the `split_scale` module requires a test data frame as a parameter. Hence, even though we will not use `test_ex` in the exploration phase, we will feed it into the scaler and set it aside."
   ]
  },
  {
   "cell_type": "code",
   "execution_count": 27,
   "metadata": {},
   "outputs": [],
   "source": [
    "train_ex = train[[\"logerror\",\"bathroomcnt\",\"bedroomcnt\",\"house_area\",\"land_area\",\"whole_area\",\n",
    "                  \"yearbuilt\",\"latitude\",\"longitude\",\"taxrate\",\"house_value\",\"land_value\",\"whole_value\"]]\n",
    "test_ex = test[[\"logerror\",\"bathroomcnt\",\"bedroomcnt\",\"house_area\",\"land_area\",\"whole_area\",\n",
    "                \"yearbuilt\",\"latitude\",\"longitude\",\"taxrate\",\"house_value\",\"land_value\",\"whole_value\"]]"
   ]
  },
  {
   "cell_type": "code",
   "execution_count": 28,
   "metadata": {},
   "outputs": [],
   "source": [
    "train_ex, test_ex, scaler = split_scale.standard_scaler(train_ex, test_ex)"
   ]
  },
  {
   "cell_type": "markdown",
   "metadata": {},
   "source": [
    "It would be a challenge to explore with all the features, let's separate them in groups that make sense:\n",
    "\n",
    "- Home-based features\n",
    "- Location-based features\n",
    "- Valuation-based (or money-related) features"
   ]
  },
  {
   "cell_type": "code",
   "execution_count": 29,
   "metadata": {},
   "outputs": [],
   "source": [
    "train_ex_home = train_ex[[\"logerror\",\"bathroomcnt\",\"bedroomcnt\",\"house_area\",\"land_area\",\"whole_area\",\"yearbuilt\"]]\n",
    "train_ex_loc = train_ex[[\"logerror\",\"latitude\",\"longitude\",\"taxrate\"]]\n",
    "train_ex_val = train_ex[[\"logerror\",\"house_value\",\"land_value\",\"whole_value\"]]"
   ]
  },
  {
   "cell_type": "code",
   "execution_count": 30,
   "metadata": {},
   "outputs": [],
   "source": [
    "# sns.pairplot(train_ex_home)\n",
    "# plt.show()"
   ]
  },
  {
   "cell_type": "code",
   "execution_count": 31,
   "metadata": {},
   "outputs": [],
   "source": [
    "# sns.heatmap(train_ex_home.corr(), annot=True)\n",
    "# plt.show()"
   ]
  },
  {
   "cell_type": "markdown",
   "metadata": {},
   "source": [
    "`bathroomcnt` and `bedroomcnt` have strong positive correlation with `house_area`. These features can be dropped. Likewise, `land_area` is a derivative of the data we know previously which was `whole_area` (prev. lotsize) so they're very strongly correlated. We can drop the `whole_area` for now.\n",
    "  \n",
    "Recall that `land_area` is a derived feature from finished sqft and lot size. We inferred that a big house, does not always entail a big land which is why we separated land and house area in the first place. Seeing a low (0.15) correlation between `land_area` and `house_area` confirms that it was a good move to separate these features.\n",
    "  \n",
    "It's also interesting to note that `house_area` has a fairly strong positive correlation with `yearbuilt` and it's probably due to the style of house built during that era (craftsman, neoclassical, ranch style, etc.). Even if they are correlated, year built provides a distinct information on the property so we will keep it."
   ]
  },
  {
   "cell_type": "code",
   "execution_count": 32,
   "metadata": {},
   "outputs": [],
   "source": [
    "# sns.pairplot(train_ex_loc)\n",
    "# plt.show()"
   ]
  },
  {
   "cell_type": "code",
   "execution_count": 33,
   "metadata": {},
   "outputs": [],
   "source": [
    "# sns.heatmap(train_ex_loc.corr(),annot=True)\n",
    "# plt.show()"
   ]
  },
  {
   "cell_type": "markdown",
   "metadata": {},
   "source": [
    "No correlations stand out from the house group, but it's worth noting that `latitude` and `longitude` have strong negative correlation. It means that as we move eastwards, we move southwards, which geographically makes sense as we are considering counties in Los Angeles (forms a downsloping diagonal line).\n",
    "\n",
    "The `tax_rate` has some correlation with `latitude`."
   ]
  },
  {
   "cell_type": "code",
   "execution_count": 34,
   "metadata": {},
   "outputs": [],
   "source": [
    "# sns.pairplot(train_ex_val)\n",
    "# plt.show()"
   ]
  },
  {
   "cell_type": "code",
   "execution_count": 35,
   "metadata": {},
   "outputs": [],
   "source": [
    "# sns.heatmap(train_ex_val.corr(),annot=True)\n",
    "# plt.show()"
   ]
  },
  {
   "cell_type": "markdown",
   "metadata": {},
   "source": [
    "`whole_value` is the sum of `land_value` and `house_value`, so a positive high correlation of .95 and .85 is expected. We can drop `whole_value` as a feature for the model."
   ]
  },
  {
   "cell_type": "markdown",
   "metadata": {},
   "source": [
    "<div class=\"alert alert-block alert-info\">\n",
    "<b>TAKEAWAYS:</b>  \n",
    "    \n",
    "- None of the features seem to highly correlate with logerror. But it makes me think that its possibly because of two things:\n",
    "    1. Logerror is a derived feature. It's not as straightforward as property value.\n",
    "    2. Logerror is drived by a summation of different things, random and predictable. It's a multi-dimensional problem that needs more than x predicts y.\n",
    "- Pearson's r does not show statistical significance. Instead of thinking that none of these features drive logerror, it strengthens the idea of exploring clustering more to address the dimensionality of the features.\n",
    "- With the above being said, instead of using pearson's r to both (1) see strong drivers in explaining logerror, and (2) check for multicollinear features, we will only use it to address multicollinearity and inform us what features to drop.\n",
    "- **Features to Keep based on Pearson's Correlation**\n",
    " - Home Group  \n",
    "   - land_area  \n",
    "   - house_area  \n",
    "   - yearbuilt  \n",
    " - Location Group  \n",
    "   - latitude  \n",
    "   - longitude    \n",
    "   - taxrate  \n",
    " - Valuation Group  \n",
    "   - house_value  \n",
    "   - land_value  \n",
    "\n",
    "</div>"
   ]
  },
  {
   "cell_type": "markdown",
   "metadata": {},
   "source": [
    "### Feature Engineering"
   ]
  },
  {
   "cell_type": "markdown",
   "metadata": {},
   "source": [
    "Now that we have identified the most relevant features per group, we will explore if there are noticeable clusters in each feature group.\n",
    "\n",
    "We need to scale home and loc features because K-Means uses distance as a method for clustering. To maintain the relative distance of each data points while being synced to a uniform scale, we will use a MinMax scaler from the `split_scale` module."
   ]
  },
  {
   "cell_type": "code",
   "execution_count": 36,
   "metadata": {},
   "outputs": [],
   "source": [
    "train_home = train[[\"house_area\",\"land_area\",\"yearbuilt\"]]\n",
    "test_home = test[[\"house_area\",\"land_area\",\"yearbuilt\"]]\n",
    "\n",
    "train_loc = train[[\"latitude\",\"longitude\",\"taxrate\"]]\n",
    "test_loc = test[[\"latitude\",\"longitude\",\"taxrate\"]]\n",
    "\n",
    "train_val = train[[\"house_value\",\"land_value\"]]\n",
    "test_val = test[[\"house_value\",\"land_value\"]]"
   ]
  },
  {
   "cell_type": "code",
   "execution_count": 37,
   "metadata": {},
   "outputs": [],
   "source": [
    "train_home, test_home, scaler = split_scale.min_max_scaler(train_home, test_home)"
   ]
  },
  {
   "cell_type": "code",
   "execution_count": 38,
   "metadata": {},
   "outputs": [],
   "source": [
    "train_loc, test_loc, scaler = split_scale.min_max_scaler(train_loc, test_loc)"
   ]
  },
  {
   "cell_type": "markdown",
   "metadata": {},
   "source": [
    "Now, run each feature groups to see if there are identifiable clusters using the following steps:\n",
    "- Cluster and perform an elbow method to know the optimal number of clusters.\n",
    "- Plot using the same clusters to see if there are distinguishible clusters within feature groups."
   ]
  },
  {
   "cell_type": "code",
   "execution_count": 39,
   "metadata": {},
   "outputs": [],
   "source": [
    "# explore.elbow(train_home)"
   ]
  },
  {
   "cell_type": "markdown",
   "metadata": {},
   "source": [
    "The ideal amount of clusters appears to be 8. With this number of clusters, plot the data points with the features as dimensions."
   ]
  },
  {
   "cell_type": "code",
   "execution_count": 40,
   "metadata": {},
   "outputs": [],
   "source": [
    "# explore.k_cluster_3d(train_home,\"house_area\",\"yearbuilt\",\"land_area\", 8)"
   ]
  },
  {
   "cell_type": "markdown",
   "metadata": {},
   "source": [
    "Execute the same process for the location group."
   ]
  },
  {
   "cell_type": "code",
   "execution_count": 41,
   "metadata": {},
   "outputs": [],
   "source": [
    "# explore.elbow(train_loc)"
   ]
  },
  {
   "cell_type": "markdown",
   "metadata": {},
   "source": [
    "The ideal amount of clusters appears to be 7. "
   ]
  },
  {
   "cell_type": "code",
   "execution_count": 42,
   "metadata": {},
   "outputs": [],
   "source": [
    "# explore.k_cluster_3d(train_loc,\"longitude\",\"latitude\",\"taxrate\",7)"
   ]
  },
  {
   "cell_type": "code",
   "execution_count": 43,
   "metadata": {},
   "outputs": [],
   "source": [
    "# explore.elbow(train_val)"
   ]
  },
  {
   "cell_type": "markdown",
   "metadata": {},
   "source": [
    "The ideal amount of clusters appears to be 5."
   ]
  },
  {
   "cell_type": "code",
   "execution_count": 44,
   "metadata": {},
   "outputs": [],
   "source": [
    "# explore.k_cluster_2d(train_val, \"house_value\", \"land_value\", 5, n_min=5)"
   ]
  },
  {
   "cell_type": "code",
   "execution_count": null,
   "metadata": {},
   "outputs": [],
   "source": [
    "train_home_clusters = model.kmeans_model(train_home,8)\n",
    "train_loc_clusters = model.kmeans_model(train_loc,7)\n",
    "train_val_clusters = model.kmeans_model(train_loc,5)"
   ]
  },
  {
   "cell_type": "code",
   "execution_count": null,
   "metadata": {},
   "outputs": [],
   "source": [
    "clusters = pd.DataFrame({\"cluster_home\":train_home_clusters,\"cluster_loc\":train_loc_clusters,\"cluster_val\":train_val_clusters},index=train.index)\n",
    "train[[\"cluster_home\",\"cluster_loc\",\"cluster_val\"]] = clusters"
   ]
  },
  {
   "cell_type": "markdown",
   "metadata": {},
   "source": [
    "Using the `test_significance` function in the `explore` module, test each clusters for significance by comparing each cluster's logerror to the population logerror (one sample t-test)."
   ]
  },
  {
   "cell_type": "code",
   "execution_count": null,
   "metadata": {},
   "outputs": [],
   "source": [
    "explore.test_significance(train.cluster_home, train)"
   ]
  },
  {
   "cell_type": "code",
   "execution_count": null,
   "metadata": {},
   "outputs": [],
   "source": [
    "explore.test_significance(train.cluster_loc, train)"
   ]
  },
  {
   "cell_type": "code",
   "execution_count": null,
   "metadata": {},
   "outputs": [],
   "source": [
    "explore.test_significance(train.cluster_val, train)"
   ]
  },
  {
   "cell_type": "markdown",
   "metadata": {},
   "source": [
    "## Model"
   ]
  },
  {
   "cell_type": "code",
   "execution_count": null,
   "metadata": {},
   "outputs": [],
   "source": [
    "X_train = train[[\"house_area\",\"land_area\",\"yearbuilt\",\"latitude\",\"longitude\",\"taxrate\",\"house_value\",\"land_value\",\"cluster_val\",\"cluster_home\",\"cluster_home\"]]\n",
    "X_test = train[[\"house_area\",\"land_area\",\"yearbuilt\",\"latitude\",\"longitude\",\"taxrate\",\"house_value\",\"land_value\",\"cluster_val\",\"cluster_home\",\"cluster_home\"]]\n",
    "\n",
    "y_train = train.logerror\n",
    "y_test = test.logerror"
   ]
  },
  {
   "cell_type": "code",
   "execution_count": null,
   "metadata": {},
   "outputs": [],
   "source": [
    "from sklearn.linear_model import LassoCV\n",
    "\n",
    "lassom = LassoCV()\n",
    "lassom.fit(X_train, y_train)\n",
    "\n",
    "coef = pd.Series(lassom.coef_, index = X_train.columns)\n",
    "imp_coef = coef.sort_values()\n",
    "\n",
    "print(imp_coef)"
   ]
  },
  {
   "cell_type": "code",
   "execution_count": null,
   "metadata": {},
   "outputs": [],
   "source": [
    "X_train_scaled, X_test_scaled, scaler = split_scale.min_max_scaler(X_train, X_test)"
   ]
  },
  {
   "cell_type": "code",
   "execution_count": null,
   "metadata": {},
   "outputs": [],
   "source": [
    "train = model.linear_model(X_train_scaled,y_train,train)"
   ]
  },
  {
   "cell_type": "code",
   "execution_count": null,
   "metadata": {},
   "outputs": [],
   "source": [
    "median_abs_error, r2 = model.evaluate(train.logerror,yhat_lm1)"
   ]
  },
  {
   "cell_type": "code",
   "execution_count": null,
   "metadata": {},
   "outputs": [],
   "source": [
    "print(median_abs_error)\n",
    "print(r2)"
   ]
  },
  {
   "cell_type": "code",
   "execution_count": null,
   "metadata": {},
   "outputs": [],
   "source": [
    "# def evaluate(actual, predict):\n",
    "#     mae = median_absolute_error(actual,predict)\n",
    "#     r2 = r2_score(actual, predict)\n",
    "#     return mae, r2 "
   ]
  },
  {
   "cell_type": "code",
   "execution_count": null,
   "metadata": {},
   "outputs": [],
   "source": []
  }
 ],
 "metadata": {
  "kernelspec": {
   "display_name": "Python 3",
   "language": "python",
   "name": "python3"
  },
  "language_info": {
   "codemirror_mode": {
    "name": "ipython",
    "version": 3
   },
   "file_extension": ".py",
   "mimetype": "text/x-python",
   "name": "python",
   "nbconvert_exporter": "python",
   "pygments_lexer": "ipython3",
   "version": "3.7.3"
  }
 },
 "nbformat": 4,
 "nbformat_minor": 2
}
